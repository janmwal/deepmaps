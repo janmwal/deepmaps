{
 "cells": [
  {
   "cell_type": "markdown",
   "metadata": {},
   "source": [
    "## ANALYSIS"
   ]
  },
  {
   "cell_type": "code",
   "execution_count": 1,
   "metadata": {},
   "outputs": [],
   "source": [
    "import pandas as pd\n",
    "import numpy as np\n",
    "\n",
    "\n",
    "# TODO : split the projection dataset -> use 30% of the dataset (non-ground-truth samples only)\n",
    "df = pd.read_csv('/media/brainstimmaps/DATA/2009_DeepMaps01/04_Source/01_Development/deepmaps/data/processed/stn_space_3sigma/merged/flipped/VTAs/250um_table.csv')"
   ]
  },
  {
   "cell_type": "code",
   "execution_count": 2,
   "metadata": {},
   "outputs": [
    {
     "data": {
      "text/html": [
       "<div>\n",
       "<style scoped>\n",
       "    .dataframe tbody tr th:only-of-type {\n",
       "        vertical-align: middle;\n",
       "    }\n",
       "\n",
       "    .dataframe tbody tr th {\n",
       "        vertical-align: top;\n",
       "    }\n",
       "\n",
       "    .dataframe thead th {\n",
       "        text-align: right;\n",
       "    }\n",
       "</style>\n",
       "<table border=\"1\" class=\"dataframe\">\n",
       "  <thead>\n",
       "    <tr style=\"text-align: right;\">\n",
       "      <th></th>\n",
       "      <th>centerID</th>\n",
       "      <th>leadModel</th>\n",
       "      <th>patientID</th>\n",
       "      <th>contactID</th>\n",
       "      <th>verciseID</th>\n",
       "      <th>amplitude</th>\n",
       "      <th>massive_filename</th>\n",
       "      <th>mapping</th>\n",
       "      <th>mapping_score</th>\n",
       "      <th>part</th>\n",
       "      <th>lin_interp_score</th>\n",
       "      <th>step_interp_score</th>\n",
       "      <th>zeroed</th>\n",
       "      <th>tweening</th>\n",
       "      <th>tuning</th>\n",
       "    </tr>\n",
       "  </thead>\n",
       "  <tbody>\n",
       "    <tr>\n",
       "      <th>0</th>\n",
       "      <td>Bern</td>\n",
       "      <td>Boston Scientific Vercise</td>\n",
       "      <td>1.0</td>\n",
       "      <td>0.0</td>\n",
       "      <td>0</td>\n",
       "      <td>1.0</td>\n",
       "      <td>/media/brainstimmaps/DATA/2009_DeepMaps01/03_D...</td>\n",
       "      <td>0.0</td>\n",
       "      <td>NaN</td>\n",
       "      <td>1.0</td>\n",
       "      <td>0.074074</td>\n",
       "      <td>0.0</td>\n",
       "      <td>0.0</td>\n",
       "      <td>False</td>\n",
       "      <td>False</td>\n",
       "    </tr>\n",
       "    <tr>\n",
       "      <th>1</th>\n",
       "      <td>Bern</td>\n",
       "      <td>Boston Scientific Vercise</td>\n",
       "      <td>1.0</td>\n",
       "      <td>0.0</td>\n",
       "      <td>0</td>\n",
       "      <td>1.1</td>\n",
       "      <td>/media/brainstimmaps/DATA/2009_DeepMaps01/03_D...</td>\n",
       "      <td>0.0</td>\n",
       "      <td>NaN</td>\n",
       "      <td>1.0</td>\n",
       "      <td>0.081481</td>\n",
       "      <td>0.0</td>\n",
       "      <td>0.0</td>\n",
       "      <td>True</td>\n",
       "      <td>False</td>\n",
       "    </tr>\n",
       "    <tr>\n",
       "      <th>2</th>\n",
       "      <td>Bern</td>\n",
       "      <td>Boston Scientific Vercise</td>\n",
       "      <td>1.0</td>\n",
       "      <td>0.0</td>\n",
       "      <td>0</td>\n",
       "      <td>1.2</td>\n",
       "      <td>/media/brainstimmaps/DATA/2009_DeepMaps01/03_D...</td>\n",
       "      <td>0.0</td>\n",
       "      <td>NaN</td>\n",
       "      <td>1.0</td>\n",
       "      <td>0.088889</td>\n",
       "      <td>0.0</td>\n",
       "      <td>0.0</td>\n",
       "      <td>True</td>\n",
       "      <td>False</td>\n",
       "    </tr>\n",
       "    <tr>\n",
       "      <th>3</th>\n",
       "      <td>Bern</td>\n",
       "      <td>Boston Scientific Vercise</td>\n",
       "      <td>1.0</td>\n",
       "      <td>0.0</td>\n",
       "      <td>0</td>\n",
       "      <td>1.3</td>\n",
       "      <td>/media/brainstimmaps/DATA/2009_DeepMaps01/03_D...</td>\n",
       "      <td>0.0</td>\n",
       "      <td>NaN</td>\n",
       "      <td>1.0</td>\n",
       "      <td>0.096296</td>\n",
       "      <td>0.0</td>\n",
       "      <td>0.0</td>\n",
       "      <td>True</td>\n",
       "      <td>True</td>\n",
       "    </tr>\n",
       "    <tr>\n",
       "      <th>4</th>\n",
       "      <td>Bern</td>\n",
       "      <td>Boston Scientific Vercise</td>\n",
       "      <td>1.0</td>\n",
       "      <td>0.0</td>\n",
       "      <td>0</td>\n",
       "      <td>1.4</td>\n",
       "      <td>/media/brainstimmaps/DATA/2009_DeepMaps01/03_D...</td>\n",
       "      <td>0.0</td>\n",
       "      <td>NaN</td>\n",
       "      <td>1.0</td>\n",
       "      <td>0.103704</td>\n",
       "      <td>0.0</td>\n",
       "      <td>0.0</td>\n",
       "      <td>True</td>\n",
       "      <td>False</td>\n",
       "    </tr>\n",
       "    <tr>\n",
       "      <th>...</th>\n",
       "      <td>...</td>\n",
       "      <td>...</td>\n",
       "      <td>...</td>\n",
       "      <td>...</td>\n",
       "      <td>...</td>\n",
       "      <td>...</td>\n",
       "      <td>...</td>\n",
       "      <td>...</td>\n",
       "      <td>...</td>\n",
       "      <td>...</td>\n",
       "      <td>...</td>\n",
       "      <td>...</td>\n",
       "      <td>...</td>\n",
       "      <td>...</td>\n",
       "      <td>...</td>\n",
       "    </tr>\n",
       "    <tr>\n",
       "      <th>39682</th>\n",
       "      <td>Cologne</td>\n",
       "      <td>Boston Scientific Vercise</td>\n",
       "      <td>240.0</td>\n",
       "      <td>3.0</td>\n",
       "      <td>3</td>\n",
       "      <td>4.6</td>\n",
       "      <td>/media/brainstimmaps/DATA/2009_DeepMaps01/03_D...</td>\n",
       "      <td>0.0</td>\n",
       "      <td>NaN</td>\n",
       "      <td>0.0</td>\n",
       "      <td>0.500000</td>\n",
       "      <td>0.5</td>\n",
       "      <td>0.0</td>\n",
       "      <td>True</td>\n",
       "      <td>True</td>\n",
       "    </tr>\n",
       "    <tr>\n",
       "      <th>39683</th>\n",
       "      <td>Cologne</td>\n",
       "      <td>Boston Scientific Vercise</td>\n",
       "      <td>240.0</td>\n",
       "      <td>3.0</td>\n",
       "      <td>3</td>\n",
       "      <td>4.7</td>\n",
       "      <td>/media/brainstimmaps/DATA/2009_DeepMaps01/03_D...</td>\n",
       "      <td>0.0</td>\n",
       "      <td>NaN</td>\n",
       "      <td>0.0</td>\n",
       "      <td>0.500000</td>\n",
       "      <td>0.5</td>\n",
       "      <td>0.0</td>\n",
       "      <td>True</td>\n",
       "      <td>False</td>\n",
       "    </tr>\n",
       "    <tr>\n",
       "      <th>39684</th>\n",
       "      <td>Cologne</td>\n",
       "      <td>Boston Scientific Vercise</td>\n",
       "      <td>240.0</td>\n",
       "      <td>3.0</td>\n",
       "      <td>3</td>\n",
       "      <td>4.8</td>\n",
       "      <td>/media/brainstimmaps/DATA/2009_DeepMaps01/03_D...</td>\n",
       "      <td>0.0</td>\n",
       "      <td>NaN</td>\n",
       "      <td>0.0</td>\n",
       "      <td>0.500000</td>\n",
       "      <td>0.5</td>\n",
       "      <td>0.0</td>\n",
       "      <td>True</td>\n",
       "      <td>True</td>\n",
       "    </tr>\n",
       "    <tr>\n",
       "      <th>39685</th>\n",
       "      <td>Cologne</td>\n",
       "      <td>Boston Scientific Vercise</td>\n",
       "      <td>240.0</td>\n",
       "      <td>3.0</td>\n",
       "      <td>3</td>\n",
       "      <td>4.9</td>\n",
       "      <td>/media/brainstimmaps/DATA/2009_DeepMaps01/03_D...</td>\n",
       "      <td>0.0</td>\n",
       "      <td>NaN</td>\n",
       "      <td>0.0</td>\n",
       "      <td>0.500000</td>\n",
       "      <td>0.5</td>\n",
       "      <td>0.0</td>\n",
       "      <td>True</td>\n",
       "      <td>False</td>\n",
       "    </tr>\n",
       "    <tr>\n",
       "      <th>39686</th>\n",
       "      <td>Cologne</td>\n",
       "      <td>Boston Scientific Vercise</td>\n",
       "      <td>240.0</td>\n",
       "      <td>3.0</td>\n",
       "      <td>3</td>\n",
       "      <td>5.0</td>\n",
       "      <td>/media/brainstimmaps/DATA/2009_DeepMaps01/03_D...</td>\n",
       "      <td>0.0</td>\n",
       "      <td>NaN</td>\n",
       "      <td>0.0</td>\n",
       "      <td>0.500000</td>\n",
       "      <td>0.5</td>\n",
       "      <td>0.0</td>\n",
       "      <td>False</td>\n",
       "      <td>True</td>\n",
       "    </tr>\n",
       "  </tbody>\n",
       "</table>\n",
       "<p>39687 rows × 15 columns</p>\n",
       "</div>"
      ],
      "text/plain": [
       "      centerID                  leadModel  patientID  contactID  verciseID  \\\n",
       "0         Bern  Boston Scientific Vercise        1.0        0.0          0   \n",
       "1         Bern  Boston Scientific Vercise        1.0        0.0          0   \n",
       "2         Bern  Boston Scientific Vercise        1.0        0.0          0   \n",
       "3         Bern  Boston Scientific Vercise        1.0        0.0          0   \n",
       "4         Bern  Boston Scientific Vercise        1.0        0.0          0   \n",
       "...        ...                        ...        ...        ...        ...   \n",
       "39682  Cologne  Boston Scientific Vercise      240.0        3.0          3   \n",
       "39683  Cologne  Boston Scientific Vercise      240.0        3.0          3   \n",
       "39684  Cologne  Boston Scientific Vercise      240.0        3.0          3   \n",
       "39685  Cologne  Boston Scientific Vercise      240.0        3.0          3   \n",
       "39686  Cologne  Boston Scientific Vercise      240.0        3.0          3   \n",
       "\n",
       "       amplitude                                   massive_filename  mapping  \\\n",
       "0            1.0  /media/brainstimmaps/DATA/2009_DeepMaps01/03_D...      0.0   \n",
       "1            1.1  /media/brainstimmaps/DATA/2009_DeepMaps01/03_D...      0.0   \n",
       "2            1.2  /media/brainstimmaps/DATA/2009_DeepMaps01/03_D...      0.0   \n",
       "3            1.3  /media/brainstimmaps/DATA/2009_DeepMaps01/03_D...      0.0   \n",
       "4            1.4  /media/brainstimmaps/DATA/2009_DeepMaps01/03_D...      0.0   \n",
       "...          ...                                                ...      ...   \n",
       "39682        4.6  /media/brainstimmaps/DATA/2009_DeepMaps01/03_D...      0.0   \n",
       "39683        4.7  /media/brainstimmaps/DATA/2009_DeepMaps01/03_D...      0.0   \n",
       "39684        4.8  /media/brainstimmaps/DATA/2009_DeepMaps01/03_D...      0.0   \n",
       "39685        4.9  /media/brainstimmaps/DATA/2009_DeepMaps01/03_D...      0.0   \n",
       "39686        5.0  /media/brainstimmaps/DATA/2009_DeepMaps01/03_D...      0.0   \n",
       "\n",
       "       mapping_score  part  lin_interp_score  step_interp_score  zeroed  \\\n",
       "0                NaN   1.0          0.074074                0.0     0.0   \n",
       "1                NaN   1.0          0.081481                0.0     0.0   \n",
       "2                NaN   1.0          0.088889                0.0     0.0   \n",
       "3                NaN   1.0          0.096296                0.0     0.0   \n",
       "4                NaN   1.0          0.103704                0.0     0.0   \n",
       "...              ...   ...               ...                ...     ...   \n",
       "39682            NaN   0.0          0.500000                0.5     0.0   \n",
       "39683            NaN   0.0          0.500000                0.5     0.0   \n",
       "39684            NaN   0.0          0.500000                0.5     0.0   \n",
       "39685            NaN   0.0          0.500000                0.5     0.0   \n",
       "39686            NaN   0.0          0.500000                0.5     0.0   \n",
       "\n",
       "       tweening  tuning  \n",
       "0         False   False  \n",
       "1          True   False  \n",
       "2          True   False  \n",
       "3          True    True  \n",
       "4          True   False  \n",
       "...         ...     ...  \n",
       "39682      True    True  \n",
       "39683      True   False  \n",
       "39684      True    True  \n",
       "39685      True   False  \n",
       "39686     False    True  \n",
       "\n",
       "[39687 rows x 15 columns]"
      ]
     },
     "execution_count": 2,
     "metadata": {},
     "output_type": "execute_result"
    }
   ],
   "source": [
    "df"
   ]
  },
  {
   "cell_type": "code",
   "execution_count": 3,
   "metadata": {},
   "outputs": [
    {
     "name": "stdout",
     "output_type": "stream",
     "text": [
      "657\n",
      "120\n"
     ]
    }
   ],
   "source": [
    "print(df[df['centerID'] == 'Bern'].groupby(['patientID', 'verciseID']).ngroups)\n",
    "print(df[df['centerID'] == 'Cologne'].groupby(['patientID', 'verciseID']).ngroups)"
   ]
  },
  {
   "cell_type": "code",
   "execution_count": 4,
   "metadata": {},
   "outputs": [
    {
     "name": "stdout",
     "output_type": "stream",
     "text": [
      "16.0\n",
      "4.0\n"
     ]
    }
   ],
   "source": [
    "print(df[df['centerID'] == 'Bern'].groupby('patientID')['verciseID'].nunique().median())\n",
    "print(df[df['centerID'] == 'Cologne'].groupby('patientID')['verciseID'].nunique().median())"
   ]
  },
  {
   "cell_type": "code",
   "execution_count": 5,
   "metadata": {},
   "outputs": [
    {
     "name": "stdout",
     "output_type": "stream",
     "text": [
      "14.282608695652174\n",
      "4.0\n"
     ]
    }
   ],
   "source": [
    "print(df[df['centerID'] == 'Bern'].groupby('patientID')['verciseID'].nunique().mean())\n",
    "print(df[df['centerID'] == 'Cologne'].groupby('patientID')['verciseID'].nunique().mean())"
   ]
  },
  {
   "cell_type": "code",
   "execution_count": 6,
   "metadata": {},
   "outputs": [
    {
     "name": "stdout",
     "output_type": "stream",
     "text": [
      "3.0\n"
     ]
    }
   ],
   "source": [
    "print(df[df['leadModel'] == 'Medtronic 3389'].groupby('patientID')['verciseID'].nunique().median())"
   ]
  },
  {
   "cell_type": "code",
   "execution_count": 7,
   "metadata": {},
   "outputs": [
    {
     "name": "stdout",
     "output_type": "stream",
     "text": [
      "4.6\n"
     ]
    }
   ],
   "source": [
    "a = df['leadModel'] == 'Boston Scientific Vercise'\n",
    "b = df['centerID'] == 'Cologne'\n",
    "\n",
    "print(df[a & b].groupby('patientID')['verciseID'].nunique().mean())"
   ]
  },
  {
   "cell_type": "code",
   "execution_count": 8,
   "metadata": {},
   "outputs": [
    {
     "name": "stdout",
     "output_type": "stream",
     "text": [
      "532\n"
     ]
    }
   ],
   "source": [
    "a = df['mapping_score'] == 1.0\n",
    "b = df['centerID'] == 'Bern'\n",
    "\n",
    "print(df[a & b].groupby('patientID')['verciseID'].nunique().sum())"
   ]
  },
  {
   "cell_type": "code",
   "execution_count": null,
   "metadata": {},
   "outputs": [],
   "source": []
  },
  {
   "cell_type": "code",
   "execution_count": 42,
   "metadata": {},
   "outputs": [
    {
     "data": {
      "application/vnd.plotly.v1+json": {
       "config": {
        "plotlyServerURL": "https://plot.ly"
       },
       "data": [
        {
         "base": 0,
         "hoverinfo": "text+name",
         "hovertemplate": "Bern<br>: 34347",
         "name": "Bern : 34347",
         "orientation": "v",
         "type": "bar",
         "x": [
          "centerID"
         ],
         "y": [
          34347
         ]
        },
        {
         "base": 34347,
         "hoverinfo": "text+name",
         "hovertemplate": "Cologne<br>: 5340",
         "name": "Cologne : 5340",
         "orientation": "v",
         "type": "bar",
         "x": [
          "centerID"
         ],
         "y": [
          5340
         ]
        },
        {
         "base": 0,
         "hoverinfo": "text+name",
         "hovertemplate": "Boston Scientific Vercise<br>: 36463",
         "name": "Boston Scientific Vercise : 36463",
         "orientation": "v",
         "type": "bar",
         "x": [
          "leadModel"
         ],
         "y": [
          36463
         ]
        },
        {
         "base": 36463,
         "hoverinfo": "text+name",
         "hovertemplate": "Medtronic 3389<br>: 3224",
         "name": "Medtronic 3389 : 3224",
         "orientation": "v",
         "type": "bar",
         "x": [
          "leadModel"
         ],
         "y": [
          3224
         ]
        },
        {
         "base": 0,
         "hoverinfo": "text+name",
         "hovertemplate": "1.0<br>: 820",
         "name": "1.0 : 820",
         "orientation": "v",
         "type": "bar",
         "x": [
          "patientID"
         ],
         "y": [
          820
         ]
        },
        {
         "base": 820,
         "hoverinfo": "text+name",
         "hovertemplate": "3.0<br>: 410",
         "name": "3.0 : 410",
         "orientation": "v",
         "type": "bar",
         "x": [
          "patientID"
         ],
         "y": [
          410
         ]
        },
        {
         "base": 1230,
         "hoverinfo": "text+name",
         "hovertemplate": "6.0<br>: 820",
         "name": "6.0 : 820",
         "orientation": "v",
         "type": "bar",
         "x": [
          "patientID"
         ],
         "y": [
          820
         ]
        },
        {
         "base": 2050,
         "hoverinfo": "text+name",
         "hovertemplate": "8.0<br>: 1207",
         "name": "8.0 : 1207",
         "orientation": "v",
         "type": "bar",
         "x": [
          "patientID"
         ],
         "y": [
          1207
         ]
        },
        {
         "base": 3257,
         "hoverinfo": "text+name",
         "hovertemplate": "9.0<br>: 820",
         "name": "9.0 : 820",
         "orientation": "v",
         "type": "bar",
         "x": [
          "patientID"
         ],
         "y": [
          820
         ]
        },
        {
         "base": 4077,
         "hoverinfo": "text+name",
         "hovertemplate": "11.0<br>: 852",
         "name": "11.0 : 852",
         "orientation": "v",
         "type": "bar",
         "x": [
          "patientID"
         ],
         "y": [
          852
         ]
        },
        {
         "base": 4929,
         "hoverinfo": "text+name",
         "hovertemplate": "12.0<br>: 779",
         "name": "12.0 : 779",
         "orientation": "v",
         "type": "bar",
         "x": [
          "patientID"
         ],
         "y": [
          779
         ]
        },
        {
         "base": 5708,
         "hoverinfo": "text+name",
         "hovertemplate": "13.0<br>: 738",
         "name": "13.0 : 738",
         "orientation": "v",
         "type": "bar",
         "x": [
          "patientID"
         ],
         "y": [
          738
         ]
        },
        {
         "base": 6446,
         "hoverinfo": "text+name",
         "hovertemplate": "14.0<br>: 639",
         "name": "14.0 : 639",
         "orientation": "v",
         "type": "bar",
         "x": [
          "patientID"
         ],
         "y": [
          639
         ]
        },
        {
         "base": 7085,
         "hoverinfo": "text+name",
         "hovertemplate": "15.0<br>: 1136",
         "name": "15.0 : 1136",
         "orientation": "v",
         "type": "bar",
         "x": [
          "patientID"
         ],
         "y": [
          1136
         ]
        },
        {
         "base": 8221,
         "hoverinfo": "text+name",
         "hovertemplate": "16.0<br>: 1278",
         "name": "16.0 : 1278",
         "orientation": "v",
         "type": "bar",
         "x": [
          "patientID"
         ],
         "y": [
          1278
         ]
        },
        {
         "base": 9499,
         "hoverinfo": "text+name",
         "hovertemplate": "17.0<br>: 779",
         "name": "17.0 : 779",
         "orientation": "v",
         "type": "bar",
         "x": [
          "patientID"
         ],
         "y": [
          779
         ]
        },
        {
         "base": 10278,
         "hoverinfo": "text+name",
         "hovertemplate": "18.0<br>: 1136",
         "name": "18.0 : 1136",
         "orientation": "v",
         "type": "bar",
         "x": [
          "patientID"
         ],
         "y": [
          1136
         ]
        },
        {
         "base": 11414,
         "hoverinfo": "text+name",
         "hovertemplate": "19.0<br>: 738",
         "name": "19.0 : 738",
         "orientation": "v",
         "type": "bar",
         "x": [
          "patientID"
         ],
         "y": [
          738
         ]
        },
        {
         "base": 12152,
         "hoverinfo": "text+name",
         "hovertemplate": "20.0<br>: 369",
         "name": "20.0 : 369",
         "orientation": "v",
         "type": "bar",
         "x": [
          "patientID"
         ],
         "y": [
          369
         ]
        },
        {
         "base": 12521,
         "hoverinfo": "text+name",
         "hovertemplate": "21.0<br>: 781",
         "name": "21.0 : 781",
         "orientation": "v",
         "type": "bar",
         "x": [
          "patientID"
         ],
         "y": [
          781
         ]
        },
        {
         "base": 13302,
         "hoverinfo": "text+name",
         "hovertemplate": "22.0<br>: 1278",
         "name": "22.0 : 1278",
         "orientation": "v",
         "type": "bar",
         "x": [
          "patientID"
         ],
         "y": [
          1278
         ]
        },
        {
         "base": 14580,
         "hoverinfo": "text+name",
         "hovertemplate": "23.0<br>: 1420",
         "name": "23.0 : 1420",
         "orientation": "v",
         "type": "bar",
         "x": [
          "patientID"
         ],
         "y": [
          1420
         ]
        },
        {
         "base": 16000,
         "hoverinfo": "text+name",
         "hovertemplate": "25.0<br>: 656",
         "name": "25.0 : 656",
         "orientation": "v",
         "type": "bar",
         "x": [
          "patientID"
         ],
         "y": [
          656
         ]
        },
        {
         "base": 16656,
         "hoverinfo": "text+name",
         "hovertemplate": "26.0<br>: 1136",
         "name": "26.0 : 1136",
         "orientation": "v",
         "type": "bar",
         "x": [
          "patientID"
         ],
         "y": [
          1136
         ]
        },
        {
         "base": 17792,
         "hoverinfo": "text+name",
         "hovertemplate": "27.0<br>: 1207",
         "name": "27.0 : 1207",
         "orientation": "v",
         "type": "bar",
         "x": [
          "patientID"
         ],
         "y": [
          1207
         ]
        },
        {
         "base": 18999,
         "hoverinfo": "text+name",
         "hovertemplate": "28.0<br>: 779",
         "name": "28.0 : 779",
         "orientation": "v",
         "type": "bar",
         "x": [
          "patientID"
         ],
         "y": [
          779
         ]
        },
        {
         "base": 19778,
         "hoverinfo": "text+name",
         "hovertemplate": "29.0<br>: 1065",
         "name": "29.0 : 1065",
         "orientation": "v",
         "type": "bar",
         "x": [
          "patientID"
         ],
         "y": [
          1065
         ]
        },
        {
         "base": 20843,
         "hoverinfo": "text+name",
         "hovertemplate": "31.0<br>: 656",
         "name": "31.0 : 656",
         "orientation": "v",
         "type": "bar",
         "x": [
          "patientID"
         ],
         "y": [
          656
         ]
        },
        {
         "base": 21499,
         "hoverinfo": "text+name",
         "hovertemplate": "34.0<br>: 410",
         "name": "34.0 : 410",
         "orientation": "v",
         "type": "bar",
         "x": [
          "patientID"
         ],
         "y": [
          410
         ]
        },
        {
         "base": 21909,
         "hoverinfo": "text+name",
         "hovertemplate": "35.0<br>: 820",
         "name": "35.0 : 820",
         "orientation": "v",
         "type": "bar",
         "x": [
          "patientID"
         ],
         "y": [
          820
         ]
        },
        {
         "base": 22729,
         "hoverinfo": "text+name",
         "hovertemplate": "36.0<br>: 994",
         "name": "36.0 : 994",
         "orientation": "v",
         "type": "bar",
         "x": [
          "patientID"
         ],
         "y": [
          994
         ]
        },
        {
         "base": 23723,
         "hoverinfo": "text+name",
         "hovertemplate": "37.0<br>: 451",
         "name": "37.0 : 451",
         "orientation": "v",
         "type": "bar",
         "x": [
          "patientID"
         ],
         "y": [
          451
         ]
        },
        {
         "base": 24174,
         "hoverinfo": "text+name",
         "hovertemplate": "38.0<br>: 533",
         "name": "38.0 : 533",
         "orientation": "v",
         "type": "bar",
         "x": [
          "patientID"
         ],
         "y": [
          533
         ]
        },
        {
         "base": 24707,
         "hoverinfo": "text+name",
         "hovertemplate": "39.0<br>: 410",
         "name": "39.0 : 410",
         "orientation": "v",
         "type": "bar",
         "x": [
          "patientID"
         ],
         "y": [
          410
         ]
        },
        {
         "base": 25117,
         "hoverinfo": "text+name",
         "hovertemplate": "40.0<br>: 574",
         "name": "40.0 : 574",
         "orientation": "v",
         "type": "bar",
         "x": [
          "patientID"
         ],
         "y": [
          574
         ]
        },
        {
         "base": 25691,
         "hoverinfo": "text+name",
         "hovertemplate": "41.0<br>: 287",
         "name": "41.0 : 287",
         "orientation": "v",
         "type": "bar",
         "x": [
          "patientID"
         ],
         "y": [
          287
         ]
        },
        {
         "base": 25978,
         "hoverinfo": "text+name",
         "hovertemplate": "42.0<br>: 1065",
         "name": "42.0 : 1065",
         "orientation": "v",
         "type": "bar",
         "x": [
          "patientID"
         ],
         "y": [
          1065
         ]
        },
        {
         "base": 27043,
         "hoverinfo": "text+name",
         "hovertemplate": "82.0<br>: 164",
         "name": "82.0 : 164",
         "orientation": "v",
         "type": "bar",
         "x": [
          "patientID"
         ],
         "y": [
          164
         ]
        },
        {
         "base": 27207,
         "hoverinfo": "text+name",
         "hovertemplate": "119.0<br>: 533",
         "name": "119.0 : 533",
         "orientation": "v",
         "type": "bar",
         "x": [
          "patientID"
         ],
         "y": [
          533
         ]
        },
        {
         "base": 27740,
         "hoverinfo": "text+name",
         "hovertemplate": "134.0<br>: 656",
         "name": "134.0 : 656",
         "orientation": "v",
         "type": "bar",
         "x": [
          "patientID"
         ],
         "y": [
          656
         ]
        },
        {
         "base": 28396,
         "hoverinfo": "text+name",
         "hovertemplate": "138.0<br>: 287",
         "name": "138.0 : 287",
         "orientation": "v",
         "type": "bar",
         "x": [
          "patientID"
         ],
         "y": [
          287
         ]
        },
        {
         "base": 28683,
         "hoverinfo": "text+name",
         "hovertemplate": "149.0<br>: 1349",
         "name": "149.0 : 1349",
         "orientation": "v",
         "type": "bar",
         "x": [
          "patientID"
         ],
         "y": [
          1349
         ]
        },
        {
         "base": 30032,
         "hoverinfo": "text+name",
         "hovertemplate": "175.0<br>: 656",
         "name": "175.0 : 656",
         "orientation": "v",
         "type": "bar",
         "x": [
          "patientID"
         ],
         "y": [
          656
         ]
        },
        {
         "base": 30688,
         "hoverinfo": "text+name",
         "hovertemplate": "176.0<br>: 123",
         "name": "176.0 : 123",
         "orientation": "v",
         "type": "bar",
         "x": [
          "patientID"
         ],
         "y": [
          123
         ]
        },
        {
         "base": 30811,
         "hoverinfo": "text+name",
         "hovertemplate": "177.0<br>: 410",
         "name": "177.0 : 410",
         "orientation": "v",
         "type": "bar",
         "x": [
          "patientID"
         ],
         "y": [
          410
         ]
        },
        {
         "base": 31221,
         "hoverinfo": "text+name",
         "hovertemplate": "178.0<br>: 328",
         "name": "178.0 : 328",
         "orientation": "v",
         "type": "bar",
         "x": [
          "patientID"
         ],
         "y": [
          328
         ]
        },
        {
         "base": 31549,
         "hoverinfo": "text+name",
         "hovertemplate": "179.0<br>: 656",
         "name": "179.0 : 656",
         "orientation": "v",
         "type": "bar",
         "x": [
          "patientID"
         ],
         "y": [
          656
         ]
        },
        {
         "base": 32205,
         "hoverinfo": "text+name",
         "hovertemplate": "180.0<br>: 697",
         "name": "180.0 : 697",
         "orientation": "v",
         "type": "bar",
         "x": [
          "patientID"
         ],
         "y": [
          697
         ]
        },
        {
         "base": 32902,
         "hoverinfo": "text+name",
         "hovertemplate": "181.0<br>: 994",
         "name": "181.0 : 994",
         "orientation": "v",
         "type": "bar",
         "x": [
          "patientID"
         ],
         "y": [
          994
         ]
        },
        {
         "base": 33896,
         "hoverinfo": "text+name",
         "hovertemplate": "183.0<br>: 451",
         "name": "183.0 : 451",
         "orientation": "v",
         "type": "bar",
         "x": [
          "patientID"
         ],
         "y": [
          451
         ]
        },
        {
         "base": 34347,
         "hoverinfo": "text+name",
         "hovertemplate": "201.0<br>: 133",
         "name": "201.0 : 133",
         "orientation": "v",
         "type": "bar",
         "x": [
          "patientID"
         ],
         "y": [
          133
         ]
        },
        {
         "base": 34480,
         "hoverinfo": "text+name",
         "hovertemplate": "202.0<br>: 46",
         "name": "202.0 : 46",
         "orientation": "v",
         "type": "bar",
         "x": [
          "patientID"
         ],
         "y": [
          46
         ]
        },
        {
         "base": 34526,
         "hoverinfo": "text+name",
         "hovertemplate": "203.0<br>: 123",
         "name": "203.0 : 123",
         "orientation": "v",
         "type": "bar",
         "x": [
          "patientID"
         ],
         "y": [
          123
         ]
        },
        {
         "base": 34649,
         "hoverinfo": "text+name",
         "hovertemplate": "204.0<br>: 87",
         "name": "204.0 : 87",
         "orientation": "v",
         "type": "bar",
         "x": [
          "patientID"
         ],
         "y": [
          87
         ]
        },
        {
         "base": 34736,
         "hoverinfo": "text+name",
         "hovertemplate": "205.0<br>: 312",
         "name": "205.0 : 312",
         "orientation": "v",
         "type": "bar",
         "x": [
          "patientID"
         ],
         "y": [
          312
         ]
        },
        {
         "base": 35048,
         "hoverinfo": "text+name",
         "hovertemplate": "206.0<br>: 82",
         "name": "206.0 : 82",
         "orientation": "v",
         "type": "bar",
         "x": [
          "patientID"
         ],
         "y": [
          82
         ]
        },
        {
         "base": 35130,
         "hoverinfo": "text+name",
         "hovertemplate": "207.0<br>: 174",
         "name": "207.0 : 174",
         "orientation": "v",
         "type": "bar",
         "x": [
          "patientID"
         ],
         "y": [
          174
         ]
        },
        {
         "base": 35304,
         "hoverinfo": "text+name",
         "hovertemplate": "208.0<br>: 271",
         "name": "208.0 : 271",
         "orientation": "v",
         "type": "bar",
         "x": [
          "patientID"
         ],
         "y": [
          271
         ]
        },
        {
         "base": 35575,
         "hoverinfo": "text+name",
         "hovertemplate": "211.0<br>: 251",
         "name": "211.0 : 251",
         "orientation": "v",
         "type": "bar",
         "x": [
          "patientID"
         ],
         "y": [
          251
         ]
        },
        {
         "base": 35826,
         "hoverinfo": "text+name",
         "hovertemplate": "214.0<br>: 174",
         "name": "214.0 : 174",
         "orientation": "v",
         "type": "bar",
         "x": [
          "patientID"
         ],
         "y": [
          174
         ]
        },
        {
         "base": 36000,
         "hoverinfo": "text+name",
         "hovertemplate": "215.0<br>: 338",
         "name": "215.0 : 338",
         "orientation": "v",
         "type": "bar",
         "x": [
          "patientID"
         ],
         "y": [
          338
         ]
        },
        {
         "base": 36338,
         "hoverinfo": "text+name",
         "hovertemplate": "216.0<br>: 128",
         "name": "216.0 : 128",
         "orientation": "v",
         "type": "bar",
         "x": [
          "patientID"
         ],
         "y": [
          128
         ]
        },
        {
         "base": 36466,
         "hoverinfo": "text+name",
         "hovertemplate": "217.0<br>: 184",
         "name": "217.0 : 184",
         "orientation": "v",
         "type": "bar",
         "x": [
          "patientID"
         ],
         "y": [
          184
         ]
        },
        {
         "base": 36650,
         "hoverinfo": "text+name",
         "hovertemplate": "218.0<br>: 138",
         "name": "218.0 : 138",
         "orientation": "v",
         "type": "bar",
         "x": [
          "patientID"
         ],
         "y": [
          138
         ]
        },
        {
         "base": 36788,
         "hoverinfo": "text+name",
         "hovertemplate": "219.0<br>: 41",
         "name": "219.0 : 41",
         "orientation": "v",
         "type": "bar",
         "x": [
          "patientID"
         ],
         "y": [
          41
         ]
        },
        {
         "base": 36829,
         "hoverinfo": "text+name",
         "hovertemplate": "220.0<br>: 46",
         "name": "220.0 : 46",
         "orientation": "v",
         "type": "bar",
         "x": [
          "patientID"
         ],
         "y": [
          46
         ]
        },
        {
         "base": 36875,
         "hoverinfo": "text+name",
         "hovertemplate": "222.0<br>: 128",
         "name": "222.0 : 128",
         "orientation": "v",
         "type": "bar",
         "x": [
          "patientID"
         ],
         "y": [
          128
         ]
        },
        {
         "base": 37003,
         "hoverinfo": "text+name",
         "hovertemplate": "223.0<br>: 266",
         "name": "223.0 : 266",
         "orientation": "v",
         "type": "bar",
         "x": [
          "patientID"
         ],
         "y": [
          266
         ]
        },
        {
         "base": 37269,
         "hoverinfo": "text+name",
         "hovertemplate": "224.0<br>: 128",
         "name": "224.0 : 128",
         "orientation": "v",
         "type": "bar",
         "x": [
          "patientID"
         ],
         "y": [
          128
         ]
        },
        {
         "base": 37397,
         "hoverinfo": "text+name",
         "hovertemplate": "225.0<br>: 174",
         "name": "225.0 : 174",
         "orientation": "v",
         "type": "bar",
         "x": [
          "patientID"
         ],
         "y": [
          174
         ]
        },
        {
         "base": 37571,
         "hoverinfo": "text+name",
         "hovertemplate": "231.0<br>: 276",
         "name": "231.0 : 276",
         "orientation": "v",
         "type": "bar",
         "x": [
          "patientID"
         ],
         "y": [
          276
         ]
        },
        {
         "base": 37847,
         "hoverinfo": "text+name",
         "hovertemplate": "232.0<br>: 184",
         "name": "232.0 : 184",
         "orientation": "v",
         "type": "bar",
         "x": [
          "patientID"
         ],
         "y": [
          184
         ]
        },
        {
         "base": 38031,
         "hoverinfo": "text+name",
         "hovertemplate": "233.0<br>: 276",
         "name": "233.0 : 276",
         "orientation": "v",
         "type": "bar",
         "x": [
          "patientID"
         ],
         "y": [
          276
         ]
        },
        {
         "base": 38307,
         "hoverinfo": "text+name",
         "hovertemplate": "234.0<br>: 138",
         "name": "234.0 : 138",
         "orientation": "v",
         "type": "bar",
         "x": [
          "patientID"
         ],
         "y": [
          138
         ]
        },
        {
         "base": 38445,
         "hoverinfo": "text+name",
         "hovertemplate": "235.0<br>: 230",
         "name": "235.0 : 230",
         "orientation": "v",
         "type": "bar",
         "x": [
          "patientID"
         ],
         "y": [
          230
         ]
        },
        {
         "base": 38675,
         "hoverinfo": "text+name",
         "hovertemplate": "236.0<br>: 92",
         "name": "236.0 : 92",
         "orientation": "v",
         "type": "bar",
         "x": [
          "patientID"
         ],
         "y": [
          92
         ]
        },
        {
         "base": 38767,
         "hoverinfo": "text+name",
         "hovertemplate": "237.0<br>: 230",
         "name": "237.0 : 230",
         "orientation": "v",
         "type": "bar",
         "x": [
          "patientID"
         ],
         "y": [
          230
         ]
        },
        {
         "base": 38997,
         "hoverinfo": "text+name",
         "hovertemplate": "238.0<br>: 276",
         "name": "238.0 : 276",
         "orientation": "v",
         "type": "bar",
         "x": [
          "patientID"
         ],
         "y": [
          276
         ]
        },
        {
         "base": 39273,
         "hoverinfo": "text+name",
         "hovertemplate": "239.0<br>: 276",
         "name": "239.0 : 276",
         "orientation": "v",
         "type": "bar",
         "x": [
          "patientID"
         ],
         "y": [
          276
         ]
        },
        {
         "base": 39549,
         "hoverinfo": "text+name",
         "hovertemplate": "240.0<br>: 138",
         "name": "240.0 : 138",
         "orientation": "v",
         "type": "bar",
         "x": [
          "patientID"
         ],
         "y": [
          138
         ]
        },
        {
         "base": 0,
         "hoverinfo": "text+name",
         "hovertemplate": "0<br>: 1128",
         "name": "0 : 1128",
         "orientation": "v",
         "type": "bar",
         "x": [
          "verciseID"
         ],
         "y": [
          1128
         ]
        },
        {
         "base": 1128,
         "hoverinfo": "text+name",
         "hovertemplate": "1<br>: 1713",
         "name": "1 : 1713",
         "orientation": "v",
         "type": "bar",
         "x": [
          "verciseID"
         ],
         "y": [
          1713
         ]
        },
        {
         "base": 2841,
         "hoverinfo": "text+name",
         "hovertemplate": "2<br>: 1825",
         "name": "2 : 1825",
         "orientation": "v",
         "type": "bar",
         "x": [
          "verciseID"
         ],
         "y": [
          1825
         ]
        },
        {
         "base": 4666,
         "hoverinfo": "text+name",
         "hovertemplate": "3<br>: 1743",
         "name": "3 : 1743",
         "orientation": "v",
         "type": "bar",
         "x": [
          "verciseID"
         ],
         "y": [
          1743
         ]
        },
        {
         "base": 6409,
         "hoverinfo": "text+name",
         "hovertemplate": "4<br>: 2023",
         "name": "4 : 2023",
         "orientation": "v",
         "type": "bar",
         "x": [
          "verciseID"
         ],
         "y": [
          2023
         ]
        },
        {
         "base": 8432,
         "hoverinfo": "text+name",
         "hovertemplate": "5<br>: 1824",
         "name": "5 : 1824",
         "orientation": "v",
         "type": "bar",
         "x": [
          "verciseID"
         ],
         "y": [
          1824
         ]
        },
        {
         "base": 10256,
         "hoverinfo": "text+name",
         "hovertemplate": "6<br>: 2146",
         "name": "6 : 2146",
         "orientation": "v",
         "type": "bar",
         "x": [
          "verciseID"
         ],
         "y": [
          2146
         ]
        },
        {
         "base": 12402,
         "hoverinfo": "text+name",
         "hovertemplate": "7<br>: 2351",
         "name": "7 : 2351",
         "orientation": "v",
         "type": "bar",
         "x": [
          "verciseID"
         ],
         "y": [
          2351
         ]
        },
        {
         "base": 14753,
         "hoverinfo": "text+name",
         "hovertemplate": "8<br>: 1053",
         "name": "8 : 1053",
         "orientation": "v",
         "type": "bar",
         "x": [
          "verciseID"
         ],
         "y": [
          1053
         ]
        },
        {
         "base": 15806,
         "hoverinfo": "text+name",
         "hovertemplate": "9<br>: 1674",
         "name": "9 : 1674",
         "orientation": "v",
         "type": "bar",
         "x": [
          "verciseID"
         ],
         "y": [
          1674
         ]
        },
        {
         "base": 17480,
         "hoverinfo": "text+name",
         "hovertemplate": "10<br>: 1417",
         "name": "10 : 1417",
         "orientation": "v",
         "type": "bar",
         "x": [
          "verciseID"
         ],
         "y": [
          1417
         ]
        },
        {
         "base": 18897,
         "hoverinfo": "text+name",
         "hovertemplate": "11<br>: 1578",
         "name": "11 : 1578",
         "orientation": "v",
         "type": "bar",
         "x": [
          "verciseID"
         ],
         "y": [
          1578
         ]
        },
        {
         "base": 20475,
         "hoverinfo": "text+name",
         "hovertemplate": "12<br>: 2315",
         "name": "12 : 2315",
         "orientation": "v",
         "type": "bar",
         "x": [
          "verciseID"
         ],
         "y": [
          2315
         ]
        },
        {
         "base": 22790,
         "hoverinfo": "text+name",
         "hovertemplate": "13<br>: 2274",
         "name": "13 : 2274",
         "orientation": "v",
         "type": "bar",
         "x": [
          "verciseID"
         ],
         "y": [
          2274
         ]
        },
        {
         "base": 25064,
         "hoverinfo": "text+name",
         "hovertemplate": "14<br>: 2514",
         "name": "14 : 2514",
         "orientation": "v",
         "type": "bar",
         "x": [
          "verciseID"
         ],
         "y": [
          2514
         ]
        },
        {
         "base": 27578,
         "hoverinfo": "text+name",
         "hovertemplate": "15<br>: 2514",
         "name": "15 : 2514",
         "orientation": "v",
         "type": "bar",
         "x": [
          "verciseID"
         ],
         "y": [
          2514
         ]
        },
        {
         "base": 30092,
         "hoverinfo": "text+name",
         "hovertemplate": "16<br>: 2234",
         "name": "16 : 2234",
         "orientation": "v",
         "type": "bar",
         "x": [
          "verciseID"
         ],
         "y": [
          2234
         ]
        },
        {
         "base": 32326,
         "hoverinfo": "text+name",
         "hovertemplate": "17<br>: 2556",
         "name": "17 : 2556",
         "orientation": "v",
         "type": "bar",
         "x": [
          "verciseID"
         ],
         "y": [
          2556
         ]
        },
        {
         "base": 34882,
         "hoverinfo": "text+name",
         "hovertemplate": "18<br>: 2209",
         "name": "18 : 2209",
         "orientation": "v",
         "type": "bar",
         "x": [
          "verciseID"
         ],
         "y": [
          2209
         ]
        },
        {
         "base": 37091,
         "hoverinfo": "text+name",
         "hovertemplate": "19<br>: 2596",
         "name": "19 : 2596",
         "orientation": "v",
         "type": "bar",
         "x": [
          "verciseID"
         ],
         "y": [
          2596
         ]
        },
        {
         "base": 0,
         "hoverinfo": "text+name",
         "hovertemplate": "0.5<br>: 84",
         "name": "0.5 : 84",
         "orientation": "v",
         "type": "bar",
         "x": [
          "amplitude"
         ],
         "y": [
          84
         ]
        },
        {
         "base": 84,
         "hoverinfo": "text+name",
         "hovertemplate": "0.6<br>: 84",
         "name": "0.6 : 84",
         "orientation": "v",
         "type": "bar",
         "x": [
          "amplitude"
         ],
         "y": [
          84
         ]
        },
        {
         "base": 168,
         "hoverinfo": "text+name",
         "hovertemplate": "0.7<br>: 84",
         "name": "0.7 : 84",
         "orientation": "v",
         "type": "bar",
         "x": [
          "amplitude"
         ],
         "y": [
          84
         ]
        },
        {
         "base": 252,
         "hoverinfo": "text+name",
         "hovertemplate": "0.8<br>: 84",
         "name": "0.8 : 84",
         "orientation": "v",
         "type": "bar",
         "x": [
          "amplitude"
         ],
         "y": [
          84
         ]
        },
        {
         "base": 336,
         "hoverinfo": "text+name",
         "hovertemplate": "0.9<br>: 84",
         "name": "0.9 : 84",
         "orientation": "v",
         "type": "bar",
         "x": [
          "amplitude"
         ],
         "y": [
          84
         ]
        },
        {
         "base": 420,
         "hoverinfo": "text+name",
         "hovertemplate": "1.0<br>: 777",
         "name": "1.0 : 777",
         "orientation": "v",
         "type": "bar",
         "x": [
          "amplitude"
         ],
         "y": [
          777
         ]
        },
        {
         "base": 1197,
         "hoverinfo": "text+name",
         "hovertemplate": "1.1<br>: 777",
         "name": "1.1 : 777",
         "orientation": "v",
         "type": "bar",
         "x": [
          "amplitude"
         ],
         "y": [
          777
         ]
        },
        {
         "base": 1974,
         "hoverinfo": "text+name",
         "hovertemplate": "1.2<br>: 777",
         "name": "1.2 : 777",
         "orientation": "v",
         "type": "bar",
         "x": [
          "amplitude"
         ],
         "y": [
          777
         ]
        },
        {
         "base": 2751,
         "hoverinfo": "text+name",
         "hovertemplate": "1.3<br>: 777",
         "name": "1.3 : 777",
         "orientation": "v",
         "type": "bar",
         "x": [
          "amplitude"
         ],
         "y": [
          777
         ]
        },
        {
         "base": 3528,
         "hoverinfo": "text+name",
         "hovertemplate": "1.4<br>: 777",
         "name": "1.4 : 777",
         "orientation": "v",
         "type": "bar",
         "x": [
          "amplitude"
         ],
         "y": [
          777
         ]
        },
        {
         "base": 4305,
         "hoverinfo": "text+name",
         "hovertemplate": "1.5<br>: 777",
         "name": "1.5 : 777",
         "orientation": "v",
         "type": "bar",
         "x": [
          "amplitude"
         ],
         "y": [
          777
         ]
        },
        {
         "base": 5082,
         "hoverinfo": "text+name",
         "hovertemplate": "1.6<br>: 777",
         "name": "1.6 : 777",
         "orientation": "v",
         "type": "bar",
         "x": [
          "amplitude"
         ],
         "y": [
          777
         ]
        },
        {
         "base": 5859,
         "hoverinfo": "text+name",
         "hovertemplate": "1.7<br>: 777",
         "name": "1.7 : 777",
         "orientation": "v",
         "type": "bar",
         "x": [
          "amplitude"
         ],
         "y": [
          777
         ]
        },
        {
         "base": 6636,
         "hoverinfo": "text+name",
         "hovertemplate": "1.8<br>: 777",
         "name": "1.8 : 777",
         "orientation": "v",
         "type": "bar",
         "x": [
          "amplitude"
         ],
         "y": [
          777
         ]
        },
        {
         "base": 7413,
         "hoverinfo": "text+name",
         "hovertemplate": "1.9<br>: 777",
         "name": "1.9 : 777",
         "orientation": "v",
         "type": "bar",
         "x": [
          "amplitude"
         ],
         "y": [
          777
         ]
        },
        {
         "base": 8190,
         "hoverinfo": "text+name",
         "hovertemplate": "2.0<br>: 777",
         "name": "2.0 : 777",
         "orientation": "v",
         "type": "bar",
         "x": [
          "amplitude"
         ],
         "y": [
          777
         ]
        },
        {
         "base": 8967,
         "hoverinfo": "text+name",
         "hovertemplate": "2.1<br>: 777",
         "name": "2.1 : 777",
         "orientation": "v",
         "type": "bar",
         "x": [
          "amplitude"
         ],
         "y": [
          777
         ]
        },
        {
         "base": 9744,
         "hoverinfo": "text+name",
         "hovertemplate": "2.2<br>: 777",
         "name": "2.2 : 777",
         "orientation": "v",
         "type": "bar",
         "x": [
          "amplitude"
         ],
         "y": [
          777
         ]
        },
        {
         "base": 10521,
         "hoverinfo": "text+name",
         "hovertemplate": "2.3<br>: 777",
         "name": "2.3 : 777",
         "orientation": "v",
         "type": "bar",
         "x": [
          "amplitude"
         ],
         "y": [
          777
         ]
        },
        {
         "base": 11298,
         "hoverinfo": "text+name",
         "hovertemplate": "2.4<br>: 777",
         "name": "2.4 : 777",
         "orientation": "v",
         "type": "bar",
         "x": [
          "amplitude"
         ],
         "y": [
          777
         ]
        },
        {
         "base": 12075,
         "hoverinfo": "text+name",
         "hovertemplate": "2.5<br>: 777",
         "name": "2.5 : 777",
         "orientation": "v",
         "type": "bar",
         "x": [
          "amplitude"
         ],
         "y": [
          777
         ]
        },
        {
         "base": 12852,
         "hoverinfo": "text+name",
         "hovertemplate": "2.6<br>: 777",
         "name": "2.6 : 777",
         "orientation": "v",
         "type": "bar",
         "x": [
          "amplitude"
         ],
         "y": [
          777
         ]
        },
        {
         "base": 13629,
         "hoverinfo": "text+name",
         "hovertemplate": "2.7<br>: 777",
         "name": "2.7 : 777",
         "orientation": "v",
         "type": "bar",
         "x": [
          "amplitude"
         ],
         "y": [
          777
         ]
        },
        {
         "base": 14406,
         "hoverinfo": "text+name",
         "hovertemplate": "2.8<br>: 777",
         "name": "2.8 : 777",
         "orientation": "v",
         "type": "bar",
         "x": [
          "amplitude"
         ],
         "y": [
          777
         ]
        },
        {
         "base": 15183,
         "hoverinfo": "text+name",
         "hovertemplate": "2.9<br>: 777",
         "name": "2.9 : 777",
         "orientation": "v",
         "type": "bar",
         "x": [
          "amplitude"
         ],
         "y": [
          777
         ]
        },
        {
         "base": 15960,
         "hoverinfo": "text+name",
         "hovertemplate": "3.0<br>: 777",
         "name": "3.0 : 777",
         "orientation": "v",
         "type": "bar",
         "x": [
          "amplitude"
         ],
         "y": [
          777
         ]
        },
        {
         "base": 16737,
         "hoverinfo": "text+name",
         "hovertemplate": "3.1<br>: 777",
         "name": "3.1 : 777",
         "orientation": "v",
         "type": "bar",
         "x": [
          "amplitude"
         ],
         "y": [
          777
         ]
        },
        {
         "base": 17514,
         "hoverinfo": "text+name",
         "hovertemplate": "3.2<br>: 777",
         "name": "3.2 : 777",
         "orientation": "v",
         "type": "bar",
         "x": [
          "amplitude"
         ],
         "y": [
          777
         ]
        },
        {
         "base": 18291,
         "hoverinfo": "text+name",
         "hovertemplate": "3.3<br>: 777",
         "name": "3.3 : 777",
         "orientation": "v",
         "type": "bar",
         "x": [
          "amplitude"
         ],
         "y": [
          777
         ]
        },
        {
         "base": 19068,
         "hoverinfo": "text+name",
         "hovertemplate": "3.4<br>: 777",
         "name": "3.4 : 777",
         "orientation": "v",
         "type": "bar",
         "x": [
          "amplitude"
         ],
         "y": [
          777
         ]
        },
        {
         "base": 19845,
         "hoverinfo": "text+name",
         "hovertemplate": "3.5<br>: 777",
         "name": "3.5 : 777",
         "orientation": "v",
         "type": "bar",
         "x": [
          "amplitude"
         ],
         "y": [
          777
         ]
        },
        {
         "base": 20622,
         "hoverinfo": "text+name",
         "hovertemplate": "3.6<br>: 777",
         "name": "3.6 : 777",
         "orientation": "v",
         "type": "bar",
         "x": [
          "amplitude"
         ],
         "y": [
          777
         ]
        },
        {
         "base": 21399,
         "hoverinfo": "text+name",
         "hovertemplate": "3.7<br>: 777",
         "name": "3.7 : 777",
         "orientation": "v",
         "type": "bar",
         "x": [
          "amplitude"
         ],
         "y": [
          777
         ]
        },
        {
         "base": 22176,
         "hoverinfo": "text+name",
         "hovertemplate": "3.8<br>: 777",
         "name": "3.8 : 777",
         "orientation": "v",
         "type": "bar",
         "x": [
          "amplitude"
         ],
         "y": [
          777
         ]
        },
        {
         "base": 22953,
         "hoverinfo": "text+name",
         "hovertemplate": "3.9<br>: 777",
         "name": "3.9 : 777",
         "orientation": "v",
         "type": "bar",
         "x": [
          "amplitude"
         ],
         "y": [
          777
         ]
        },
        {
         "base": 23730,
         "hoverinfo": "text+name",
         "hovertemplate": "4.0<br>: 777",
         "name": "4.0 : 777",
         "orientation": "v",
         "type": "bar",
         "x": [
          "amplitude"
         ],
         "y": [
          777
         ]
        },
        {
         "base": 24507,
         "hoverinfo": "text+name",
         "hovertemplate": "4.1<br>: 777",
         "name": "4.1 : 777",
         "orientation": "v",
         "type": "bar",
         "x": [
          "amplitude"
         ],
         "y": [
          777
         ]
        },
        {
         "base": 25284,
         "hoverinfo": "text+name",
         "hovertemplate": "4.2<br>: 777",
         "name": "4.2 : 777",
         "orientation": "v",
         "type": "bar",
         "x": [
          "amplitude"
         ],
         "y": [
          777
         ]
        },
        {
         "base": 26061,
         "hoverinfo": "text+name",
         "hovertemplate": "4.3<br>: 777",
         "name": "4.3 : 777",
         "orientation": "v",
         "type": "bar",
         "x": [
          "amplitude"
         ],
         "y": [
          777
         ]
        },
        {
         "base": 26838,
         "hoverinfo": "text+name",
         "hovertemplate": "4.4<br>: 777",
         "name": "4.4 : 777",
         "orientation": "v",
         "type": "bar",
         "x": [
          "amplitude"
         ],
         "y": [
          777
         ]
        },
        {
         "base": 27615,
         "hoverinfo": "text+name",
         "hovertemplate": "4.5<br>: 777",
         "name": "4.5 : 777",
         "orientation": "v",
         "type": "bar",
         "x": [
          "amplitude"
         ],
         "y": [
          777
         ]
        },
        {
         "base": 28392,
         "hoverinfo": "text+name",
         "hovertemplate": "4.6<br>: 777",
         "name": "4.6 : 777",
         "orientation": "v",
         "type": "bar",
         "x": [
          "amplitude"
         ],
         "y": [
          777
         ]
        },
        {
         "base": 29169,
         "hoverinfo": "text+name",
         "hovertemplate": "4.7<br>: 777",
         "name": "4.7 : 777",
         "orientation": "v",
         "type": "bar",
         "x": [
          "amplitude"
         ],
         "y": [
          777
         ]
        },
        {
         "base": 29946,
         "hoverinfo": "text+name",
         "hovertemplate": "4.8<br>: 777",
         "name": "4.8 : 777",
         "orientation": "v",
         "type": "bar",
         "x": [
          "amplitude"
         ],
         "y": [
          777
         ]
        },
        {
         "base": 30723,
         "hoverinfo": "text+name",
         "hovertemplate": "4.9<br>: 777",
         "name": "4.9 : 777",
         "orientation": "v",
         "type": "bar",
         "x": [
          "amplitude"
         ],
         "y": [
          777
         ]
        },
        {
         "base": 31500,
         "hoverinfo": "text+name",
         "hovertemplate": "5.0<br>: 777",
         "name": "5.0 : 777",
         "orientation": "v",
         "type": "bar",
         "x": [
          "amplitude"
         ],
         "y": [
          777
         ]
        },
        {
         "base": 32277,
         "hoverinfo": "text+name",
         "hovertemplate": "5.1<br>: 247",
         "name": "5.1 : 247",
         "orientation": "v",
         "type": "bar",
         "x": [
          "amplitude"
         ],
         "y": [
          247
         ]
        },
        {
         "base": 32524,
         "hoverinfo": "text+name",
         "hovertemplate": "5.2<br>: 247",
         "name": "5.2 : 247",
         "orientation": "v",
         "type": "bar",
         "x": [
          "amplitude"
         ],
         "y": [
          247
         ]
        },
        {
         "base": 32771,
         "hoverinfo": "text+name",
         "hovertemplate": "5.3<br>: 247",
         "name": "5.3 : 247",
         "orientation": "v",
         "type": "bar",
         "x": [
          "amplitude"
         ],
         "y": [
          247
         ]
        },
        {
         "base": 33018,
         "hoverinfo": "text+name",
         "hovertemplate": "5.4<br>: 247",
         "name": "5.4 : 247",
         "orientation": "v",
         "type": "bar",
         "x": [
          "amplitude"
         ],
         "y": [
          247
         ]
        },
        {
         "base": 33265,
         "hoverinfo": "text+name",
         "hovertemplate": "5.5<br>: 247",
         "name": "5.5 : 247",
         "orientation": "v",
         "type": "bar",
         "x": [
          "amplitude"
         ],
         "y": [
          247
         ]
        },
        {
         "base": 33512,
         "hoverinfo": "text+name",
         "hovertemplate": "5.6<br>: 247",
         "name": "5.6 : 247",
         "orientation": "v",
         "type": "bar",
         "x": [
          "amplitude"
         ],
         "y": [
          247
         ]
        },
        {
         "base": 33759,
         "hoverinfo": "text+name",
         "hovertemplate": "5.7<br>: 247",
         "name": "5.7 : 247",
         "orientation": "v",
         "type": "bar",
         "x": [
          "amplitude"
         ],
         "y": [
          247
         ]
        },
        {
         "base": 34006,
         "hoverinfo": "text+name",
         "hovertemplate": "5.8<br>: 247",
         "name": "5.8 : 247",
         "orientation": "v",
         "type": "bar",
         "x": [
          "amplitude"
         ],
         "y": [
          247
         ]
        },
        {
         "base": 34253,
         "hoverinfo": "text+name",
         "hovertemplate": "5.9<br>: 247",
         "name": "5.9 : 247",
         "orientation": "v",
         "type": "bar",
         "x": [
          "amplitude"
         ],
         "y": [
          247
         ]
        },
        {
         "base": 34500,
         "hoverinfo": "text+name",
         "hovertemplate": "6.0<br>: 247",
         "name": "6.0 : 247",
         "orientation": "v",
         "type": "bar",
         "x": [
          "amplitude"
         ],
         "y": [
          247
         ]
        },
        {
         "base": 34747,
         "hoverinfo": "text+name",
         "hovertemplate": "6.1<br>: 247",
         "name": "6.1 : 247",
         "orientation": "v",
         "type": "bar",
         "x": [
          "amplitude"
         ],
         "y": [
          247
         ]
        },
        {
         "base": 34994,
         "hoverinfo": "text+name",
         "hovertemplate": "6.2<br>: 247",
         "name": "6.2 : 247",
         "orientation": "v",
         "type": "bar",
         "x": [
          "amplitude"
         ],
         "y": [
          247
         ]
        },
        {
         "base": 35241,
         "hoverinfo": "text+name",
         "hovertemplate": "6.3<br>: 247",
         "name": "6.3 : 247",
         "orientation": "v",
         "type": "bar",
         "x": [
          "amplitude"
         ],
         "y": [
          247
         ]
        },
        {
         "base": 35488,
         "hoverinfo": "text+name",
         "hovertemplate": "6.4<br>: 247",
         "name": "6.4 : 247",
         "orientation": "v",
         "type": "bar",
         "x": [
          "amplitude"
         ],
         "y": [
          247
         ]
        },
        {
         "base": 35735,
         "hoverinfo": "text+name",
         "hovertemplate": "6.5<br>: 247",
         "name": "6.5 : 247",
         "orientation": "v",
         "type": "bar",
         "x": [
          "amplitude"
         ],
         "y": [
          247
         ]
        },
        {
         "base": 35982,
         "hoverinfo": "text+name",
         "hovertemplate": "6.6<br>: 247",
         "name": "6.6 : 247",
         "orientation": "v",
         "type": "bar",
         "x": [
          "amplitude"
         ],
         "y": [
          247
         ]
        },
        {
         "base": 36229,
         "hoverinfo": "text+name",
         "hovertemplate": "6.7<br>: 247",
         "name": "6.7 : 247",
         "orientation": "v",
         "type": "bar",
         "x": [
          "amplitude"
         ],
         "y": [
          247
         ]
        },
        {
         "base": 36476,
         "hoverinfo": "text+name",
         "hovertemplate": "6.8<br>: 247",
         "name": "6.8 : 247",
         "orientation": "v",
         "type": "bar",
         "x": [
          "amplitude"
         ],
         "y": [
          247
         ]
        },
        {
         "base": 36723,
         "hoverinfo": "text+name",
         "hovertemplate": "6.9<br>: 247",
         "name": "6.9 : 247",
         "orientation": "v",
         "type": "bar",
         "x": [
          "amplitude"
         ],
         "y": [
          247
         ]
        },
        {
         "base": 36970,
         "hoverinfo": "text+name",
         "hovertemplate": "7.0<br>: 247",
         "name": "7.0 : 247",
         "orientation": "v",
         "type": "bar",
         "x": [
          "amplitude"
         ],
         "y": [
          247
         ]
        },
        {
         "base": 37217,
         "hoverinfo": "text+name",
         "hovertemplate": "7.1<br>: 247",
         "name": "7.1 : 247",
         "orientation": "v",
         "type": "bar",
         "x": [
          "amplitude"
         ],
         "y": [
          247
         ]
        },
        {
         "base": 37464,
         "hoverinfo": "text+name",
         "hovertemplate": "7.2<br>: 247",
         "name": "7.2 : 247",
         "orientation": "v",
         "type": "bar",
         "x": [
          "amplitude"
         ],
         "y": [
          247
         ]
        },
        {
         "base": 37711,
         "hoverinfo": "text+name",
         "hovertemplate": "7.3<br>: 247",
         "name": "7.3 : 247",
         "orientation": "v",
         "type": "bar",
         "x": [
          "amplitude"
         ],
         "y": [
          247
         ]
        },
        {
         "base": 37958,
         "hoverinfo": "text+name",
         "hovertemplate": "7.4<br>: 247",
         "name": "7.4 : 247",
         "orientation": "v",
         "type": "bar",
         "x": [
          "amplitude"
         ],
         "y": [
          247
         ]
        },
        {
         "base": 38205,
         "hoverinfo": "text+name",
         "hovertemplate": "7.5<br>: 247",
         "name": "7.5 : 247",
         "orientation": "v",
         "type": "bar",
         "x": [
          "amplitude"
         ],
         "y": [
          247
         ]
        },
        {
         "base": 38452,
         "hoverinfo": "text+name",
         "hovertemplate": "7.6<br>: 247",
         "name": "7.6 : 247",
         "orientation": "v",
         "type": "bar",
         "x": [
          "amplitude"
         ],
         "y": [
          247
         ]
        },
        {
         "base": 38699,
         "hoverinfo": "text+name",
         "hovertemplate": "7.7<br>: 247",
         "name": "7.7 : 247",
         "orientation": "v",
         "type": "bar",
         "x": [
          "amplitude"
         ],
         "y": [
          247
         ]
        },
        {
         "base": 38946,
         "hoverinfo": "text+name",
         "hovertemplate": "7.8<br>: 247",
         "name": "7.8 : 247",
         "orientation": "v",
         "type": "bar",
         "x": [
          "amplitude"
         ],
         "y": [
          247
         ]
        },
        {
         "base": 39193,
         "hoverinfo": "text+name",
         "hovertemplate": "7.9<br>: 247",
         "name": "7.9 : 247",
         "orientation": "v",
         "type": "bar",
         "x": [
          "amplitude"
         ],
         "y": [
          247
         ]
        },
        {
         "base": 39440,
         "hoverinfo": "text+name",
         "hovertemplate": "8.0<br>: 247",
         "name": "8.0 : 247",
         "orientation": "v",
         "type": "bar",
         "x": [
          "amplitude"
         ],
         "y": [
          247
         ]
        },
        {
         "base": 0,
         "hoverinfo": "text+name",
         "hovertemplate": "0.0<br>: 38687",
         "name": "0.0 : 38687",
         "orientation": "v",
         "type": "bar",
         "x": [
          "mapping"
         ],
         "y": [
          38687
         ]
        },
        {
         "base": 38687,
         "hoverinfo": "text+name",
         "hovertemplate": "1.0<br>: 1000",
         "name": "1.0 : 1000",
         "orientation": "v",
         "type": "bar",
         "x": [
          "mapping"
         ],
         "y": [
          1000
         ]
        },
        {
         "base": 0,
         "hoverinfo": "text+name",
         "hovertemplate": "False<br>: 8559",
         "name": "False : 8559",
         "orientation": "v",
         "type": "bar",
         "x": [
          "tweening"
         ],
         "y": [
          8559
         ]
        },
        {
         "base": 8559,
         "hoverinfo": "text+name",
         "hovertemplate": "True<br>: 31128",
         "name": "True : 31128",
         "orientation": "v",
         "type": "bar",
         "x": [
          "tweening"
         ],
         "y": [
          31128
         ]
        },
        {
         "base": 0,
         "hoverinfo": "text+name",
         "hovertemplate": "False<br>: 24204",
         "name": "False : 24204",
         "orientation": "v",
         "type": "bar",
         "x": [
          "tuning"
         ],
         "y": [
          24204
         ]
        },
        {
         "base": 24204,
         "hoverinfo": "text+name",
         "hovertemplate": "True<br>: 15483",
         "name": "True : 15483",
         "orientation": "v",
         "type": "bar",
         "x": [
          "tuning"
         ],
         "y": [
          15483
         ]
        },
        {
         "base": 0,
         "hoverinfo": "text+name",
         "hovertemplate": "0.0<br>: 423",
         "name": "0.0 : 423",
         "orientation": "v",
         "type": "bar",
         "x": [
          "mapping_score"
         ],
         "y": [
          423
         ]
        },
        {
         "base": 423,
         "hoverinfo": "text+name",
         "hovertemplate": "1.0<br>: 577",
         "name": "1.0 : 577",
         "orientation": "v",
         "type": "bar",
         "x": [
          "mapping_score"
         ],
         "y": [
          577
         ]
        }
       ],
       "layout": {
        "annotations": [
         {
          "showarrow": false,
          "text": "2",
          "x": "centerID",
          "xref": "x",
          "y": 42465.090000000004,
          "yref": "y"
         },
         {
          "showarrow": false,
          "text": "2",
          "x": "leadModel",
          "xref": "x",
          "y": 42465.090000000004,
          "yref": "y"
         },
         {
          "showarrow": false,
          "text": "76",
          "x": "patientID",
          "xref": "x",
          "y": 42465.090000000004,
          "yref": "y"
         },
         {
          "showarrow": false,
          "text": "20",
          "x": "verciseID",
          "xref": "x",
          "y": 42465.090000000004,
          "yref": "y"
         },
         {
          "showarrow": false,
          "text": "76",
          "x": "amplitude",
          "xref": "x",
          "y": 42465.090000000004,
          "yref": "y"
         },
         {
          "showarrow": false,
          "text": "2",
          "x": "mapping",
          "xref": "x",
          "y": 42465.090000000004,
          "yref": "y"
         },
         {
          "showarrow": false,
          "text": "2",
          "x": "tweening",
          "xref": "x",
          "y": 42465.090000000004,
          "yref": "y"
         },
         {
          "showarrow": false,
          "text": "2",
          "x": "tuning",
          "xref": "x",
          "y": 42465.090000000004,
          "yref": "y"
         },
         {
          "showarrow": false,
          "text": "2",
          "x": "mapping_score",
          "xref": "x",
          "y": 1070,
          "yref": "y"
         }
        ],
        "barmode": "stack",
        "showlegend": false,
        "template": {
         "data": {
          "bar": [
           {
            "error_x": {
             "color": "#2a3f5f"
            },
            "error_y": {
             "color": "#2a3f5f"
            },
            "marker": {
             "line": {
              "color": "#E5ECF6",
              "width": 0.5
             },
             "pattern": {
              "fillmode": "overlay",
              "size": 10,
              "solidity": 0.2
             }
            },
            "type": "bar"
           }
          ],
          "barpolar": [
           {
            "marker": {
             "line": {
              "color": "#E5ECF6",
              "width": 0.5
             },
             "pattern": {
              "fillmode": "overlay",
              "size": 10,
              "solidity": 0.2
             }
            },
            "type": "barpolar"
           }
          ],
          "carpet": [
           {
            "aaxis": {
             "endlinecolor": "#2a3f5f",
             "gridcolor": "white",
             "linecolor": "white",
             "minorgridcolor": "white",
             "startlinecolor": "#2a3f5f"
            },
            "baxis": {
             "endlinecolor": "#2a3f5f",
             "gridcolor": "white",
             "linecolor": "white",
             "minorgridcolor": "white",
             "startlinecolor": "#2a3f5f"
            },
            "type": "carpet"
           }
          ],
          "choropleth": [
           {
            "colorbar": {
             "outlinewidth": 0,
             "ticks": ""
            },
            "type": "choropleth"
           }
          ],
          "contour": [
           {
            "colorbar": {
             "outlinewidth": 0,
             "ticks": ""
            },
            "colorscale": [
             [
              0,
              "#0d0887"
             ],
             [
              0.1111111111111111,
              "#46039f"
             ],
             [
              0.2222222222222222,
              "#7201a8"
             ],
             [
              0.3333333333333333,
              "#9c179e"
             ],
             [
              0.4444444444444444,
              "#bd3786"
             ],
             [
              0.5555555555555556,
              "#d8576b"
             ],
             [
              0.6666666666666666,
              "#ed7953"
             ],
             [
              0.7777777777777778,
              "#fb9f3a"
             ],
             [
              0.8888888888888888,
              "#fdca26"
             ],
             [
              1,
              "#f0f921"
             ]
            ],
            "type": "contour"
           }
          ],
          "contourcarpet": [
           {
            "colorbar": {
             "outlinewidth": 0,
             "ticks": ""
            },
            "type": "contourcarpet"
           }
          ],
          "heatmap": [
           {
            "colorbar": {
             "outlinewidth": 0,
             "ticks": ""
            },
            "colorscale": [
             [
              0,
              "#0d0887"
             ],
             [
              0.1111111111111111,
              "#46039f"
             ],
             [
              0.2222222222222222,
              "#7201a8"
             ],
             [
              0.3333333333333333,
              "#9c179e"
             ],
             [
              0.4444444444444444,
              "#bd3786"
             ],
             [
              0.5555555555555556,
              "#d8576b"
             ],
             [
              0.6666666666666666,
              "#ed7953"
             ],
             [
              0.7777777777777778,
              "#fb9f3a"
             ],
             [
              0.8888888888888888,
              "#fdca26"
             ],
             [
              1,
              "#f0f921"
             ]
            ],
            "type": "heatmap"
           }
          ],
          "heatmapgl": [
           {
            "colorbar": {
             "outlinewidth": 0,
             "ticks": ""
            },
            "colorscale": [
             [
              0,
              "#0d0887"
             ],
             [
              0.1111111111111111,
              "#46039f"
             ],
             [
              0.2222222222222222,
              "#7201a8"
             ],
             [
              0.3333333333333333,
              "#9c179e"
             ],
             [
              0.4444444444444444,
              "#bd3786"
             ],
             [
              0.5555555555555556,
              "#d8576b"
             ],
             [
              0.6666666666666666,
              "#ed7953"
             ],
             [
              0.7777777777777778,
              "#fb9f3a"
             ],
             [
              0.8888888888888888,
              "#fdca26"
             ],
             [
              1,
              "#f0f921"
             ]
            ],
            "type": "heatmapgl"
           }
          ],
          "histogram": [
           {
            "marker": {
             "pattern": {
              "fillmode": "overlay",
              "size": 10,
              "solidity": 0.2
             }
            },
            "type": "histogram"
           }
          ],
          "histogram2d": [
           {
            "colorbar": {
             "outlinewidth": 0,
             "ticks": ""
            },
            "colorscale": [
             [
              0,
              "#0d0887"
             ],
             [
              0.1111111111111111,
              "#46039f"
             ],
             [
              0.2222222222222222,
              "#7201a8"
             ],
             [
              0.3333333333333333,
              "#9c179e"
             ],
             [
              0.4444444444444444,
              "#bd3786"
             ],
             [
              0.5555555555555556,
              "#d8576b"
             ],
             [
              0.6666666666666666,
              "#ed7953"
             ],
             [
              0.7777777777777778,
              "#fb9f3a"
             ],
             [
              0.8888888888888888,
              "#fdca26"
             ],
             [
              1,
              "#f0f921"
             ]
            ],
            "type": "histogram2d"
           }
          ],
          "histogram2dcontour": [
           {
            "colorbar": {
             "outlinewidth": 0,
             "ticks": ""
            },
            "colorscale": [
             [
              0,
              "#0d0887"
             ],
             [
              0.1111111111111111,
              "#46039f"
             ],
             [
              0.2222222222222222,
              "#7201a8"
             ],
             [
              0.3333333333333333,
              "#9c179e"
             ],
             [
              0.4444444444444444,
              "#bd3786"
             ],
             [
              0.5555555555555556,
              "#d8576b"
             ],
             [
              0.6666666666666666,
              "#ed7953"
             ],
             [
              0.7777777777777778,
              "#fb9f3a"
             ],
             [
              0.8888888888888888,
              "#fdca26"
             ],
             [
              1,
              "#f0f921"
             ]
            ],
            "type": "histogram2dcontour"
           }
          ],
          "mesh3d": [
           {
            "colorbar": {
             "outlinewidth": 0,
             "ticks": ""
            },
            "type": "mesh3d"
           }
          ],
          "parcoords": [
           {
            "line": {
             "colorbar": {
              "outlinewidth": 0,
              "ticks": ""
             }
            },
            "type": "parcoords"
           }
          ],
          "pie": [
           {
            "automargin": true,
            "type": "pie"
           }
          ],
          "scatter": [
           {
            "fillpattern": {
             "fillmode": "overlay",
             "size": 10,
             "solidity": 0.2
            },
            "type": "scatter"
           }
          ],
          "scatter3d": [
           {
            "line": {
             "colorbar": {
              "outlinewidth": 0,
              "ticks": ""
             }
            },
            "marker": {
             "colorbar": {
              "outlinewidth": 0,
              "ticks": ""
             }
            },
            "type": "scatter3d"
           }
          ],
          "scattercarpet": [
           {
            "marker": {
             "colorbar": {
              "outlinewidth": 0,
              "ticks": ""
             }
            },
            "type": "scattercarpet"
           }
          ],
          "scattergeo": [
           {
            "marker": {
             "colorbar": {
              "outlinewidth": 0,
              "ticks": ""
             }
            },
            "type": "scattergeo"
           }
          ],
          "scattergl": [
           {
            "marker": {
             "colorbar": {
              "outlinewidth": 0,
              "ticks": ""
             }
            },
            "type": "scattergl"
           }
          ],
          "scattermapbox": [
           {
            "marker": {
             "colorbar": {
              "outlinewidth": 0,
              "ticks": ""
             }
            },
            "type": "scattermapbox"
           }
          ],
          "scatterpolar": [
           {
            "marker": {
             "colorbar": {
              "outlinewidth": 0,
              "ticks": ""
             }
            },
            "type": "scatterpolar"
           }
          ],
          "scatterpolargl": [
           {
            "marker": {
             "colorbar": {
              "outlinewidth": 0,
              "ticks": ""
             }
            },
            "type": "scatterpolargl"
           }
          ],
          "scatterternary": [
           {
            "marker": {
             "colorbar": {
              "outlinewidth": 0,
              "ticks": ""
             }
            },
            "type": "scatterternary"
           }
          ],
          "surface": [
           {
            "colorbar": {
             "outlinewidth": 0,
             "ticks": ""
            },
            "colorscale": [
             [
              0,
              "#0d0887"
             ],
             [
              0.1111111111111111,
              "#46039f"
             ],
             [
              0.2222222222222222,
              "#7201a8"
             ],
             [
              0.3333333333333333,
              "#9c179e"
             ],
             [
              0.4444444444444444,
              "#bd3786"
             ],
             [
              0.5555555555555556,
              "#d8576b"
             ],
             [
              0.6666666666666666,
              "#ed7953"
             ],
             [
              0.7777777777777778,
              "#fb9f3a"
             ],
             [
              0.8888888888888888,
              "#fdca26"
             ],
             [
              1,
              "#f0f921"
             ]
            ],
            "type": "surface"
           }
          ],
          "table": [
           {
            "cells": {
             "fill": {
              "color": "#EBF0F8"
             },
             "line": {
              "color": "white"
             }
            },
            "header": {
             "fill": {
              "color": "#C8D4E3"
             },
             "line": {
              "color": "white"
             }
            },
            "type": "table"
           }
          ]
         },
         "layout": {
          "annotationdefaults": {
           "arrowcolor": "#2a3f5f",
           "arrowhead": 0,
           "arrowwidth": 1
          },
          "autotypenumbers": "strict",
          "coloraxis": {
           "colorbar": {
            "outlinewidth": 0,
            "ticks": ""
           }
          },
          "colorscale": {
           "diverging": [
            [
             0,
             "#8e0152"
            ],
            [
             0.1,
             "#c51b7d"
            ],
            [
             0.2,
             "#de77ae"
            ],
            [
             0.3,
             "#f1b6da"
            ],
            [
             0.4,
             "#fde0ef"
            ],
            [
             0.5,
             "#f7f7f7"
            ],
            [
             0.6,
             "#e6f5d0"
            ],
            [
             0.7,
             "#b8e186"
            ],
            [
             0.8,
             "#7fbc41"
            ],
            [
             0.9,
             "#4d9221"
            ],
            [
             1,
             "#276419"
            ]
           ],
           "sequential": [
            [
             0,
             "#0d0887"
            ],
            [
             0.1111111111111111,
             "#46039f"
            ],
            [
             0.2222222222222222,
             "#7201a8"
            ],
            [
             0.3333333333333333,
             "#9c179e"
            ],
            [
             0.4444444444444444,
             "#bd3786"
            ],
            [
             0.5555555555555556,
             "#d8576b"
            ],
            [
             0.6666666666666666,
             "#ed7953"
            ],
            [
             0.7777777777777778,
             "#fb9f3a"
            ],
            [
             0.8888888888888888,
             "#fdca26"
            ],
            [
             1,
             "#f0f921"
            ]
           ],
           "sequentialminus": [
            [
             0,
             "#0d0887"
            ],
            [
             0.1111111111111111,
             "#46039f"
            ],
            [
             0.2222222222222222,
             "#7201a8"
            ],
            [
             0.3333333333333333,
             "#9c179e"
            ],
            [
             0.4444444444444444,
             "#bd3786"
            ],
            [
             0.5555555555555556,
             "#d8576b"
            ],
            [
             0.6666666666666666,
             "#ed7953"
            ],
            [
             0.7777777777777778,
             "#fb9f3a"
            ],
            [
             0.8888888888888888,
             "#fdca26"
            ],
            [
             1,
             "#f0f921"
            ]
           ]
          },
          "colorway": [
           "#636efa",
           "#EF553B",
           "#00cc96",
           "#ab63fa",
           "#FFA15A",
           "#19d3f3",
           "#FF6692",
           "#B6E880",
           "#FF97FF",
           "#FECB52"
          ],
          "font": {
           "color": "#2a3f5f"
          },
          "geo": {
           "bgcolor": "white",
           "lakecolor": "white",
           "landcolor": "#E5ECF6",
           "showlakes": true,
           "showland": true,
           "subunitcolor": "white"
          },
          "hoverlabel": {
           "align": "left"
          },
          "hovermode": "closest",
          "mapbox": {
           "style": "light"
          },
          "paper_bgcolor": "white",
          "plot_bgcolor": "#E5ECF6",
          "polar": {
           "angularaxis": {
            "gridcolor": "white",
            "linecolor": "white",
            "ticks": ""
           },
           "bgcolor": "#E5ECF6",
           "radialaxis": {
            "gridcolor": "white",
            "linecolor": "white",
            "ticks": ""
           }
          },
          "scene": {
           "xaxis": {
            "backgroundcolor": "#E5ECF6",
            "gridcolor": "white",
            "gridwidth": 2,
            "linecolor": "white",
            "showbackground": true,
            "ticks": "",
            "zerolinecolor": "white"
           },
           "yaxis": {
            "backgroundcolor": "#E5ECF6",
            "gridcolor": "white",
            "gridwidth": 2,
            "linecolor": "white",
            "showbackground": true,
            "ticks": "",
            "zerolinecolor": "white"
           },
           "zaxis": {
            "backgroundcolor": "#E5ECF6",
            "gridcolor": "white",
            "gridwidth": 2,
            "linecolor": "white",
            "showbackground": true,
            "ticks": "",
            "zerolinecolor": "white"
           }
          },
          "shapedefaults": {
           "line": {
            "color": "#2a3f5f"
           }
          },
          "ternary": {
           "aaxis": {
            "gridcolor": "white",
            "linecolor": "white",
            "ticks": ""
           },
           "baxis": {
            "gridcolor": "white",
            "linecolor": "white",
            "ticks": ""
           },
           "bgcolor": "#E5ECF6",
           "caxis": {
            "gridcolor": "white",
            "linecolor": "white",
            "ticks": ""
           }
          },
          "title": {
           "x": 0.05
          },
          "xaxis": {
           "automargin": true,
           "gridcolor": "white",
           "linecolor": "white",
           "ticks": "",
           "title": {
            "standoff": 15
           },
           "zerolinecolor": "white",
           "zerolinewidth": 2
          },
          "yaxis": {
           "automargin": true,
           "gridcolor": "white",
           "linecolor": "white",
           "ticks": "",
           "title": {
            "standoff": 15
           },
           "zerolinecolor": "white",
           "zerolinewidth": 2
          }
         }
        },
        "title": {
         "text": "Total = 39687"
        },
        "xaxis": {
         "title": {
          "text": "Columns"
         }
        },
        "yaxis": {
         "title": {
          "text": "Count"
         }
        }
       }
      },
      "text/html": [
       "<div>                            <div id=\"67e0e8b2-886e-472e-9550-50eaf6d17ea3\" class=\"plotly-graph-div\" style=\"height:525px; width:100%;\"></div>            <script type=\"text/javascript\">                require([\"plotly\"], function(Plotly) {                    window.PLOTLYENV=window.PLOTLYENV || {};                                    if (document.getElementById(\"67e0e8b2-886e-472e-9550-50eaf6d17ea3\")) {                    Plotly.newPlot(                        \"67e0e8b2-886e-472e-9550-50eaf6d17ea3\",                        [{\"base\":0,\"hoverinfo\":\"text+name\",\"hovertemplate\":\"Bern\\u003cbr\\u003e: 34347\",\"name\":\"Bern : 34347\",\"orientation\":\"v\",\"x\":[\"centerID\"],\"y\":[34347],\"type\":\"bar\"},{\"base\":34347,\"hoverinfo\":\"text+name\",\"hovertemplate\":\"Cologne\\u003cbr\\u003e: 5340\",\"name\":\"Cologne : 5340\",\"orientation\":\"v\",\"x\":[\"centerID\"],\"y\":[5340],\"type\":\"bar\"},{\"base\":0,\"hoverinfo\":\"text+name\",\"hovertemplate\":\"Boston Scientific Vercise\\u003cbr\\u003e: 36463\",\"name\":\"Boston Scientific Vercise : 36463\",\"orientation\":\"v\",\"x\":[\"leadModel\"],\"y\":[36463],\"type\":\"bar\"},{\"base\":36463,\"hoverinfo\":\"text+name\",\"hovertemplate\":\"Medtronic 3389\\u003cbr\\u003e: 3224\",\"name\":\"Medtronic 3389 : 3224\",\"orientation\":\"v\",\"x\":[\"leadModel\"],\"y\":[3224],\"type\":\"bar\"},{\"base\":0,\"hoverinfo\":\"text+name\",\"hovertemplate\":\"1.0\\u003cbr\\u003e: 820\",\"name\":\"1.0 : 820\",\"orientation\":\"v\",\"x\":[\"patientID\"],\"y\":[820],\"type\":\"bar\"},{\"base\":820,\"hoverinfo\":\"text+name\",\"hovertemplate\":\"3.0\\u003cbr\\u003e: 410\",\"name\":\"3.0 : 410\",\"orientation\":\"v\",\"x\":[\"patientID\"],\"y\":[410],\"type\":\"bar\"},{\"base\":1230,\"hoverinfo\":\"text+name\",\"hovertemplate\":\"6.0\\u003cbr\\u003e: 820\",\"name\":\"6.0 : 820\",\"orientation\":\"v\",\"x\":[\"patientID\"],\"y\":[820],\"type\":\"bar\"},{\"base\":2050,\"hoverinfo\":\"text+name\",\"hovertemplate\":\"8.0\\u003cbr\\u003e: 1207\",\"name\":\"8.0 : 1207\",\"orientation\":\"v\",\"x\":[\"patientID\"],\"y\":[1207],\"type\":\"bar\"},{\"base\":3257,\"hoverinfo\":\"text+name\",\"hovertemplate\":\"9.0\\u003cbr\\u003e: 820\",\"name\":\"9.0 : 820\",\"orientation\":\"v\",\"x\":[\"patientID\"],\"y\":[820],\"type\":\"bar\"},{\"base\":4077,\"hoverinfo\":\"text+name\",\"hovertemplate\":\"11.0\\u003cbr\\u003e: 852\",\"name\":\"11.0 : 852\",\"orientation\":\"v\",\"x\":[\"patientID\"],\"y\":[852],\"type\":\"bar\"},{\"base\":4929,\"hoverinfo\":\"text+name\",\"hovertemplate\":\"12.0\\u003cbr\\u003e: 779\",\"name\":\"12.0 : 779\",\"orientation\":\"v\",\"x\":[\"patientID\"],\"y\":[779],\"type\":\"bar\"},{\"base\":5708,\"hoverinfo\":\"text+name\",\"hovertemplate\":\"13.0\\u003cbr\\u003e: 738\",\"name\":\"13.0 : 738\",\"orientation\":\"v\",\"x\":[\"patientID\"],\"y\":[738],\"type\":\"bar\"},{\"base\":6446,\"hoverinfo\":\"text+name\",\"hovertemplate\":\"14.0\\u003cbr\\u003e: 639\",\"name\":\"14.0 : 639\",\"orientation\":\"v\",\"x\":[\"patientID\"],\"y\":[639],\"type\":\"bar\"},{\"base\":7085,\"hoverinfo\":\"text+name\",\"hovertemplate\":\"15.0\\u003cbr\\u003e: 1136\",\"name\":\"15.0 : 1136\",\"orientation\":\"v\",\"x\":[\"patientID\"],\"y\":[1136],\"type\":\"bar\"},{\"base\":8221,\"hoverinfo\":\"text+name\",\"hovertemplate\":\"16.0\\u003cbr\\u003e: 1278\",\"name\":\"16.0 : 1278\",\"orientation\":\"v\",\"x\":[\"patientID\"],\"y\":[1278],\"type\":\"bar\"},{\"base\":9499,\"hoverinfo\":\"text+name\",\"hovertemplate\":\"17.0\\u003cbr\\u003e: 779\",\"name\":\"17.0 : 779\",\"orientation\":\"v\",\"x\":[\"patientID\"],\"y\":[779],\"type\":\"bar\"},{\"base\":10278,\"hoverinfo\":\"text+name\",\"hovertemplate\":\"18.0\\u003cbr\\u003e: 1136\",\"name\":\"18.0 : 1136\",\"orientation\":\"v\",\"x\":[\"patientID\"],\"y\":[1136],\"type\":\"bar\"},{\"base\":11414,\"hoverinfo\":\"text+name\",\"hovertemplate\":\"19.0\\u003cbr\\u003e: 738\",\"name\":\"19.0 : 738\",\"orientation\":\"v\",\"x\":[\"patientID\"],\"y\":[738],\"type\":\"bar\"},{\"base\":12152,\"hoverinfo\":\"text+name\",\"hovertemplate\":\"20.0\\u003cbr\\u003e: 369\",\"name\":\"20.0 : 369\",\"orientation\":\"v\",\"x\":[\"patientID\"],\"y\":[369],\"type\":\"bar\"},{\"base\":12521,\"hoverinfo\":\"text+name\",\"hovertemplate\":\"21.0\\u003cbr\\u003e: 781\",\"name\":\"21.0 : 781\",\"orientation\":\"v\",\"x\":[\"patientID\"],\"y\":[781],\"type\":\"bar\"},{\"base\":13302,\"hoverinfo\":\"text+name\",\"hovertemplate\":\"22.0\\u003cbr\\u003e: 1278\",\"name\":\"22.0 : 1278\",\"orientation\":\"v\",\"x\":[\"patientID\"],\"y\":[1278],\"type\":\"bar\"},{\"base\":14580,\"hoverinfo\":\"text+name\",\"hovertemplate\":\"23.0\\u003cbr\\u003e: 1420\",\"name\":\"23.0 : 1420\",\"orientation\":\"v\",\"x\":[\"patientID\"],\"y\":[1420],\"type\":\"bar\"},{\"base\":16000,\"hoverinfo\":\"text+name\",\"hovertemplate\":\"25.0\\u003cbr\\u003e: 656\",\"name\":\"25.0 : 656\",\"orientation\":\"v\",\"x\":[\"patientID\"],\"y\":[656],\"type\":\"bar\"},{\"base\":16656,\"hoverinfo\":\"text+name\",\"hovertemplate\":\"26.0\\u003cbr\\u003e: 1136\",\"name\":\"26.0 : 1136\",\"orientation\":\"v\",\"x\":[\"patientID\"],\"y\":[1136],\"type\":\"bar\"},{\"base\":17792,\"hoverinfo\":\"text+name\",\"hovertemplate\":\"27.0\\u003cbr\\u003e: 1207\",\"name\":\"27.0 : 1207\",\"orientation\":\"v\",\"x\":[\"patientID\"],\"y\":[1207],\"type\":\"bar\"},{\"base\":18999,\"hoverinfo\":\"text+name\",\"hovertemplate\":\"28.0\\u003cbr\\u003e: 779\",\"name\":\"28.0 : 779\",\"orientation\":\"v\",\"x\":[\"patientID\"],\"y\":[779],\"type\":\"bar\"},{\"base\":19778,\"hoverinfo\":\"text+name\",\"hovertemplate\":\"29.0\\u003cbr\\u003e: 1065\",\"name\":\"29.0 : 1065\",\"orientation\":\"v\",\"x\":[\"patientID\"],\"y\":[1065],\"type\":\"bar\"},{\"base\":20843,\"hoverinfo\":\"text+name\",\"hovertemplate\":\"31.0\\u003cbr\\u003e: 656\",\"name\":\"31.0 : 656\",\"orientation\":\"v\",\"x\":[\"patientID\"],\"y\":[656],\"type\":\"bar\"},{\"base\":21499,\"hoverinfo\":\"text+name\",\"hovertemplate\":\"34.0\\u003cbr\\u003e: 410\",\"name\":\"34.0 : 410\",\"orientation\":\"v\",\"x\":[\"patientID\"],\"y\":[410],\"type\":\"bar\"},{\"base\":21909,\"hoverinfo\":\"text+name\",\"hovertemplate\":\"35.0\\u003cbr\\u003e: 820\",\"name\":\"35.0 : 820\",\"orientation\":\"v\",\"x\":[\"patientID\"],\"y\":[820],\"type\":\"bar\"},{\"base\":22729,\"hoverinfo\":\"text+name\",\"hovertemplate\":\"36.0\\u003cbr\\u003e: 994\",\"name\":\"36.0 : 994\",\"orientation\":\"v\",\"x\":[\"patientID\"],\"y\":[994],\"type\":\"bar\"},{\"base\":23723,\"hoverinfo\":\"text+name\",\"hovertemplate\":\"37.0\\u003cbr\\u003e: 451\",\"name\":\"37.0 : 451\",\"orientation\":\"v\",\"x\":[\"patientID\"],\"y\":[451],\"type\":\"bar\"},{\"base\":24174,\"hoverinfo\":\"text+name\",\"hovertemplate\":\"38.0\\u003cbr\\u003e: 533\",\"name\":\"38.0 : 533\",\"orientation\":\"v\",\"x\":[\"patientID\"],\"y\":[533],\"type\":\"bar\"},{\"base\":24707,\"hoverinfo\":\"text+name\",\"hovertemplate\":\"39.0\\u003cbr\\u003e: 410\",\"name\":\"39.0 : 410\",\"orientation\":\"v\",\"x\":[\"patientID\"],\"y\":[410],\"type\":\"bar\"},{\"base\":25117,\"hoverinfo\":\"text+name\",\"hovertemplate\":\"40.0\\u003cbr\\u003e: 574\",\"name\":\"40.0 : 574\",\"orientation\":\"v\",\"x\":[\"patientID\"],\"y\":[574],\"type\":\"bar\"},{\"base\":25691,\"hoverinfo\":\"text+name\",\"hovertemplate\":\"41.0\\u003cbr\\u003e: 287\",\"name\":\"41.0 : 287\",\"orientation\":\"v\",\"x\":[\"patientID\"],\"y\":[287],\"type\":\"bar\"},{\"base\":25978,\"hoverinfo\":\"text+name\",\"hovertemplate\":\"42.0\\u003cbr\\u003e: 1065\",\"name\":\"42.0 : 1065\",\"orientation\":\"v\",\"x\":[\"patientID\"],\"y\":[1065],\"type\":\"bar\"},{\"base\":27043,\"hoverinfo\":\"text+name\",\"hovertemplate\":\"82.0\\u003cbr\\u003e: 164\",\"name\":\"82.0 : 164\",\"orientation\":\"v\",\"x\":[\"patientID\"],\"y\":[164],\"type\":\"bar\"},{\"base\":27207,\"hoverinfo\":\"text+name\",\"hovertemplate\":\"119.0\\u003cbr\\u003e: 533\",\"name\":\"119.0 : 533\",\"orientation\":\"v\",\"x\":[\"patientID\"],\"y\":[533],\"type\":\"bar\"},{\"base\":27740,\"hoverinfo\":\"text+name\",\"hovertemplate\":\"134.0\\u003cbr\\u003e: 656\",\"name\":\"134.0 : 656\",\"orientation\":\"v\",\"x\":[\"patientID\"],\"y\":[656],\"type\":\"bar\"},{\"base\":28396,\"hoverinfo\":\"text+name\",\"hovertemplate\":\"138.0\\u003cbr\\u003e: 287\",\"name\":\"138.0 : 287\",\"orientation\":\"v\",\"x\":[\"patientID\"],\"y\":[287],\"type\":\"bar\"},{\"base\":28683,\"hoverinfo\":\"text+name\",\"hovertemplate\":\"149.0\\u003cbr\\u003e: 1349\",\"name\":\"149.0 : 1349\",\"orientation\":\"v\",\"x\":[\"patientID\"],\"y\":[1349],\"type\":\"bar\"},{\"base\":30032,\"hoverinfo\":\"text+name\",\"hovertemplate\":\"175.0\\u003cbr\\u003e: 656\",\"name\":\"175.0 : 656\",\"orientation\":\"v\",\"x\":[\"patientID\"],\"y\":[656],\"type\":\"bar\"},{\"base\":30688,\"hoverinfo\":\"text+name\",\"hovertemplate\":\"176.0\\u003cbr\\u003e: 123\",\"name\":\"176.0 : 123\",\"orientation\":\"v\",\"x\":[\"patientID\"],\"y\":[123],\"type\":\"bar\"},{\"base\":30811,\"hoverinfo\":\"text+name\",\"hovertemplate\":\"177.0\\u003cbr\\u003e: 410\",\"name\":\"177.0 : 410\",\"orientation\":\"v\",\"x\":[\"patientID\"],\"y\":[410],\"type\":\"bar\"},{\"base\":31221,\"hoverinfo\":\"text+name\",\"hovertemplate\":\"178.0\\u003cbr\\u003e: 328\",\"name\":\"178.0 : 328\",\"orientation\":\"v\",\"x\":[\"patientID\"],\"y\":[328],\"type\":\"bar\"},{\"base\":31549,\"hoverinfo\":\"text+name\",\"hovertemplate\":\"179.0\\u003cbr\\u003e: 656\",\"name\":\"179.0 : 656\",\"orientation\":\"v\",\"x\":[\"patientID\"],\"y\":[656],\"type\":\"bar\"},{\"base\":32205,\"hoverinfo\":\"text+name\",\"hovertemplate\":\"180.0\\u003cbr\\u003e: 697\",\"name\":\"180.0 : 697\",\"orientation\":\"v\",\"x\":[\"patientID\"],\"y\":[697],\"type\":\"bar\"},{\"base\":32902,\"hoverinfo\":\"text+name\",\"hovertemplate\":\"181.0\\u003cbr\\u003e: 994\",\"name\":\"181.0 : 994\",\"orientation\":\"v\",\"x\":[\"patientID\"],\"y\":[994],\"type\":\"bar\"},{\"base\":33896,\"hoverinfo\":\"text+name\",\"hovertemplate\":\"183.0\\u003cbr\\u003e: 451\",\"name\":\"183.0 : 451\",\"orientation\":\"v\",\"x\":[\"patientID\"],\"y\":[451],\"type\":\"bar\"},{\"base\":34347,\"hoverinfo\":\"text+name\",\"hovertemplate\":\"201.0\\u003cbr\\u003e: 133\",\"name\":\"201.0 : 133\",\"orientation\":\"v\",\"x\":[\"patientID\"],\"y\":[133],\"type\":\"bar\"},{\"base\":34480,\"hoverinfo\":\"text+name\",\"hovertemplate\":\"202.0\\u003cbr\\u003e: 46\",\"name\":\"202.0 : 46\",\"orientation\":\"v\",\"x\":[\"patientID\"],\"y\":[46],\"type\":\"bar\"},{\"base\":34526,\"hoverinfo\":\"text+name\",\"hovertemplate\":\"203.0\\u003cbr\\u003e: 123\",\"name\":\"203.0 : 123\",\"orientation\":\"v\",\"x\":[\"patientID\"],\"y\":[123],\"type\":\"bar\"},{\"base\":34649,\"hoverinfo\":\"text+name\",\"hovertemplate\":\"204.0\\u003cbr\\u003e: 87\",\"name\":\"204.0 : 87\",\"orientation\":\"v\",\"x\":[\"patientID\"],\"y\":[87],\"type\":\"bar\"},{\"base\":34736,\"hoverinfo\":\"text+name\",\"hovertemplate\":\"205.0\\u003cbr\\u003e: 312\",\"name\":\"205.0 : 312\",\"orientation\":\"v\",\"x\":[\"patientID\"],\"y\":[312],\"type\":\"bar\"},{\"base\":35048,\"hoverinfo\":\"text+name\",\"hovertemplate\":\"206.0\\u003cbr\\u003e: 82\",\"name\":\"206.0 : 82\",\"orientation\":\"v\",\"x\":[\"patientID\"],\"y\":[82],\"type\":\"bar\"},{\"base\":35130,\"hoverinfo\":\"text+name\",\"hovertemplate\":\"207.0\\u003cbr\\u003e: 174\",\"name\":\"207.0 : 174\",\"orientation\":\"v\",\"x\":[\"patientID\"],\"y\":[174],\"type\":\"bar\"},{\"base\":35304,\"hoverinfo\":\"text+name\",\"hovertemplate\":\"208.0\\u003cbr\\u003e: 271\",\"name\":\"208.0 : 271\",\"orientation\":\"v\",\"x\":[\"patientID\"],\"y\":[271],\"type\":\"bar\"},{\"base\":35575,\"hoverinfo\":\"text+name\",\"hovertemplate\":\"211.0\\u003cbr\\u003e: 251\",\"name\":\"211.0 : 251\",\"orientation\":\"v\",\"x\":[\"patientID\"],\"y\":[251],\"type\":\"bar\"},{\"base\":35826,\"hoverinfo\":\"text+name\",\"hovertemplate\":\"214.0\\u003cbr\\u003e: 174\",\"name\":\"214.0 : 174\",\"orientation\":\"v\",\"x\":[\"patientID\"],\"y\":[174],\"type\":\"bar\"},{\"base\":36000,\"hoverinfo\":\"text+name\",\"hovertemplate\":\"215.0\\u003cbr\\u003e: 338\",\"name\":\"215.0 : 338\",\"orientation\":\"v\",\"x\":[\"patientID\"],\"y\":[338],\"type\":\"bar\"},{\"base\":36338,\"hoverinfo\":\"text+name\",\"hovertemplate\":\"216.0\\u003cbr\\u003e: 128\",\"name\":\"216.0 : 128\",\"orientation\":\"v\",\"x\":[\"patientID\"],\"y\":[128],\"type\":\"bar\"},{\"base\":36466,\"hoverinfo\":\"text+name\",\"hovertemplate\":\"217.0\\u003cbr\\u003e: 184\",\"name\":\"217.0 : 184\",\"orientation\":\"v\",\"x\":[\"patientID\"],\"y\":[184],\"type\":\"bar\"},{\"base\":36650,\"hoverinfo\":\"text+name\",\"hovertemplate\":\"218.0\\u003cbr\\u003e: 138\",\"name\":\"218.0 : 138\",\"orientation\":\"v\",\"x\":[\"patientID\"],\"y\":[138],\"type\":\"bar\"},{\"base\":36788,\"hoverinfo\":\"text+name\",\"hovertemplate\":\"219.0\\u003cbr\\u003e: 41\",\"name\":\"219.0 : 41\",\"orientation\":\"v\",\"x\":[\"patientID\"],\"y\":[41],\"type\":\"bar\"},{\"base\":36829,\"hoverinfo\":\"text+name\",\"hovertemplate\":\"220.0\\u003cbr\\u003e: 46\",\"name\":\"220.0 : 46\",\"orientation\":\"v\",\"x\":[\"patientID\"],\"y\":[46],\"type\":\"bar\"},{\"base\":36875,\"hoverinfo\":\"text+name\",\"hovertemplate\":\"222.0\\u003cbr\\u003e: 128\",\"name\":\"222.0 : 128\",\"orientation\":\"v\",\"x\":[\"patientID\"],\"y\":[128],\"type\":\"bar\"},{\"base\":37003,\"hoverinfo\":\"text+name\",\"hovertemplate\":\"223.0\\u003cbr\\u003e: 266\",\"name\":\"223.0 : 266\",\"orientation\":\"v\",\"x\":[\"patientID\"],\"y\":[266],\"type\":\"bar\"},{\"base\":37269,\"hoverinfo\":\"text+name\",\"hovertemplate\":\"224.0\\u003cbr\\u003e: 128\",\"name\":\"224.0 : 128\",\"orientation\":\"v\",\"x\":[\"patientID\"],\"y\":[128],\"type\":\"bar\"},{\"base\":37397,\"hoverinfo\":\"text+name\",\"hovertemplate\":\"225.0\\u003cbr\\u003e: 174\",\"name\":\"225.0 : 174\",\"orientation\":\"v\",\"x\":[\"patientID\"],\"y\":[174],\"type\":\"bar\"},{\"base\":37571,\"hoverinfo\":\"text+name\",\"hovertemplate\":\"231.0\\u003cbr\\u003e: 276\",\"name\":\"231.0 : 276\",\"orientation\":\"v\",\"x\":[\"patientID\"],\"y\":[276],\"type\":\"bar\"},{\"base\":37847,\"hoverinfo\":\"text+name\",\"hovertemplate\":\"232.0\\u003cbr\\u003e: 184\",\"name\":\"232.0 : 184\",\"orientation\":\"v\",\"x\":[\"patientID\"],\"y\":[184],\"type\":\"bar\"},{\"base\":38031,\"hoverinfo\":\"text+name\",\"hovertemplate\":\"233.0\\u003cbr\\u003e: 276\",\"name\":\"233.0 : 276\",\"orientation\":\"v\",\"x\":[\"patientID\"],\"y\":[276],\"type\":\"bar\"},{\"base\":38307,\"hoverinfo\":\"text+name\",\"hovertemplate\":\"234.0\\u003cbr\\u003e: 138\",\"name\":\"234.0 : 138\",\"orientation\":\"v\",\"x\":[\"patientID\"],\"y\":[138],\"type\":\"bar\"},{\"base\":38445,\"hoverinfo\":\"text+name\",\"hovertemplate\":\"235.0\\u003cbr\\u003e: 230\",\"name\":\"235.0 : 230\",\"orientation\":\"v\",\"x\":[\"patientID\"],\"y\":[230],\"type\":\"bar\"},{\"base\":38675,\"hoverinfo\":\"text+name\",\"hovertemplate\":\"236.0\\u003cbr\\u003e: 92\",\"name\":\"236.0 : 92\",\"orientation\":\"v\",\"x\":[\"patientID\"],\"y\":[92],\"type\":\"bar\"},{\"base\":38767,\"hoverinfo\":\"text+name\",\"hovertemplate\":\"237.0\\u003cbr\\u003e: 230\",\"name\":\"237.0 : 230\",\"orientation\":\"v\",\"x\":[\"patientID\"],\"y\":[230],\"type\":\"bar\"},{\"base\":38997,\"hoverinfo\":\"text+name\",\"hovertemplate\":\"238.0\\u003cbr\\u003e: 276\",\"name\":\"238.0 : 276\",\"orientation\":\"v\",\"x\":[\"patientID\"],\"y\":[276],\"type\":\"bar\"},{\"base\":39273,\"hoverinfo\":\"text+name\",\"hovertemplate\":\"239.0\\u003cbr\\u003e: 276\",\"name\":\"239.0 : 276\",\"orientation\":\"v\",\"x\":[\"patientID\"],\"y\":[276],\"type\":\"bar\"},{\"base\":39549,\"hoverinfo\":\"text+name\",\"hovertemplate\":\"240.0\\u003cbr\\u003e: 138\",\"name\":\"240.0 : 138\",\"orientation\":\"v\",\"x\":[\"patientID\"],\"y\":[138],\"type\":\"bar\"},{\"base\":0,\"hoverinfo\":\"text+name\",\"hovertemplate\":\"0\\u003cbr\\u003e: 1128\",\"name\":\"0 : 1128\",\"orientation\":\"v\",\"x\":[\"verciseID\"],\"y\":[1128],\"type\":\"bar\"},{\"base\":1128,\"hoverinfo\":\"text+name\",\"hovertemplate\":\"1\\u003cbr\\u003e: 1713\",\"name\":\"1 : 1713\",\"orientation\":\"v\",\"x\":[\"verciseID\"],\"y\":[1713],\"type\":\"bar\"},{\"base\":2841,\"hoverinfo\":\"text+name\",\"hovertemplate\":\"2\\u003cbr\\u003e: 1825\",\"name\":\"2 : 1825\",\"orientation\":\"v\",\"x\":[\"verciseID\"],\"y\":[1825],\"type\":\"bar\"},{\"base\":4666,\"hoverinfo\":\"text+name\",\"hovertemplate\":\"3\\u003cbr\\u003e: 1743\",\"name\":\"3 : 1743\",\"orientation\":\"v\",\"x\":[\"verciseID\"],\"y\":[1743],\"type\":\"bar\"},{\"base\":6409,\"hoverinfo\":\"text+name\",\"hovertemplate\":\"4\\u003cbr\\u003e: 2023\",\"name\":\"4 : 2023\",\"orientation\":\"v\",\"x\":[\"verciseID\"],\"y\":[2023],\"type\":\"bar\"},{\"base\":8432,\"hoverinfo\":\"text+name\",\"hovertemplate\":\"5\\u003cbr\\u003e: 1824\",\"name\":\"5 : 1824\",\"orientation\":\"v\",\"x\":[\"verciseID\"],\"y\":[1824],\"type\":\"bar\"},{\"base\":10256,\"hoverinfo\":\"text+name\",\"hovertemplate\":\"6\\u003cbr\\u003e: 2146\",\"name\":\"6 : 2146\",\"orientation\":\"v\",\"x\":[\"verciseID\"],\"y\":[2146],\"type\":\"bar\"},{\"base\":12402,\"hoverinfo\":\"text+name\",\"hovertemplate\":\"7\\u003cbr\\u003e: 2351\",\"name\":\"7 : 2351\",\"orientation\":\"v\",\"x\":[\"verciseID\"],\"y\":[2351],\"type\":\"bar\"},{\"base\":14753,\"hoverinfo\":\"text+name\",\"hovertemplate\":\"8\\u003cbr\\u003e: 1053\",\"name\":\"8 : 1053\",\"orientation\":\"v\",\"x\":[\"verciseID\"],\"y\":[1053],\"type\":\"bar\"},{\"base\":15806,\"hoverinfo\":\"text+name\",\"hovertemplate\":\"9\\u003cbr\\u003e: 1674\",\"name\":\"9 : 1674\",\"orientation\":\"v\",\"x\":[\"verciseID\"],\"y\":[1674],\"type\":\"bar\"},{\"base\":17480,\"hoverinfo\":\"text+name\",\"hovertemplate\":\"10\\u003cbr\\u003e: 1417\",\"name\":\"10 : 1417\",\"orientation\":\"v\",\"x\":[\"verciseID\"],\"y\":[1417],\"type\":\"bar\"},{\"base\":18897,\"hoverinfo\":\"text+name\",\"hovertemplate\":\"11\\u003cbr\\u003e: 1578\",\"name\":\"11 : 1578\",\"orientation\":\"v\",\"x\":[\"verciseID\"],\"y\":[1578],\"type\":\"bar\"},{\"base\":20475,\"hoverinfo\":\"text+name\",\"hovertemplate\":\"12\\u003cbr\\u003e: 2315\",\"name\":\"12 : 2315\",\"orientation\":\"v\",\"x\":[\"verciseID\"],\"y\":[2315],\"type\":\"bar\"},{\"base\":22790,\"hoverinfo\":\"text+name\",\"hovertemplate\":\"13\\u003cbr\\u003e: 2274\",\"name\":\"13 : 2274\",\"orientation\":\"v\",\"x\":[\"verciseID\"],\"y\":[2274],\"type\":\"bar\"},{\"base\":25064,\"hoverinfo\":\"text+name\",\"hovertemplate\":\"14\\u003cbr\\u003e: 2514\",\"name\":\"14 : 2514\",\"orientation\":\"v\",\"x\":[\"verciseID\"],\"y\":[2514],\"type\":\"bar\"},{\"base\":27578,\"hoverinfo\":\"text+name\",\"hovertemplate\":\"15\\u003cbr\\u003e: 2514\",\"name\":\"15 : 2514\",\"orientation\":\"v\",\"x\":[\"verciseID\"],\"y\":[2514],\"type\":\"bar\"},{\"base\":30092,\"hoverinfo\":\"text+name\",\"hovertemplate\":\"16\\u003cbr\\u003e: 2234\",\"name\":\"16 : 2234\",\"orientation\":\"v\",\"x\":[\"verciseID\"],\"y\":[2234],\"type\":\"bar\"},{\"base\":32326,\"hoverinfo\":\"text+name\",\"hovertemplate\":\"17\\u003cbr\\u003e: 2556\",\"name\":\"17 : 2556\",\"orientation\":\"v\",\"x\":[\"verciseID\"],\"y\":[2556],\"type\":\"bar\"},{\"base\":34882,\"hoverinfo\":\"text+name\",\"hovertemplate\":\"18\\u003cbr\\u003e: 2209\",\"name\":\"18 : 2209\",\"orientation\":\"v\",\"x\":[\"verciseID\"],\"y\":[2209],\"type\":\"bar\"},{\"base\":37091,\"hoverinfo\":\"text+name\",\"hovertemplate\":\"19\\u003cbr\\u003e: 2596\",\"name\":\"19 : 2596\",\"orientation\":\"v\",\"x\":[\"verciseID\"],\"y\":[2596],\"type\":\"bar\"},{\"base\":0,\"hoverinfo\":\"text+name\",\"hovertemplate\":\"0.5\\u003cbr\\u003e: 84\",\"name\":\"0.5 : 84\",\"orientation\":\"v\",\"x\":[\"amplitude\"],\"y\":[84],\"type\":\"bar\"},{\"base\":84,\"hoverinfo\":\"text+name\",\"hovertemplate\":\"0.6\\u003cbr\\u003e: 84\",\"name\":\"0.6 : 84\",\"orientation\":\"v\",\"x\":[\"amplitude\"],\"y\":[84],\"type\":\"bar\"},{\"base\":168,\"hoverinfo\":\"text+name\",\"hovertemplate\":\"0.7\\u003cbr\\u003e: 84\",\"name\":\"0.7 : 84\",\"orientation\":\"v\",\"x\":[\"amplitude\"],\"y\":[84],\"type\":\"bar\"},{\"base\":252,\"hoverinfo\":\"text+name\",\"hovertemplate\":\"0.8\\u003cbr\\u003e: 84\",\"name\":\"0.8 : 84\",\"orientation\":\"v\",\"x\":[\"amplitude\"],\"y\":[84],\"type\":\"bar\"},{\"base\":336,\"hoverinfo\":\"text+name\",\"hovertemplate\":\"0.9\\u003cbr\\u003e: 84\",\"name\":\"0.9 : 84\",\"orientation\":\"v\",\"x\":[\"amplitude\"],\"y\":[84],\"type\":\"bar\"},{\"base\":420,\"hoverinfo\":\"text+name\",\"hovertemplate\":\"1.0\\u003cbr\\u003e: 777\",\"name\":\"1.0 : 777\",\"orientation\":\"v\",\"x\":[\"amplitude\"],\"y\":[777],\"type\":\"bar\"},{\"base\":1197,\"hoverinfo\":\"text+name\",\"hovertemplate\":\"1.1\\u003cbr\\u003e: 777\",\"name\":\"1.1 : 777\",\"orientation\":\"v\",\"x\":[\"amplitude\"],\"y\":[777],\"type\":\"bar\"},{\"base\":1974,\"hoverinfo\":\"text+name\",\"hovertemplate\":\"1.2\\u003cbr\\u003e: 777\",\"name\":\"1.2 : 777\",\"orientation\":\"v\",\"x\":[\"amplitude\"],\"y\":[777],\"type\":\"bar\"},{\"base\":2751,\"hoverinfo\":\"text+name\",\"hovertemplate\":\"1.3\\u003cbr\\u003e: 777\",\"name\":\"1.3 : 777\",\"orientation\":\"v\",\"x\":[\"amplitude\"],\"y\":[777],\"type\":\"bar\"},{\"base\":3528,\"hoverinfo\":\"text+name\",\"hovertemplate\":\"1.4\\u003cbr\\u003e: 777\",\"name\":\"1.4 : 777\",\"orientation\":\"v\",\"x\":[\"amplitude\"],\"y\":[777],\"type\":\"bar\"},{\"base\":4305,\"hoverinfo\":\"text+name\",\"hovertemplate\":\"1.5\\u003cbr\\u003e: 777\",\"name\":\"1.5 : 777\",\"orientation\":\"v\",\"x\":[\"amplitude\"],\"y\":[777],\"type\":\"bar\"},{\"base\":5082,\"hoverinfo\":\"text+name\",\"hovertemplate\":\"1.6\\u003cbr\\u003e: 777\",\"name\":\"1.6 : 777\",\"orientation\":\"v\",\"x\":[\"amplitude\"],\"y\":[777],\"type\":\"bar\"},{\"base\":5859,\"hoverinfo\":\"text+name\",\"hovertemplate\":\"1.7\\u003cbr\\u003e: 777\",\"name\":\"1.7 : 777\",\"orientation\":\"v\",\"x\":[\"amplitude\"],\"y\":[777],\"type\":\"bar\"},{\"base\":6636,\"hoverinfo\":\"text+name\",\"hovertemplate\":\"1.8\\u003cbr\\u003e: 777\",\"name\":\"1.8 : 777\",\"orientation\":\"v\",\"x\":[\"amplitude\"],\"y\":[777],\"type\":\"bar\"},{\"base\":7413,\"hoverinfo\":\"text+name\",\"hovertemplate\":\"1.9\\u003cbr\\u003e: 777\",\"name\":\"1.9 : 777\",\"orientation\":\"v\",\"x\":[\"amplitude\"],\"y\":[777],\"type\":\"bar\"},{\"base\":8190,\"hoverinfo\":\"text+name\",\"hovertemplate\":\"2.0\\u003cbr\\u003e: 777\",\"name\":\"2.0 : 777\",\"orientation\":\"v\",\"x\":[\"amplitude\"],\"y\":[777],\"type\":\"bar\"},{\"base\":8967,\"hoverinfo\":\"text+name\",\"hovertemplate\":\"2.1\\u003cbr\\u003e: 777\",\"name\":\"2.1 : 777\",\"orientation\":\"v\",\"x\":[\"amplitude\"],\"y\":[777],\"type\":\"bar\"},{\"base\":9744,\"hoverinfo\":\"text+name\",\"hovertemplate\":\"2.2\\u003cbr\\u003e: 777\",\"name\":\"2.2 : 777\",\"orientation\":\"v\",\"x\":[\"amplitude\"],\"y\":[777],\"type\":\"bar\"},{\"base\":10521,\"hoverinfo\":\"text+name\",\"hovertemplate\":\"2.3\\u003cbr\\u003e: 777\",\"name\":\"2.3 : 777\",\"orientation\":\"v\",\"x\":[\"amplitude\"],\"y\":[777],\"type\":\"bar\"},{\"base\":11298,\"hoverinfo\":\"text+name\",\"hovertemplate\":\"2.4\\u003cbr\\u003e: 777\",\"name\":\"2.4 : 777\",\"orientation\":\"v\",\"x\":[\"amplitude\"],\"y\":[777],\"type\":\"bar\"},{\"base\":12075,\"hoverinfo\":\"text+name\",\"hovertemplate\":\"2.5\\u003cbr\\u003e: 777\",\"name\":\"2.5 : 777\",\"orientation\":\"v\",\"x\":[\"amplitude\"],\"y\":[777],\"type\":\"bar\"},{\"base\":12852,\"hoverinfo\":\"text+name\",\"hovertemplate\":\"2.6\\u003cbr\\u003e: 777\",\"name\":\"2.6 : 777\",\"orientation\":\"v\",\"x\":[\"amplitude\"],\"y\":[777],\"type\":\"bar\"},{\"base\":13629,\"hoverinfo\":\"text+name\",\"hovertemplate\":\"2.7\\u003cbr\\u003e: 777\",\"name\":\"2.7 : 777\",\"orientation\":\"v\",\"x\":[\"amplitude\"],\"y\":[777],\"type\":\"bar\"},{\"base\":14406,\"hoverinfo\":\"text+name\",\"hovertemplate\":\"2.8\\u003cbr\\u003e: 777\",\"name\":\"2.8 : 777\",\"orientation\":\"v\",\"x\":[\"amplitude\"],\"y\":[777],\"type\":\"bar\"},{\"base\":15183,\"hoverinfo\":\"text+name\",\"hovertemplate\":\"2.9\\u003cbr\\u003e: 777\",\"name\":\"2.9 : 777\",\"orientation\":\"v\",\"x\":[\"amplitude\"],\"y\":[777],\"type\":\"bar\"},{\"base\":15960,\"hoverinfo\":\"text+name\",\"hovertemplate\":\"3.0\\u003cbr\\u003e: 777\",\"name\":\"3.0 : 777\",\"orientation\":\"v\",\"x\":[\"amplitude\"],\"y\":[777],\"type\":\"bar\"},{\"base\":16737,\"hoverinfo\":\"text+name\",\"hovertemplate\":\"3.1\\u003cbr\\u003e: 777\",\"name\":\"3.1 : 777\",\"orientation\":\"v\",\"x\":[\"amplitude\"],\"y\":[777],\"type\":\"bar\"},{\"base\":17514,\"hoverinfo\":\"text+name\",\"hovertemplate\":\"3.2\\u003cbr\\u003e: 777\",\"name\":\"3.2 : 777\",\"orientation\":\"v\",\"x\":[\"amplitude\"],\"y\":[777],\"type\":\"bar\"},{\"base\":18291,\"hoverinfo\":\"text+name\",\"hovertemplate\":\"3.3\\u003cbr\\u003e: 777\",\"name\":\"3.3 : 777\",\"orientation\":\"v\",\"x\":[\"amplitude\"],\"y\":[777],\"type\":\"bar\"},{\"base\":19068,\"hoverinfo\":\"text+name\",\"hovertemplate\":\"3.4\\u003cbr\\u003e: 777\",\"name\":\"3.4 : 777\",\"orientation\":\"v\",\"x\":[\"amplitude\"],\"y\":[777],\"type\":\"bar\"},{\"base\":19845,\"hoverinfo\":\"text+name\",\"hovertemplate\":\"3.5\\u003cbr\\u003e: 777\",\"name\":\"3.5 : 777\",\"orientation\":\"v\",\"x\":[\"amplitude\"],\"y\":[777],\"type\":\"bar\"},{\"base\":20622,\"hoverinfo\":\"text+name\",\"hovertemplate\":\"3.6\\u003cbr\\u003e: 777\",\"name\":\"3.6 : 777\",\"orientation\":\"v\",\"x\":[\"amplitude\"],\"y\":[777],\"type\":\"bar\"},{\"base\":21399,\"hoverinfo\":\"text+name\",\"hovertemplate\":\"3.7\\u003cbr\\u003e: 777\",\"name\":\"3.7 : 777\",\"orientation\":\"v\",\"x\":[\"amplitude\"],\"y\":[777],\"type\":\"bar\"},{\"base\":22176,\"hoverinfo\":\"text+name\",\"hovertemplate\":\"3.8\\u003cbr\\u003e: 777\",\"name\":\"3.8 : 777\",\"orientation\":\"v\",\"x\":[\"amplitude\"],\"y\":[777],\"type\":\"bar\"},{\"base\":22953,\"hoverinfo\":\"text+name\",\"hovertemplate\":\"3.9\\u003cbr\\u003e: 777\",\"name\":\"3.9 : 777\",\"orientation\":\"v\",\"x\":[\"amplitude\"],\"y\":[777],\"type\":\"bar\"},{\"base\":23730,\"hoverinfo\":\"text+name\",\"hovertemplate\":\"4.0\\u003cbr\\u003e: 777\",\"name\":\"4.0 : 777\",\"orientation\":\"v\",\"x\":[\"amplitude\"],\"y\":[777],\"type\":\"bar\"},{\"base\":24507,\"hoverinfo\":\"text+name\",\"hovertemplate\":\"4.1\\u003cbr\\u003e: 777\",\"name\":\"4.1 : 777\",\"orientation\":\"v\",\"x\":[\"amplitude\"],\"y\":[777],\"type\":\"bar\"},{\"base\":25284,\"hoverinfo\":\"text+name\",\"hovertemplate\":\"4.2\\u003cbr\\u003e: 777\",\"name\":\"4.2 : 777\",\"orientation\":\"v\",\"x\":[\"amplitude\"],\"y\":[777],\"type\":\"bar\"},{\"base\":26061,\"hoverinfo\":\"text+name\",\"hovertemplate\":\"4.3\\u003cbr\\u003e: 777\",\"name\":\"4.3 : 777\",\"orientation\":\"v\",\"x\":[\"amplitude\"],\"y\":[777],\"type\":\"bar\"},{\"base\":26838,\"hoverinfo\":\"text+name\",\"hovertemplate\":\"4.4\\u003cbr\\u003e: 777\",\"name\":\"4.4 : 777\",\"orientation\":\"v\",\"x\":[\"amplitude\"],\"y\":[777],\"type\":\"bar\"},{\"base\":27615,\"hoverinfo\":\"text+name\",\"hovertemplate\":\"4.5\\u003cbr\\u003e: 777\",\"name\":\"4.5 : 777\",\"orientation\":\"v\",\"x\":[\"amplitude\"],\"y\":[777],\"type\":\"bar\"},{\"base\":28392,\"hoverinfo\":\"text+name\",\"hovertemplate\":\"4.6\\u003cbr\\u003e: 777\",\"name\":\"4.6 : 777\",\"orientation\":\"v\",\"x\":[\"amplitude\"],\"y\":[777],\"type\":\"bar\"},{\"base\":29169,\"hoverinfo\":\"text+name\",\"hovertemplate\":\"4.7\\u003cbr\\u003e: 777\",\"name\":\"4.7 : 777\",\"orientation\":\"v\",\"x\":[\"amplitude\"],\"y\":[777],\"type\":\"bar\"},{\"base\":29946,\"hoverinfo\":\"text+name\",\"hovertemplate\":\"4.8\\u003cbr\\u003e: 777\",\"name\":\"4.8 : 777\",\"orientation\":\"v\",\"x\":[\"amplitude\"],\"y\":[777],\"type\":\"bar\"},{\"base\":30723,\"hoverinfo\":\"text+name\",\"hovertemplate\":\"4.9\\u003cbr\\u003e: 777\",\"name\":\"4.9 : 777\",\"orientation\":\"v\",\"x\":[\"amplitude\"],\"y\":[777],\"type\":\"bar\"},{\"base\":31500,\"hoverinfo\":\"text+name\",\"hovertemplate\":\"5.0\\u003cbr\\u003e: 777\",\"name\":\"5.0 : 777\",\"orientation\":\"v\",\"x\":[\"amplitude\"],\"y\":[777],\"type\":\"bar\"},{\"base\":32277,\"hoverinfo\":\"text+name\",\"hovertemplate\":\"5.1\\u003cbr\\u003e: 247\",\"name\":\"5.1 : 247\",\"orientation\":\"v\",\"x\":[\"amplitude\"],\"y\":[247],\"type\":\"bar\"},{\"base\":32524,\"hoverinfo\":\"text+name\",\"hovertemplate\":\"5.2\\u003cbr\\u003e: 247\",\"name\":\"5.2 : 247\",\"orientation\":\"v\",\"x\":[\"amplitude\"],\"y\":[247],\"type\":\"bar\"},{\"base\":32771,\"hoverinfo\":\"text+name\",\"hovertemplate\":\"5.3\\u003cbr\\u003e: 247\",\"name\":\"5.3 : 247\",\"orientation\":\"v\",\"x\":[\"amplitude\"],\"y\":[247],\"type\":\"bar\"},{\"base\":33018,\"hoverinfo\":\"text+name\",\"hovertemplate\":\"5.4\\u003cbr\\u003e: 247\",\"name\":\"5.4 : 247\",\"orientation\":\"v\",\"x\":[\"amplitude\"],\"y\":[247],\"type\":\"bar\"},{\"base\":33265,\"hoverinfo\":\"text+name\",\"hovertemplate\":\"5.5\\u003cbr\\u003e: 247\",\"name\":\"5.5 : 247\",\"orientation\":\"v\",\"x\":[\"amplitude\"],\"y\":[247],\"type\":\"bar\"},{\"base\":33512,\"hoverinfo\":\"text+name\",\"hovertemplate\":\"5.6\\u003cbr\\u003e: 247\",\"name\":\"5.6 : 247\",\"orientation\":\"v\",\"x\":[\"amplitude\"],\"y\":[247],\"type\":\"bar\"},{\"base\":33759,\"hoverinfo\":\"text+name\",\"hovertemplate\":\"5.7\\u003cbr\\u003e: 247\",\"name\":\"5.7 : 247\",\"orientation\":\"v\",\"x\":[\"amplitude\"],\"y\":[247],\"type\":\"bar\"},{\"base\":34006,\"hoverinfo\":\"text+name\",\"hovertemplate\":\"5.8\\u003cbr\\u003e: 247\",\"name\":\"5.8 : 247\",\"orientation\":\"v\",\"x\":[\"amplitude\"],\"y\":[247],\"type\":\"bar\"},{\"base\":34253,\"hoverinfo\":\"text+name\",\"hovertemplate\":\"5.9\\u003cbr\\u003e: 247\",\"name\":\"5.9 : 247\",\"orientation\":\"v\",\"x\":[\"amplitude\"],\"y\":[247],\"type\":\"bar\"},{\"base\":34500,\"hoverinfo\":\"text+name\",\"hovertemplate\":\"6.0\\u003cbr\\u003e: 247\",\"name\":\"6.0 : 247\",\"orientation\":\"v\",\"x\":[\"amplitude\"],\"y\":[247],\"type\":\"bar\"},{\"base\":34747,\"hoverinfo\":\"text+name\",\"hovertemplate\":\"6.1\\u003cbr\\u003e: 247\",\"name\":\"6.1 : 247\",\"orientation\":\"v\",\"x\":[\"amplitude\"],\"y\":[247],\"type\":\"bar\"},{\"base\":34994,\"hoverinfo\":\"text+name\",\"hovertemplate\":\"6.2\\u003cbr\\u003e: 247\",\"name\":\"6.2 : 247\",\"orientation\":\"v\",\"x\":[\"amplitude\"],\"y\":[247],\"type\":\"bar\"},{\"base\":35241,\"hoverinfo\":\"text+name\",\"hovertemplate\":\"6.3\\u003cbr\\u003e: 247\",\"name\":\"6.3 : 247\",\"orientation\":\"v\",\"x\":[\"amplitude\"],\"y\":[247],\"type\":\"bar\"},{\"base\":35488,\"hoverinfo\":\"text+name\",\"hovertemplate\":\"6.4\\u003cbr\\u003e: 247\",\"name\":\"6.4 : 247\",\"orientation\":\"v\",\"x\":[\"amplitude\"],\"y\":[247],\"type\":\"bar\"},{\"base\":35735,\"hoverinfo\":\"text+name\",\"hovertemplate\":\"6.5\\u003cbr\\u003e: 247\",\"name\":\"6.5 : 247\",\"orientation\":\"v\",\"x\":[\"amplitude\"],\"y\":[247],\"type\":\"bar\"},{\"base\":35982,\"hoverinfo\":\"text+name\",\"hovertemplate\":\"6.6\\u003cbr\\u003e: 247\",\"name\":\"6.6 : 247\",\"orientation\":\"v\",\"x\":[\"amplitude\"],\"y\":[247],\"type\":\"bar\"},{\"base\":36229,\"hoverinfo\":\"text+name\",\"hovertemplate\":\"6.7\\u003cbr\\u003e: 247\",\"name\":\"6.7 : 247\",\"orientation\":\"v\",\"x\":[\"amplitude\"],\"y\":[247],\"type\":\"bar\"},{\"base\":36476,\"hoverinfo\":\"text+name\",\"hovertemplate\":\"6.8\\u003cbr\\u003e: 247\",\"name\":\"6.8 : 247\",\"orientation\":\"v\",\"x\":[\"amplitude\"],\"y\":[247],\"type\":\"bar\"},{\"base\":36723,\"hoverinfo\":\"text+name\",\"hovertemplate\":\"6.9\\u003cbr\\u003e: 247\",\"name\":\"6.9 : 247\",\"orientation\":\"v\",\"x\":[\"amplitude\"],\"y\":[247],\"type\":\"bar\"},{\"base\":36970,\"hoverinfo\":\"text+name\",\"hovertemplate\":\"7.0\\u003cbr\\u003e: 247\",\"name\":\"7.0 : 247\",\"orientation\":\"v\",\"x\":[\"amplitude\"],\"y\":[247],\"type\":\"bar\"},{\"base\":37217,\"hoverinfo\":\"text+name\",\"hovertemplate\":\"7.1\\u003cbr\\u003e: 247\",\"name\":\"7.1 : 247\",\"orientation\":\"v\",\"x\":[\"amplitude\"],\"y\":[247],\"type\":\"bar\"},{\"base\":37464,\"hoverinfo\":\"text+name\",\"hovertemplate\":\"7.2\\u003cbr\\u003e: 247\",\"name\":\"7.2 : 247\",\"orientation\":\"v\",\"x\":[\"amplitude\"],\"y\":[247],\"type\":\"bar\"},{\"base\":37711,\"hoverinfo\":\"text+name\",\"hovertemplate\":\"7.3\\u003cbr\\u003e: 247\",\"name\":\"7.3 : 247\",\"orientation\":\"v\",\"x\":[\"amplitude\"],\"y\":[247],\"type\":\"bar\"},{\"base\":37958,\"hoverinfo\":\"text+name\",\"hovertemplate\":\"7.4\\u003cbr\\u003e: 247\",\"name\":\"7.4 : 247\",\"orientation\":\"v\",\"x\":[\"amplitude\"],\"y\":[247],\"type\":\"bar\"},{\"base\":38205,\"hoverinfo\":\"text+name\",\"hovertemplate\":\"7.5\\u003cbr\\u003e: 247\",\"name\":\"7.5 : 247\",\"orientation\":\"v\",\"x\":[\"amplitude\"],\"y\":[247],\"type\":\"bar\"},{\"base\":38452,\"hoverinfo\":\"text+name\",\"hovertemplate\":\"7.6\\u003cbr\\u003e: 247\",\"name\":\"7.6 : 247\",\"orientation\":\"v\",\"x\":[\"amplitude\"],\"y\":[247],\"type\":\"bar\"},{\"base\":38699,\"hoverinfo\":\"text+name\",\"hovertemplate\":\"7.7\\u003cbr\\u003e: 247\",\"name\":\"7.7 : 247\",\"orientation\":\"v\",\"x\":[\"amplitude\"],\"y\":[247],\"type\":\"bar\"},{\"base\":38946,\"hoverinfo\":\"text+name\",\"hovertemplate\":\"7.8\\u003cbr\\u003e: 247\",\"name\":\"7.8 : 247\",\"orientation\":\"v\",\"x\":[\"amplitude\"],\"y\":[247],\"type\":\"bar\"},{\"base\":39193,\"hoverinfo\":\"text+name\",\"hovertemplate\":\"7.9\\u003cbr\\u003e: 247\",\"name\":\"7.9 : 247\",\"orientation\":\"v\",\"x\":[\"amplitude\"],\"y\":[247],\"type\":\"bar\"},{\"base\":39440,\"hoverinfo\":\"text+name\",\"hovertemplate\":\"8.0\\u003cbr\\u003e: 247\",\"name\":\"8.0 : 247\",\"orientation\":\"v\",\"x\":[\"amplitude\"],\"y\":[247],\"type\":\"bar\"},{\"base\":0,\"hoverinfo\":\"text+name\",\"hovertemplate\":\"0.0\\u003cbr\\u003e: 38687\",\"name\":\"0.0 : 38687\",\"orientation\":\"v\",\"x\":[\"mapping\"],\"y\":[38687],\"type\":\"bar\"},{\"base\":38687,\"hoverinfo\":\"text+name\",\"hovertemplate\":\"1.0\\u003cbr\\u003e: 1000\",\"name\":\"1.0 : 1000\",\"orientation\":\"v\",\"x\":[\"mapping\"],\"y\":[1000],\"type\":\"bar\"},{\"base\":0,\"hoverinfo\":\"text+name\",\"hovertemplate\":\"False\\u003cbr\\u003e: 8559\",\"name\":\"False : 8559\",\"orientation\":\"v\",\"x\":[\"tweening\"],\"y\":[8559],\"type\":\"bar\"},{\"base\":8559,\"hoverinfo\":\"text+name\",\"hovertemplate\":\"True\\u003cbr\\u003e: 31128\",\"name\":\"True : 31128\",\"orientation\":\"v\",\"x\":[\"tweening\"],\"y\":[31128],\"type\":\"bar\"},{\"base\":0,\"hoverinfo\":\"text+name\",\"hovertemplate\":\"False\\u003cbr\\u003e: 24204\",\"name\":\"False : 24204\",\"orientation\":\"v\",\"x\":[\"tuning\"],\"y\":[24204],\"type\":\"bar\"},{\"base\":24204,\"hoverinfo\":\"text+name\",\"hovertemplate\":\"True\\u003cbr\\u003e: 15483\",\"name\":\"True : 15483\",\"orientation\":\"v\",\"x\":[\"tuning\"],\"y\":[15483],\"type\":\"bar\"},{\"base\":0,\"hoverinfo\":\"text+name\",\"hovertemplate\":\"0.0\\u003cbr\\u003e: 423\",\"name\":\"0.0 : 423\",\"orientation\":\"v\",\"x\":[\"mapping_score\"],\"y\":[423],\"type\":\"bar\"},{\"base\":423,\"hoverinfo\":\"text+name\",\"hovertemplate\":\"1.0\\u003cbr\\u003e: 577\",\"name\":\"1.0 : 577\",\"orientation\":\"v\",\"x\":[\"mapping_score\"],\"y\":[577],\"type\":\"bar\"}],                        {\"annotations\":[{\"showarrow\":false,\"text\":\"2\",\"x\":\"centerID\",\"xref\":\"x\",\"y\":42465.090000000004,\"yref\":\"y\"},{\"showarrow\":false,\"text\":\"2\",\"x\":\"leadModel\",\"xref\":\"x\",\"y\":42465.090000000004,\"yref\":\"y\"},{\"showarrow\":false,\"text\":\"76\",\"x\":\"patientID\",\"xref\":\"x\",\"y\":42465.090000000004,\"yref\":\"y\"},{\"showarrow\":false,\"text\":\"20\",\"x\":\"verciseID\",\"xref\":\"x\",\"y\":42465.090000000004,\"yref\":\"y\"},{\"showarrow\":false,\"text\":\"76\",\"x\":\"amplitude\",\"xref\":\"x\",\"y\":42465.090000000004,\"yref\":\"y\"},{\"showarrow\":false,\"text\":\"2\",\"x\":\"mapping\",\"xref\":\"x\",\"y\":42465.090000000004,\"yref\":\"y\"},{\"showarrow\":false,\"text\":\"2\",\"x\":\"tweening\",\"xref\":\"x\",\"y\":42465.090000000004,\"yref\":\"y\"},{\"showarrow\":false,\"text\":\"2\",\"x\":\"tuning\",\"xref\":\"x\",\"y\":42465.090000000004,\"yref\":\"y\"},{\"showarrow\":false,\"text\":\"2\",\"x\":\"mapping_score\",\"xref\":\"x\",\"y\":1070.0,\"yref\":\"y\"}],\"barmode\":\"stack\",\"showlegend\":false,\"title\":{\"text\":\"Total = 39687\"},\"xaxis\":{\"title\":{\"text\":\"Columns\"}},\"yaxis\":{\"title\":{\"text\":\"Count\"}},\"template\":{\"data\":{\"histogram2dcontour\":[{\"type\":\"histogram2dcontour\",\"colorbar\":{\"outlinewidth\":0,\"ticks\":\"\"},\"colorscale\":[[0.0,\"#0d0887\"],[0.1111111111111111,\"#46039f\"],[0.2222222222222222,\"#7201a8\"],[0.3333333333333333,\"#9c179e\"],[0.4444444444444444,\"#bd3786\"],[0.5555555555555556,\"#d8576b\"],[0.6666666666666666,\"#ed7953\"],[0.7777777777777778,\"#fb9f3a\"],[0.8888888888888888,\"#fdca26\"],[1.0,\"#f0f921\"]]}],\"choropleth\":[{\"type\":\"choropleth\",\"colorbar\":{\"outlinewidth\":0,\"ticks\":\"\"}}],\"histogram2d\":[{\"type\":\"histogram2d\",\"colorbar\":{\"outlinewidth\":0,\"ticks\":\"\"},\"colorscale\":[[0.0,\"#0d0887\"],[0.1111111111111111,\"#46039f\"],[0.2222222222222222,\"#7201a8\"],[0.3333333333333333,\"#9c179e\"],[0.4444444444444444,\"#bd3786\"],[0.5555555555555556,\"#d8576b\"],[0.6666666666666666,\"#ed7953\"],[0.7777777777777778,\"#fb9f3a\"],[0.8888888888888888,\"#fdca26\"],[1.0,\"#f0f921\"]]}],\"heatmap\":[{\"type\":\"heatmap\",\"colorbar\":{\"outlinewidth\":0,\"ticks\":\"\"},\"colorscale\":[[0.0,\"#0d0887\"],[0.1111111111111111,\"#46039f\"],[0.2222222222222222,\"#7201a8\"],[0.3333333333333333,\"#9c179e\"],[0.4444444444444444,\"#bd3786\"],[0.5555555555555556,\"#d8576b\"],[0.6666666666666666,\"#ed7953\"],[0.7777777777777778,\"#fb9f3a\"],[0.8888888888888888,\"#fdca26\"],[1.0,\"#f0f921\"]]}],\"heatmapgl\":[{\"type\":\"heatmapgl\",\"colorbar\":{\"outlinewidth\":0,\"ticks\":\"\"},\"colorscale\":[[0.0,\"#0d0887\"],[0.1111111111111111,\"#46039f\"],[0.2222222222222222,\"#7201a8\"],[0.3333333333333333,\"#9c179e\"],[0.4444444444444444,\"#bd3786\"],[0.5555555555555556,\"#d8576b\"],[0.6666666666666666,\"#ed7953\"],[0.7777777777777778,\"#fb9f3a\"],[0.8888888888888888,\"#fdca26\"],[1.0,\"#f0f921\"]]}],\"contourcarpet\":[{\"type\":\"contourcarpet\",\"colorbar\":{\"outlinewidth\":0,\"ticks\":\"\"}}],\"contour\":[{\"type\":\"contour\",\"colorbar\":{\"outlinewidth\":0,\"ticks\":\"\"},\"colorscale\":[[0.0,\"#0d0887\"],[0.1111111111111111,\"#46039f\"],[0.2222222222222222,\"#7201a8\"],[0.3333333333333333,\"#9c179e\"],[0.4444444444444444,\"#bd3786\"],[0.5555555555555556,\"#d8576b\"],[0.6666666666666666,\"#ed7953\"],[0.7777777777777778,\"#fb9f3a\"],[0.8888888888888888,\"#fdca26\"],[1.0,\"#f0f921\"]]}],\"surface\":[{\"type\":\"surface\",\"colorbar\":{\"outlinewidth\":0,\"ticks\":\"\"},\"colorscale\":[[0.0,\"#0d0887\"],[0.1111111111111111,\"#46039f\"],[0.2222222222222222,\"#7201a8\"],[0.3333333333333333,\"#9c179e\"],[0.4444444444444444,\"#bd3786\"],[0.5555555555555556,\"#d8576b\"],[0.6666666666666666,\"#ed7953\"],[0.7777777777777778,\"#fb9f3a\"],[0.8888888888888888,\"#fdca26\"],[1.0,\"#f0f921\"]]}],\"mesh3d\":[{\"type\":\"mesh3d\",\"colorbar\":{\"outlinewidth\":0,\"ticks\":\"\"}}],\"scatter\":[{\"fillpattern\":{\"fillmode\":\"overlay\",\"size\":10,\"solidity\":0.2},\"type\":\"scatter\"}],\"parcoords\":[{\"type\":\"parcoords\",\"line\":{\"colorbar\":{\"outlinewidth\":0,\"ticks\":\"\"}}}],\"scatterpolargl\":[{\"type\":\"scatterpolargl\",\"marker\":{\"colorbar\":{\"outlinewidth\":0,\"ticks\":\"\"}}}],\"bar\":[{\"error_x\":{\"color\":\"#2a3f5f\"},\"error_y\":{\"color\":\"#2a3f5f\"},\"marker\":{\"line\":{\"color\":\"#E5ECF6\",\"width\":0.5},\"pattern\":{\"fillmode\":\"overlay\",\"size\":10,\"solidity\":0.2}},\"type\":\"bar\"}],\"scattergeo\":[{\"type\":\"scattergeo\",\"marker\":{\"colorbar\":{\"outlinewidth\":0,\"ticks\":\"\"}}}],\"scatterpolar\":[{\"type\":\"scatterpolar\",\"marker\":{\"colorbar\":{\"outlinewidth\":0,\"ticks\":\"\"}}}],\"histogram\":[{\"marker\":{\"pattern\":{\"fillmode\":\"overlay\",\"size\":10,\"solidity\":0.2}},\"type\":\"histogram\"}],\"scattergl\":[{\"type\":\"scattergl\",\"marker\":{\"colorbar\":{\"outlinewidth\":0,\"ticks\":\"\"}}}],\"scatter3d\":[{\"type\":\"scatter3d\",\"line\":{\"colorbar\":{\"outlinewidth\":0,\"ticks\":\"\"}},\"marker\":{\"colorbar\":{\"outlinewidth\":0,\"ticks\":\"\"}}}],\"scattermapbox\":[{\"type\":\"scattermapbox\",\"marker\":{\"colorbar\":{\"outlinewidth\":0,\"ticks\":\"\"}}}],\"scatterternary\":[{\"type\":\"scatterternary\",\"marker\":{\"colorbar\":{\"outlinewidth\":0,\"ticks\":\"\"}}}],\"scattercarpet\":[{\"type\":\"scattercarpet\",\"marker\":{\"colorbar\":{\"outlinewidth\":0,\"ticks\":\"\"}}}],\"carpet\":[{\"aaxis\":{\"endlinecolor\":\"#2a3f5f\",\"gridcolor\":\"white\",\"linecolor\":\"white\",\"minorgridcolor\":\"white\",\"startlinecolor\":\"#2a3f5f\"},\"baxis\":{\"endlinecolor\":\"#2a3f5f\",\"gridcolor\":\"white\",\"linecolor\":\"white\",\"minorgridcolor\":\"white\",\"startlinecolor\":\"#2a3f5f\"},\"type\":\"carpet\"}],\"table\":[{\"cells\":{\"fill\":{\"color\":\"#EBF0F8\"},\"line\":{\"color\":\"white\"}},\"header\":{\"fill\":{\"color\":\"#C8D4E3\"},\"line\":{\"color\":\"white\"}},\"type\":\"table\"}],\"barpolar\":[{\"marker\":{\"line\":{\"color\":\"#E5ECF6\",\"width\":0.5},\"pattern\":{\"fillmode\":\"overlay\",\"size\":10,\"solidity\":0.2}},\"type\":\"barpolar\"}],\"pie\":[{\"automargin\":true,\"type\":\"pie\"}]},\"layout\":{\"autotypenumbers\":\"strict\",\"colorway\":[\"#636efa\",\"#EF553B\",\"#00cc96\",\"#ab63fa\",\"#FFA15A\",\"#19d3f3\",\"#FF6692\",\"#B6E880\",\"#FF97FF\",\"#FECB52\"],\"font\":{\"color\":\"#2a3f5f\"},\"hovermode\":\"closest\",\"hoverlabel\":{\"align\":\"left\"},\"paper_bgcolor\":\"white\",\"plot_bgcolor\":\"#E5ECF6\",\"polar\":{\"bgcolor\":\"#E5ECF6\",\"angularaxis\":{\"gridcolor\":\"white\",\"linecolor\":\"white\",\"ticks\":\"\"},\"radialaxis\":{\"gridcolor\":\"white\",\"linecolor\":\"white\",\"ticks\":\"\"}},\"ternary\":{\"bgcolor\":\"#E5ECF6\",\"aaxis\":{\"gridcolor\":\"white\",\"linecolor\":\"white\",\"ticks\":\"\"},\"baxis\":{\"gridcolor\":\"white\",\"linecolor\":\"white\",\"ticks\":\"\"},\"caxis\":{\"gridcolor\":\"white\",\"linecolor\":\"white\",\"ticks\":\"\"}},\"coloraxis\":{\"colorbar\":{\"outlinewidth\":0,\"ticks\":\"\"}},\"colorscale\":{\"sequential\":[[0.0,\"#0d0887\"],[0.1111111111111111,\"#46039f\"],[0.2222222222222222,\"#7201a8\"],[0.3333333333333333,\"#9c179e\"],[0.4444444444444444,\"#bd3786\"],[0.5555555555555556,\"#d8576b\"],[0.6666666666666666,\"#ed7953\"],[0.7777777777777778,\"#fb9f3a\"],[0.8888888888888888,\"#fdca26\"],[1.0,\"#f0f921\"]],\"sequentialminus\":[[0.0,\"#0d0887\"],[0.1111111111111111,\"#46039f\"],[0.2222222222222222,\"#7201a8\"],[0.3333333333333333,\"#9c179e\"],[0.4444444444444444,\"#bd3786\"],[0.5555555555555556,\"#d8576b\"],[0.6666666666666666,\"#ed7953\"],[0.7777777777777778,\"#fb9f3a\"],[0.8888888888888888,\"#fdca26\"],[1.0,\"#f0f921\"]],\"diverging\":[[0,\"#8e0152\"],[0.1,\"#c51b7d\"],[0.2,\"#de77ae\"],[0.3,\"#f1b6da\"],[0.4,\"#fde0ef\"],[0.5,\"#f7f7f7\"],[0.6,\"#e6f5d0\"],[0.7,\"#b8e186\"],[0.8,\"#7fbc41\"],[0.9,\"#4d9221\"],[1,\"#276419\"]]},\"xaxis\":{\"gridcolor\":\"white\",\"linecolor\":\"white\",\"ticks\":\"\",\"title\":{\"standoff\":15},\"zerolinecolor\":\"white\",\"automargin\":true,\"zerolinewidth\":2},\"yaxis\":{\"gridcolor\":\"white\",\"linecolor\":\"white\",\"ticks\":\"\",\"title\":{\"standoff\":15},\"zerolinecolor\":\"white\",\"automargin\":true,\"zerolinewidth\":2},\"scene\":{\"xaxis\":{\"backgroundcolor\":\"#E5ECF6\",\"gridcolor\":\"white\",\"linecolor\":\"white\",\"showbackground\":true,\"ticks\":\"\",\"zerolinecolor\":\"white\",\"gridwidth\":2},\"yaxis\":{\"backgroundcolor\":\"#E5ECF6\",\"gridcolor\":\"white\",\"linecolor\":\"white\",\"showbackground\":true,\"ticks\":\"\",\"zerolinecolor\":\"white\",\"gridwidth\":2},\"zaxis\":{\"backgroundcolor\":\"#E5ECF6\",\"gridcolor\":\"white\",\"linecolor\":\"white\",\"showbackground\":true,\"ticks\":\"\",\"zerolinecolor\":\"white\",\"gridwidth\":2}},\"shapedefaults\":{\"line\":{\"color\":\"#2a3f5f\"}},\"annotationdefaults\":{\"arrowcolor\":\"#2a3f5f\",\"arrowhead\":0,\"arrowwidth\":1},\"geo\":{\"bgcolor\":\"white\",\"landcolor\":\"#E5ECF6\",\"subunitcolor\":\"white\",\"showland\":true,\"showlakes\":true,\"lakecolor\":\"white\"},\"title\":{\"x\":0.05},\"mapbox\":{\"style\":\"light\"}}}},                        {\"responsive\": true}                    ).then(function(){\n",
       "                            \n",
       "var gd = document.getElementById('67e0e8b2-886e-472e-9550-50eaf6d17ea3');\n",
       "var x = new MutationObserver(function (mutations, observer) {{\n",
       "        var display = window.getComputedStyle(gd).display;\n",
       "        if (!display || display === 'none') {{\n",
       "            console.log([gd, 'removed!']);\n",
       "            Plotly.purge(gd);\n",
       "            observer.disconnect();\n",
       "        }}\n",
       "}});\n",
       "\n",
       "// Listen for the removal of the full notebook cells\n",
       "var notebookContainer = gd.closest('#notebook-container');\n",
       "if (notebookContainer) {{\n",
       "    x.observe(notebookContainer, {childList: true});\n",
       "}}\n",
       "\n",
       "// Listen for the clearing of the current output cell\n",
       "var outputEl = gd.closest('.output');\n",
       "if (outputEl) {{\n",
       "    x.observe(outputEl, {childList: true});\n",
       "}}\n",
       "\n",
       "                        })                };                });            </script>        </div>"
      ]
     },
     "metadata": {},
     "output_type": "display_data"
    },
    {
     "data": {
      "application/vnd.jupyter.widget-view+json": {
       "model_id": "afea5464e6d34594880c565e0a14dd68",
       "version_major": 2,
       "version_minor": 0
      },
      "text/plain": [
       "interactive(children=(Dropdown(description='centerID:', options=('free', 'Bern', 'Cologne'), value='free'), Dr…"
      ]
     },
     "metadata": {},
     "output_type": "display_data"
    },
    {
     "data": {
      "application/vnd.plotly.v1+json": {
       "config": {
        "plotlyServerURL": "https://plot.ly"
       },
       "data": [
        {
         "base": 0,
         "hoverinfo": "text+name",
         "hovertemplate": "Cologne<br>: 4",
         "name": "Cologne : 4",
         "orientation": "v",
         "type": "bar",
         "x": [
          "centerID"
         ],
         "y": [
          4
         ]
        },
        {
         "base": 0,
         "hoverinfo": "text+name",
         "hovertemplate": "Boston Scientific Vercise<br>: 4",
         "name": "Boston Scientific Vercise : 4",
         "orientation": "v",
         "type": "bar",
         "x": [
          "leadModel"
         ],
         "y": [
          4
         ]
        },
        {
         "base": 0,
         "hoverinfo": "text+name",
         "hovertemplate": "231.0<br>: 4",
         "name": "231.0 : 4",
         "orientation": "v",
         "type": "bar",
         "x": [
          "patientID"
         ],
         "y": [
          4
         ]
        },
        {
         "base": 0,
         "hoverinfo": "text+name",
         "hovertemplate": "2<br>: 2",
         "name": "2 : 2",
         "orientation": "v",
         "type": "bar",
         "x": [
          "verciseID"
         ],
         "y": [
          2
         ]
        },
        {
         "base": 2,
         "hoverinfo": "text+name",
         "hovertemplate": "12<br>: 1",
         "name": "12 : 1",
         "orientation": "v",
         "type": "bar",
         "x": [
          "verciseID"
         ],
         "y": [
          1
         ]
        },
        {
         "base": 3,
         "hoverinfo": "text+name",
         "hovertemplate": "14<br>: 1",
         "name": "14 : 1",
         "orientation": "v",
         "type": "bar",
         "x": [
          "verciseID"
         ],
         "y": [
          1
         ]
        },
        {
         "base": 0,
         "hoverinfo": "text+name",
         "hovertemplate": "2.0<br>: 1",
         "name": "2.0 : 1",
         "orientation": "v",
         "type": "bar",
         "x": [
          "amplitude"
         ],
         "y": [
          1
         ]
        },
        {
         "base": 1,
         "hoverinfo": "text+name",
         "hovertemplate": "3.0<br>: 2",
         "name": "3.0 : 2",
         "orientation": "v",
         "type": "bar",
         "x": [
          "amplitude"
         ],
         "y": [
          2
         ]
        },
        {
         "base": 3,
         "hoverinfo": "text+name",
         "hovertemplate": "4.0<br>: 1",
         "name": "4.0 : 1",
         "orientation": "v",
         "type": "bar",
         "x": [
          "amplitude"
         ],
         "y": [
          1
         ]
        },
        {
         "base": 0,
         "hoverinfo": "text+name",
         "hovertemplate": "1.0<br>: 4",
         "name": "1.0 : 4",
         "orientation": "v",
         "type": "bar",
         "x": [
          "mapping"
         ],
         "y": [
          4
         ]
        },
        {
         "base": 0,
         "hoverinfo": "text+name",
         "hovertemplate": "False<br>: 4",
         "name": "False : 4",
         "orientation": "v",
         "type": "bar",
         "x": [
          "tweening"
         ],
         "y": [
          4
         ]
        },
        {
         "base": 0,
         "hoverinfo": "text+name",
         "hovertemplate": "False<br>: 4",
         "name": "False : 4",
         "orientation": "v",
         "type": "bar",
         "x": [
          "tuning"
         ],
         "y": [
          4
         ]
        },
        {
         "base": 0,
         "hoverinfo": "text+name",
         "hovertemplate": "1.0<br>: 4",
         "name": "1.0 : 4",
         "orientation": "v",
         "type": "bar",
         "x": [
          "mapping_score"
         ],
         "y": [
          4
         ]
        }
       ],
       "layout": {
        "annotations": [
         {
          "showarrow": false,
          "text": "1",
          "x": "centerID",
          "xref": "x",
          "y": 4.28,
          "yref": "y"
         },
         {
          "showarrow": false,
          "text": "1",
          "x": "leadModel",
          "xref": "x",
          "y": 4.28,
          "yref": "y"
         },
         {
          "showarrow": false,
          "text": "1",
          "x": "patientID",
          "xref": "x",
          "y": 4.28,
          "yref": "y"
         },
         {
          "showarrow": false,
          "text": "3",
          "x": "verciseID",
          "xref": "x",
          "y": 4.28,
          "yref": "y"
         },
         {
          "showarrow": false,
          "text": "3",
          "x": "amplitude",
          "xref": "x",
          "y": 4.28,
          "yref": "y"
         },
         {
          "showarrow": false,
          "text": "1",
          "x": "mapping",
          "xref": "x",
          "y": 4.28,
          "yref": "y"
         },
         {
          "showarrow": false,
          "text": "1",
          "x": "tweening",
          "xref": "x",
          "y": 4.28,
          "yref": "y"
         },
         {
          "showarrow": false,
          "text": "1",
          "x": "tuning",
          "xref": "x",
          "y": 4.28,
          "yref": "y"
         },
         {
          "showarrow": false,
          "text": "1",
          "x": "mapping_score",
          "xref": "x",
          "y": 4.28,
          "yref": "y"
         }
        ],
        "barmode": "stack",
        "showlegend": false,
        "template": {
         "data": {
          "bar": [
           {
            "error_x": {
             "color": "#2a3f5f"
            },
            "error_y": {
             "color": "#2a3f5f"
            },
            "marker": {
             "line": {
              "color": "#E5ECF6",
              "width": 0.5
             },
             "pattern": {
              "fillmode": "overlay",
              "size": 10,
              "solidity": 0.2
             }
            },
            "type": "bar"
           }
          ],
          "barpolar": [
           {
            "marker": {
             "line": {
              "color": "#E5ECF6",
              "width": 0.5
             },
             "pattern": {
              "fillmode": "overlay",
              "size": 10,
              "solidity": 0.2
             }
            },
            "type": "barpolar"
           }
          ],
          "carpet": [
           {
            "aaxis": {
             "endlinecolor": "#2a3f5f",
             "gridcolor": "white",
             "linecolor": "white",
             "minorgridcolor": "white",
             "startlinecolor": "#2a3f5f"
            },
            "baxis": {
             "endlinecolor": "#2a3f5f",
             "gridcolor": "white",
             "linecolor": "white",
             "minorgridcolor": "white",
             "startlinecolor": "#2a3f5f"
            },
            "type": "carpet"
           }
          ],
          "choropleth": [
           {
            "colorbar": {
             "outlinewidth": 0,
             "ticks": ""
            },
            "type": "choropleth"
           }
          ],
          "contour": [
           {
            "colorbar": {
             "outlinewidth": 0,
             "ticks": ""
            },
            "colorscale": [
             [
              0,
              "#0d0887"
             ],
             [
              0.1111111111111111,
              "#46039f"
             ],
             [
              0.2222222222222222,
              "#7201a8"
             ],
             [
              0.3333333333333333,
              "#9c179e"
             ],
             [
              0.4444444444444444,
              "#bd3786"
             ],
             [
              0.5555555555555556,
              "#d8576b"
             ],
             [
              0.6666666666666666,
              "#ed7953"
             ],
             [
              0.7777777777777778,
              "#fb9f3a"
             ],
             [
              0.8888888888888888,
              "#fdca26"
             ],
             [
              1,
              "#f0f921"
             ]
            ],
            "type": "contour"
           }
          ],
          "contourcarpet": [
           {
            "colorbar": {
             "outlinewidth": 0,
             "ticks": ""
            },
            "type": "contourcarpet"
           }
          ],
          "heatmap": [
           {
            "colorbar": {
             "outlinewidth": 0,
             "ticks": ""
            },
            "colorscale": [
             [
              0,
              "#0d0887"
             ],
             [
              0.1111111111111111,
              "#46039f"
             ],
             [
              0.2222222222222222,
              "#7201a8"
             ],
             [
              0.3333333333333333,
              "#9c179e"
             ],
             [
              0.4444444444444444,
              "#bd3786"
             ],
             [
              0.5555555555555556,
              "#d8576b"
             ],
             [
              0.6666666666666666,
              "#ed7953"
             ],
             [
              0.7777777777777778,
              "#fb9f3a"
             ],
             [
              0.8888888888888888,
              "#fdca26"
             ],
             [
              1,
              "#f0f921"
             ]
            ],
            "type": "heatmap"
           }
          ],
          "heatmapgl": [
           {
            "colorbar": {
             "outlinewidth": 0,
             "ticks": ""
            },
            "colorscale": [
             [
              0,
              "#0d0887"
             ],
             [
              0.1111111111111111,
              "#46039f"
             ],
             [
              0.2222222222222222,
              "#7201a8"
             ],
             [
              0.3333333333333333,
              "#9c179e"
             ],
             [
              0.4444444444444444,
              "#bd3786"
             ],
             [
              0.5555555555555556,
              "#d8576b"
             ],
             [
              0.6666666666666666,
              "#ed7953"
             ],
             [
              0.7777777777777778,
              "#fb9f3a"
             ],
             [
              0.8888888888888888,
              "#fdca26"
             ],
             [
              1,
              "#f0f921"
             ]
            ],
            "type": "heatmapgl"
           }
          ],
          "histogram": [
           {
            "marker": {
             "pattern": {
              "fillmode": "overlay",
              "size": 10,
              "solidity": 0.2
             }
            },
            "type": "histogram"
           }
          ],
          "histogram2d": [
           {
            "colorbar": {
             "outlinewidth": 0,
             "ticks": ""
            },
            "colorscale": [
             [
              0,
              "#0d0887"
             ],
             [
              0.1111111111111111,
              "#46039f"
             ],
             [
              0.2222222222222222,
              "#7201a8"
             ],
             [
              0.3333333333333333,
              "#9c179e"
             ],
             [
              0.4444444444444444,
              "#bd3786"
             ],
             [
              0.5555555555555556,
              "#d8576b"
             ],
             [
              0.6666666666666666,
              "#ed7953"
             ],
             [
              0.7777777777777778,
              "#fb9f3a"
             ],
             [
              0.8888888888888888,
              "#fdca26"
             ],
             [
              1,
              "#f0f921"
             ]
            ],
            "type": "histogram2d"
           }
          ],
          "histogram2dcontour": [
           {
            "colorbar": {
             "outlinewidth": 0,
             "ticks": ""
            },
            "colorscale": [
             [
              0,
              "#0d0887"
             ],
             [
              0.1111111111111111,
              "#46039f"
             ],
             [
              0.2222222222222222,
              "#7201a8"
             ],
             [
              0.3333333333333333,
              "#9c179e"
             ],
             [
              0.4444444444444444,
              "#bd3786"
             ],
             [
              0.5555555555555556,
              "#d8576b"
             ],
             [
              0.6666666666666666,
              "#ed7953"
             ],
             [
              0.7777777777777778,
              "#fb9f3a"
             ],
             [
              0.8888888888888888,
              "#fdca26"
             ],
             [
              1,
              "#f0f921"
             ]
            ],
            "type": "histogram2dcontour"
           }
          ],
          "mesh3d": [
           {
            "colorbar": {
             "outlinewidth": 0,
             "ticks": ""
            },
            "type": "mesh3d"
           }
          ],
          "parcoords": [
           {
            "line": {
             "colorbar": {
              "outlinewidth": 0,
              "ticks": ""
             }
            },
            "type": "parcoords"
           }
          ],
          "pie": [
           {
            "automargin": true,
            "type": "pie"
           }
          ],
          "scatter": [
           {
            "fillpattern": {
             "fillmode": "overlay",
             "size": 10,
             "solidity": 0.2
            },
            "type": "scatter"
           }
          ],
          "scatter3d": [
           {
            "line": {
             "colorbar": {
              "outlinewidth": 0,
              "ticks": ""
             }
            },
            "marker": {
             "colorbar": {
              "outlinewidth": 0,
              "ticks": ""
             }
            },
            "type": "scatter3d"
           }
          ],
          "scattercarpet": [
           {
            "marker": {
             "colorbar": {
              "outlinewidth": 0,
              "ticks": ""
             }
            },
            "type": "scattercarpet"
           }
          ],
          "scattergeo": [
           {
            "marker": {
             "colorbar": {
              "outlinewidth": 0,
              "ticks": ""
             }
            },
            "type": "scattergeo"
           }
          ],
          "scattergl": [
           {
            "marker": {
             "colorbar": {
              "outlinewidth": 0,
              "ticks": ""
             }
            },
            "type": "scattergl"
           }
          ],
          "scattermapbox": [
           {
            "marker": {
             "colorbar": {
              "outlinewidth": 0,
              "ticks": ""
             }
            },
            "type": "scattermapbox"
           }
          ],
          "scatterpolar": [
           {
            "marker": {
             "colorbar": {
              "outlinewidth": 0,
              "ticks": ""
             }
            },
            "type": "scatterpolar"
           }
          ],
          "scatterpolargl": [
           {
            "marker": {
             "colorbar": {
              "outlinewidth": 0,
              "ticks": ""
             }
            },
            "type": "scatterpolargl"
           }
          ],
          "scatterternary": [
           {
            "marker": {
             "colorbar": {
              "outlinewidth": 0,
              "ticks": ""
             }
            },
            "type": "scatterternary"
           }
          ],
          "surface": [
           {
            "colorbar": {
             "outlinewidth": 0,
             "ticks": ""
            },
            "colorscale": [
             [
              0,
              "#0d0887"
             ],
             [
              0.1111111111111111,
              "#46039f"
             ],
             [
              0.2222222222222222,
              "#7201a8"
             ],
             [
              0.3333333333333333,
              "#9c179e"
             ],
             [
              0.4444444444444444,
              "#bd3786"
             ],
             [
              0.5555555555555556,
              "#d8576b"
             ],
             [
              0.6666666666666666,
              "#ed7953"
             ],
             [
              0.7777777777777778,
              "#fb9f3a"
             ],
             [
              0.8888888888888888,
              "#fdca26"
             ],
             [
              1,
              "#f0f921"
             ]
            ],
            "type": "surface"
           }
          ],
          "table": [
           {
            "cells": {
             "fill": {
              "color": "#EBF0F8"
             },
             "line": {
              "color": "white"
             }
            },
            "header": {
             "fill": {
              "color": "#C8D4E3"
             },
             "line": {
              "color": "white"
             }
            },
            "type": "table"
           }
          ]
         },
         "layout": {
          "annotationdefaults": {
           "arrowcolor": "#2a3f5f",
           "arrowhead": 0,
           "arrowwidth": 1
          },
          "autotypenumbers": "strict",
          "coloraxis": {
           "colorbar": {
            "outlinewidth": 0,
            "ticks": ""
           }
          },
          "colorscale": {
           "diverging": [
            [
             0,
             "#8e0152"
            ],
            [
             0.1,
             "#c51b7d"
            ],
            [
             0.2,
             "#de77ae"
            ],
            [
             0.3,
             "#f1b6da"
            ],
            [
             0.4,
             "#fde0ef"
            ],
            [
             0.5,
             "#f7f7f7"
            ],
            [
             0.6,
             "#e6f5d0"
            ],
            [
             0.7,
             "#b8e186"
            ],
            [
             0.8,
             "#7fbc41"
            ],
            [
             0.9,
             "#4d9221"
            ],
            [
             1,
             "#276419"
            ]
           ],
           "sequential": [
            [
             0,
             "#0d0887"
            ],
            [
             0.1111111111111111,
             "#46039f"
            ],
            [
             0.2222222222222222,
             "#7201a8"
            ],
            [
             0.3333333333333333,
             "#9c179e"
            ],
            [
             0.4444444444444444,
             "#bd3786"
            ],
            [
             0.5555555555555556,
             "#d8576b"
            ],
            [
             0.6666666666666666,
             "#ed7953"
            ],
            [
             0.7777777777777778,
             "#fb9f3a"
            ],
            [
             0.8888888888888888,
             "#fdca26"
            ],
            [
             1,
             "#f0f921"
            ]
           ],
           "sequentialminus": [
            [
             0,
             "#0d0887"
            ],
            [
             0.1111111111111111,
             "#46039f"
            ],
            [
             0.2222222222222222,
             "#7201a8"
            ],
            [
             0.3333333333333333,
             "#9c179e"
            ],
            [
             0.4444444444444444,
             "#bd3786"
            ],
            [
             0.5555555555555556,
             "#d8576b"
            ],
            [
             0.6666666666666666,
             "#ed7953"
            ],
            [
             0.7777777777777778,
             "#fb9f3a"
            ],
            [
             0.8888888888888888,
             "#fdca26"
            ],
            [
             1,
             "#f0f921"
            ]
           ]
          },
          "colorway": [
           "#636efa",
           "#EF553B",
           "#00cc96",
           "#ab63fa",
           "#FFA15A",
           "#19d3f3",
           "#FF6692",
           "#B6E880",
           "#FF97FF",
           "#FECB52"
          ],
          "font": {
           "color": "#2a3f5f"
          },
          "geo": {
           "bgcolor": "white",
           "lakecolor": "white",
           "landcolor": "#E5ECF6",
           "showlakes": true,
           "showland": true,
           "subunitcolor": "white"
          },
          "hoverlabel": {
           "align": "left"
          },
          "hovermode": "closest",
          "mapbox": {
           "style": "light"
          },
          "paper_bgcolor": "white",
          "plot_bgcolor": "#E5ECF6",
          "polar": {
           "angularaxis": {
            "gridcolor": "white",
            "linecolor": "white",
            "ticks": ""
           },
           "bgcolor": "#E5ECF6",
           "radialaxis": {
            "gridcolor": "white",
            "linecolor": "white",
            "ticks": ""
           }
          },
          "scene": {
           "xaxis": {
            "backgroundcolor": "#E5ECF6",
            "gridcolor": "white",
            "gridwidth": 2,
            "linecolor": "white",
            "showbackground": true,
            "ticks": "",
            "zerolinecolor": "white"
           },
           "yaxis": {
            "backgroundcolor": "#E5ECF6",
            "gridcolor": "white",
            "gridwidth": 2,
            "linecolor": "white",
            "showbackground": true,
            "ticks": "",
            "zerolinecolor": "white"
           },
           "zaxis": {
            "backgroundcolor": "#E5ECF6",
            "gridcolor": "white",
            "gridwidth": 2,
            "linecolor": "white",
            "showbackground": true,
            "ticks": "",
            "zerolinecolor": "white"
           }
          },
          "shapedefaults": {
           "line": {
            "color": "#2a3f5f"
           }
          },
          "ternary": {
           "aaxis": {
            "gridcolor": "white",
            "linecolor": "white",
            "ticks": ""
           },
           "baxis": {
            "gridcolor": "white",
            "linecolor": "white",
            "ticks": ""
           },
           "bgcolor": "#E5ECF6",
           "caxis": {
            "gridcolor": "white",
            "linecolor": "white",
            "ticks": ""
           }
          },
          "title": {
           "x": 0.05
          },
          "xaxis": {
           "automargin": true,
           "gridcolor": "white",
           "linecolor": "white",
           "ticks": "",
           "title": {
            "standoff": 15
           },
           "zerolinecolor": "white",
           "zerolinewidth": 2
          },
          "yaxis": {
           "automargin": true,
           "gridcolor": "white",
           "linecolor": "white",
           "ticks": "",
           "title": {
            "standoff": 15
           },
           "zerolinecolor": "white",
           "zerolinewidth": 2
          }
         }
        },
        "title": {
         "text": "Total = 4"
        },
        "xaxis": {
         "title": {
          "text": "Columns"
         }
        },
        "yaxis": {
         "title": {
          "text": "Count"
         }
        }
       }
      },
      "text/html": [
       "<div>                            <div id=\"38e92c20-af05-4571-8eb8-b7146e53bff6\" class=\"plotly-graph-div\" style=\"height:525px; width:100%;\"></div>            <script type=\"text/javascript\">                require([\"plotly\"], function(Plotly) {                    window.PLOTLYENV=window.PLOTLYENV || {};                                    if (document.getElementById(\"38e92c20-af05-4571-8eb8-b7146e53bff6\")) {                    Plotly.newPlot(                        \"38e92c20-af05-4571-8eb8-b7146e53bff6\",                        [{\"base\":0,\"hoverinfo\":\"text+name\",\"hovertemplate\":\"Cologne\\u003cbr\\u003e: 4\",\"name\":\"Cologne : 4\",\"orientation\":\"v\",\"x\":[\"centerID\"],\"y\":[4],\"type\":\"bar\"},{\"base\":0,\"hoverinfo\":\"text+name\",\"hovertemplate\":\"Boston Scientific Vercise\\u003cbr\\u003e: 4\",\"name\":\"Boston Scientific Vercise : 4\",\"orientation\":\"v\",\"x\":[\"leadModel\"],\"y\":[4],\"type\":\"bar\"},{\"base\":0,\"hoverinfo\":\"text+name\",\"hovertemplate\":\"231.0\\u003cbr\\u003e: 4\",\"name\":\"231.0 : 4\",\"orientation\":\"v\",\"x\":[\"patientID\"],\"y\":[4],\"type\":\"bar\"},{\"base\":0,\"hoverinfo\":\"text+name\",\"hovertemplate\":\"2\\u003cbr\\u003e: 2\",\"name\":\"2 : 2\",\"orientation\":\"v\",\"x\":[\"verciseID\"],\"y\":[2],\"type\":\"bar\"},{\"base\":2,\"hoverinfo\":\"text+name\",\"hovertemplate\":\"12\\u003cbr\\u003e: 1\",\"name\":\"12 : 1\",\"orientation\":\"v\",\"x\":[\"verciseID\"],\"y\":[1],\"type\":\"bar\"},{\"base\":3,\"hoverinfo\":\"text+name\",\"hovertemplate\":\"14\\u003cbr\\u003e: 1\",\"name\":\"14 : 1\",\"orientation\":\"v\",\"x\":[\"verciseID\"],\"y\":[1],\"type\":\"bar\"},{\"base\":0,\"hoverinfo\":\"text+name\",\"hovertemplate\":\"2.0\\u003cbr\\u003e: 1\",\"name\":\"2.0 : 1\",\"orientation\":\"v\",\"x\":[\"amplitude\"],\"y\":[1],\"type\":\"bar\"},{\"base\":1,\"hoverinfo\":\"text+name\",\"hovertemplate\":\"3.0\\u003cbr\\u003e: 2\",\"name\":\"3.0 : 2\",\"orientation\":\"v\",\"x\":[\"amplitude\"],\"y\":[2],\"type\":\"bar\"},{\"base\":3,\"hoverinfo\":\"text+name\",\"hovertemplate\":\"4.0\\u003cbr\\u003e: 1\",\"name\":\"4.0 : 1\",\"orientation\":\"v\",\"x\":[\"amplitude\"],\"y\":[1],\"type\":\"bar\"},{\"base\":0,\"hoverinfo\":\"text+name\",\"hovertemplate\":\"1.0\\u003cbr\\u003e: 4\",\"name\":\"1.0 : 4\",\"orientation\":\"v\",\"x\":[\"mapping\"],\"y\":[4],\"type\":\"bar\"},{\"base\":0,\"hoverinfo\":\"text+name\",\"hovertemplate\":\"False\\u003cbr\\u003e: 4\",\"name\":\"False : 4\",\"orientation\":\"v\",\"x\":[\"tweening\"],\"y\":[4],\"type\":\"bar\"},{\"base\":0,\"hoverinfo\":\"text+name\",\"hovertemplate\":\"False\\u003cbr\\u003e: 4\",\"name\":\"False : 4\",\"orientation\":\"v\",\"x\":[\"tuning\"],\"y\":[4],\"type\":\"bar\"},{\"base\":0,\"hoverinfo\":\"text+name\",\"hovertemplate\":\"1.0\\u003cbr\\u003e: 4\",\"name\":\"1.0 : 4\",\"orientation\":\"v\",\"x\":[\"mapping_score\"],\"y\":[4],\"type\":\"bar\"}],                        {\"annotations\":[{\"showarrow\":false,\"text\":\"1\",\"x\":\"centerID\",\"xref\":\"x\",\"y\":4.28,\"yref\":\"y\"},{\"showarrow\":false,\"text\":\"1\",\"x\":\"leadModel\",\"xref\":\"x\",\"y\":4.28,\"yref\":\"y\"},{\"showarrow\":false,\"text\":\"1\",\"x\":\"patientID\",\"xref\":\"x\",\"y\":4.28,\"yref\":\"y\"},{\"showarrow\":false,\"text\":\"3\",\"x\":\"verciseID\",\"xref\":\"x\",\"y\":4.28,\"yref\":\"y\"},{\"showarrow\":false,\"text\":\"3\",\"x\":\"amplitude\",\"xref\":\"x\",\"y\":4.28,\"yref\":\"y\"},{\"showarrow\":false,\"text\":\"1\",\"x\":\"mapping\",\"xref\":\"x\",\"y\":4.28,\"yref\":\"y\"},{\"showarrow\":false,\"text\":\"1\",\"x\":\"tweening\",\"xref\":\"x\",\"y\":4.28,\"yref\":\"y\"},{\"showarrow\":false,\"text\":\"1\",\"x\":\"tuning\",\"xref\":\"x\",\"y\":4.28,\"yref\":\"y\"},{\"showarrow\":false,\"text\":\"1\",\"x\":\"mapping_score\",\"xref\":\"x\",\"y\":4.28,\"yref\":\"y\"}],\"barmode\":\"stack\",\"showlegend\":false,\"title\":{\"text\":\"Total = 4\"},\"xaxis\":{\"title\":{\"text\":\"Columns\"}},\"yaxis\":{\"title\":{\"text\":\"Count\"}},\"template\":{\"data\":{\"histogram2dcontour\":[{\"type\":\"histogram2dcontour\",\"colorbar\":{\"outlinewidth\":0,\"ticks\":\"\"},\"colorscale\":[[0.0,\"#0d0887\"],[0.1111111111111111,\"#46039f\"],[0.2222222222222222,\"#7201a8\"],[0.3333333333333333,\"#9c179e\"],[0.4444444444444444,\"#bd3786\"],[0.5555555555555556,\"#d8576b\"],[0.6666666666666666,\"#ed7953\"],[0.7777777777777778,\"#fb9f3a\"],[0.8888888888888888,\"#fdca26\"],[1.0,\"#f0f921\"]]}],\"choropleth\":[{\"type\":\"choropleth\",\"colorbar\":{\"outlinewidth\":0,\"ticks\":\"\"}}],\"histogram2d\":[{\"type\":\"histogram2d\",\"colorbar\":{\"outlinewidth\":0,\"ticks\":\"\"},\"colorscale\":[[0.0,\"#0d0887\"],[0.1111111111111111,\"#46039f\"],[0.2222222222222222,\"#7201a8\"],[0.3333333333333333,\"#9c179e\"],[0.4444444444444444,\"#bd3786\"],[0.5555555555555556,\"#d8576b\"],[0.6666666666666666,\"#ed7953\"],[0.7777777777777778,\"#fb9f3a\"],[0.8888888888888888,\"#fdca26\"],[1.0,\"#f0f921\"]]}],\"heatmap\":[{\"type\":\"heatmap\",\"colorbar\":{\"outlinewidth\":0,\"ticks\":\"\"},\"colorscale\":[[0.0,\"#0d0887\"],[0.1111111111111111,\"#46039f\"],[0.2222222222222222,\"#7201a8\"],[0.3333333333333333,\"#9c179e\"],[0.4444444444444444,\"#bd3786\"],[0.5555555555555556,\"#d8576b\"],[0.6666666666666666,\"#ed7953\"],[0.7777777777777778,\"#fb9f3a\"],[0.8888888888888888,\"#fdca26\"],[1.0,\"#f0f921\"]]}],\"heatmapgl\":[{\"type\":\"heatmapgl\",\"colorbar\":{\"outlinewidth\":0,\"ticks\":\"\"},\"colorscale\":[[0.0,\"#0d0887\"],[0.1111111111111111,\"#46039f\"],[0.2222222222222222,\"#7201a8\"],[0.3333333333333333,\"#9c179e\"],[0.4444444444444444,\"#bd3786\"],[0.5555555555555556,\"#d8576b\"],[0.6666666666666666,\"#ed7953\"],[0.7777777777777778,\"#fb9f3a\"],[0.8888888888888888,\"#fdca26\"],[1.0,\"#f0f921\"]]}],\"contourcarpet\":[{\"type\":\"contourcarpet\",\"colorbar\":{\"outlinewidth\":0,\"ticks\":\"\"}}],\"contour\":[{\"type\":\"contour\",\"colorbar\":{\"outlinewidth\":0,\"ticks\":\"\"},\"colorscale\":[[0.0,\"#0d0887\"],[0.1111111111111111,\"#46039f\"],[0.2222222222222222,\"#7201a8\"],[0.3333333333333333,\"#9c179e\"],[0.4444444444444444,\"#bd3786\"],[0.5555555555555556,\"#d8576b\"],[0.6666666666666666,\"#ed7953\"],[0.7777777777777778,\"#fb9f3a\"],[0.8888888888888888,\"#fdca26\"],[1.0,\"#f0f921\"]]}],\"surface\":[{\"type\":\"surface\",\"colorbar\":{\"outlinewidth\":0,\"ticks\":\"\"},\"colorscale\":[[0.0,\"#0d0887\"],[0.1111111111111111,\"#46039f\"],[0.2222222222222222,\"#7201a8\"],[0.3333333333333333,\"#9c179e\"],[0.4444444444444444,\"#bd3786\"],[0.5555555555555556,\"#d8576b\"],[0.6666666666666666,\"#ed7953\"],[0.7777777777777778,\"#fb9f3a\"],[0.8888888888888888,\"#fdca26\"],[1.0,\"#f0f921\"]]}],\"mesh3d\":[{\"type\":\"mesh3d\",\"colorbar\":{\"outlinewidth\":0,\"ticks\":\"\"}}],\"scatter\":[{\"fillpattern\":{\"fillmode\":\"overlay\",\"size\":10,\"solidity\":0.2},\"type\":\"scatter\"}],\"parcoords\":[{\"type\":\"parcoords\",\"line\":{\"colorbar\":{\"outlinewidth\":0,\"ticks\":\"\"}}}],\"scatterpolargl\":[{\"type\":\"scatterpolargl\",\"marker\":{\"colorbar\":{\"outlinewidth\":0,\"ticks\":\"\"}}}],\"bar\":[{\"error_x\":{\"color\":\"#2a3f5f\"},\"error_y\":{\"color\":\"#2a3f5f\"},\"marker\":{\"line\":{\"color\":\"#E5ECF6\",\"width\":0.5},\"pattern\":{\"fillmode\":\"overlay\",\"size\":10,\"solidity\":0.2}},\"type\":\"bar\"}],\"scattergeo\":[{\"type\":\"scattergeo\",\"marker\":{\"colorbar\":{\"outlinewidth\":0,\"ticks\":\"\"}}}],\"scatterpolar\":[{\"type\":\"scatterpolar\",\"marker\":{\"colorbar\":{\"outlinewidth\":0,\"ticks\":\"\"}}}],\"histogram\":[{\"marker\":{\"pattern\":{\"fillmode\":\"overlay\",\"size\":10,\"solidity\":0.2}},\"type\":\"histogram\"}],\"scattergl\":[{\"type\":\"scattergl\",\"marker\":{\"colorbar\":{\"outlinewidth\":0,\"ticks\":\"\"}}}],\"scatter3d\":[{\"type\":\"scatter3d\",\"line\":{\"colorbar\":{\"outlinewidth\":0,\"ticks\":\"\"}},\"marker\":{\"colorbar\":{\"outlinewidth\":0,\"ticks\":\"\"}}}],\"scattermapbox\":[{\"type\":\"scattermapbox\",\"marker\":{\"colorbar\":{\"outlinewidth\":0,\"ticks\":\"\"}}}],\"scatterternary\":[{\"type\":\"scatterternary\",\"marker\":{\"colorbar\":{\"outlinewidth\":0,\"ticks\":\"\"}}}],\"scattercarpet\":[{\"type\":\"scattercarpet\",\"marker\":{\"colorbar\":{\"outlinewidth\":0,\"ticks\":\"\"}}}],\"carpet\":[{\"aaxis\":{\"endlinecolor\":\"#2a3f5f\",\"gridcolor\":\"white\",\"linecolor\":\"white\",\"minorgridcolor\":\"white\",\"startlinecolor\":\"#2a3f5f\"},\"baxis\":{\"endlinecolor\":\"#2a3f5f\",\"gridcolor\":\"white\",\"linecolor\":\"white\",\"minorgridcolor\":\"white\",\"startlinecolor\":\"#2a3f5f\"},\"type\":\"carpet\"}],\"table\":[{\"cells\":{\"fill\":{\"color\":\"#EBF0F8\"},\"line\":{\"color\":\"white\"}},\"header\":{\"fill\":{\"color\":\"#C8D4E3\"},\"line\":{\"color\":\"white\"}},\"type\":\"table\"}],\"barpolar\":[{\"marker\":{\"line\":{\"color\":\"#E5ECF6\",\"width\":0.5},\"pattern\":{\"fillmode\":\"overlay\",\"size\":10,\"solidity\":0.2}},\"type\":\"barpolar\"}],\"pie\":[{\"automargin\":true,\"type\":\"pie\"}]},\"layout\":{\"autotypenumbers\":\"strict\",\"colorway\":[\"#636efa\",\"#EF553B\",\"#00cc96\",\"#ab63fa\",\"#FFA15A\",\"#19d3f3\",\"#FF6692\",\"#B6E880\",\"#FF97FF\",\"#FECB52\"],\"font\":{\"color\":\"#2a3f5f\"},\"hovermode\":\"closest\",\"hoverlabel\":{\"align\":\"left\"},\"paper_bgcolor\":\"white\",\"plot_bgcolor\":\"#E5ECF6\",\"polar\":{\"bgcolor\":\"#E5ECF6\",\"angularaxis\":{\"gridcolor\":\"white\",\"linecolor\":\"white\",\"ticks\":\"\"},\"radialaxis\":{\"gridcolor\":\"white\",\"linecolor\":\"white\",\"ticks\":\"\"}},\"ternary\":{\"bgcolor\":\"#E5ECF6\",\"aaxis\":{\"gridcolor\":\"white\",\"linecolor\":\"white\",\"ticks\":\"\"},\"baxis\":{\"gridcolor\":\"white\",\"linecolor\":\"white\",\"ticks\":\"\"},\"caxis\":{\"gridcolor\":\"white\",\"linecolor\":\"white\",\"ticks\":\"\"}},\"coloraxis\":{\"colorbar\":{\"outlinewidth\":0,\"ticks\":\"\"}},\"colorscale\":{\"sequential\":[[0.0,\"#0d0887\"],[0.1111111111111111,\"#46039f\"],[0.2222222222222222,\"#7201a8\"],[0.3333333333333333,\"#9c179e\"],[0.4444444444444444,\"#bd3786\"],[0.5555555555555556,\"#d8576b\"],[0.6666666666666666,\"#ed7953\"],[0.7777777777777778,\"#fb9f3a\"],[0.8888888888888888,\"#fdca26\"],[1.0,\"#f0f921\"]],\"sequentialminus\":[[0.0,\"#0d0887\"],[0.1111111111111111,\"#46039f\"],[0.2222222222222222,\"#7201a8\"],[0.3333333333333333,\"#9c179e\"],[0.4444444444444444,\"#bd3786\"],[0.5555555555555556,\"#d8576b\"],[0.6666666666666666,\"#ed7953\"],[0.7777777777777778,\"#fb9f3a\"],[0.8888888888888888,\"#fdca26\"],[1.0,\"#f0f921\"]],\"diverging\":[[0,\"#8e0152\"],[0.1,\"#c51b7d\"],[0.2,\"#de77ae\"],[0.3,\"#f1b6da\"],[0.4,\"#fde0ef\"],[0.5,\"#f7f7f7\"],[0.6,\"#e6f5d0\"],[0.7,\"#b8e186\"],[0.8,\"#7fbc41\"],[0.9,\"#4d9221\"],[1,\"#276419\"]]},\"xaxis\":{\"gridcolor\":\"white\",\"linecolor\":\"white\",\"ticks\":\"\",\"title\":{\"standoff\":15},\"zerolinecolor\":\"white\",\"automargin\":true,\"zerolinewidth\":2},\"yaxis\":{\"gridcolor\":\"white\",\"linecolor\":\"white\",\"ticks\":\"\",\"title\":{\"standoff\":15},\"zerolinecolor\":\"white\",\"automargin\":true,\"zerolinewidth\":2},\"scene\":{\"xaxis\":{\"backgroundcolor\":\"#E5ECF6\",\"gridcolor\":\"white\",\"linecolor\":\"white\",\"showbackground\":true,\"ticks\":\"\",\"zerolinecolor\":\"white\",\"gridwidth\":2},\"yaxis\":{\"backgroundcolor\":\"#E5ECF6\",\"gridcolor\":\"white\",\"linecolor\":\"white\",\"showbackground\":true,\"ticks\":\"\",\"zerolinecolor\":\"white\",\"gridwidth\":2},\"zaxis\":{\"backgroundcolor\":\"#E5ECF6\",\"gridcolor\":\"white\",\"linecolor\":\"white\",\"showbackground\":true,\"ticks\":\"\",\"zerolinecolor\":\"white\",\"gridwidth\":2}},\"shapedefaults\":{\"line\":{\"color\":\"#2a3f5f\"}},\"annotationdefaults\":{\"arrowcolor\":\"#2a3f5f\",\"arrowhead\":0,\"arrowwidth\":1},\"geo\":{\"bgcolor\":\"white\",\"landcolor\":\"#E5ECF6\",\"subunitcolor\":\"white\",\"showland\":true,\"showlakes\":true,\"lakecolor\":\"white\"},\"title\":{\"x\":0.05},\"mapbox\":{\"style\":\"light\"}}}},                        {\"responsive\": true}                    ).then(function(){\n",
       "                            \n",
       "var gd = document.getElementById('38e92c20-af05-4571-8eb8-b7146e53bff6');\n",
       "var x = new MutationObserver(function (mutations, observer) {{\n",
       "        var display = window.getComputedStyle(gd).display;\n",
       "        if (!display || display === 'none') {{\n",
       "            console.log([gd, 'removed!']);\n",
       "            Plotly.purge(gd);\n",
       "            observer.disconnect();\n",
       "        }}\n",
       "}});\n",
       "\n",
       "// Listen for the removal of the full notebook cells\n",
       "var notebookContainer = gd.closest('#notebook-container');\n",
       "if (notebookContainer) {{\n",
       "    x.observe(notebookContainer, {childList: true});\n",
       "}}\n",
       "\n",
       "// Listen for the clearing of the current output cell\n",
       "var outputEl = gd.closest('.output');\n",
       "if (outputEl) {{\n",
       "    x.observe(outputEl, {childList: true});\n",
       "}}\n",
       "\n",
       "                        })                };                });            </script>        </div>"
      ]
     },
     "metadata": {},
     "output_type": "display_data"
    },
    {
     "data": {
      "text/plain": [
       "<function __main__.<lambda>(**kwargs)>"
      ]
     },
     "execution_count": 42,
     "metadata": {},
     "output_type": "execute_result"
    }
   ],
   "source": [
    "import plotly.graph_objects as go\n",
    "from ipywidgets import interact, widgets\n",
    "\n",
    "# Columns of interest\n",
    "columns_of_interest = ['centerID', 'leadModel', 'patientID', 'verciseID', 'amplitude', 'mapping', 'tweening', 'tuning', 'mapping_score']\n",
    "\n",
    "def plot_data(df, **kwargs):\n",
    "    df_filtered = df.copy()\n",
    "\n",
    "    for col, value in kwargs.items():\n",
    "        if value != 'free':\n",
    "            df_filtered = df_filtered[df_filtered[col] == value]\n",
    "\n",
    "    total_length = len(df_filtered)\n",
    "    \n",
    "    # Initialize data for plotly\n",
    "    bar_data = []\n",
    "    \n",
    "    annotations = []  # Initialize annotations list\n",
    "    \n",
    "    for i, col in enumerate(columns_of_interest):\n",
    "        bottom = 0\n",
    "        counts = df_filtered[col].value_counts().sort_index()\n",
    "\n",
    "        total_for_col = df_filtered[col].nunique()  # Number of unique values for the current column\n",
    "\n",
    "        for value, count in counts.items():\n",
    "            bar_data.append(go.Bar(\n",
    "                x=[col],\n",
    "                y=[count],\n",
    "                hoverinfo=\"text+name\",\n",
    "                hovertemplate=f\"{value}<br>: {count}\",  # Customize your hover template here\n",
    "                name=f\"{value} : {count}\",\n",
    "                orientation='v',\n",
    "                base=bottom\n",
    "            ))\n",
    "            bottom += count\n",
    "        \n",
    "        annotations.append(  # Append new annotation\n",
    "            dict(\n",
    "                x=col,\n",
    "                y=bottom*1.07,\n",
    "                xref=\"x\",\n",
    "                yref=\"y\",\n",
    "                text=str(total_for_col),\n",
    "                showarrow=False\n",
    "            )\n",
    "        )\n",
    "        \n",
    "    # Customize layout\n",
    "    layout = go.Layout(\n",
    "        title=f'Total = {total_length}',\n",
    "        xaxis=dict(title='Columns'),\n",
    "        yaxis=dict(title='Count'),\n",
    "        barmode='stack',\n",
    "        annotations=annotations,  # Set annotations\n",
    "        showlegend=False\n",
    "    )\n",
    "\n",
    "    fig = go.Figure(data=bar_data, layout=layout)\n",
    "\n",
    "    fig.show()\n",
    "\n",
    "dropdowns = {}\n",
    "for col in columns_of_interest:\n",
    "    uniques = list(df[col].unique())\n",
    "    options = ['free'] + uniques\n",
    "    dropdowns[col] = widgets.Dropdown(options=options, description=f'{col}:')\n",
    "\n",
    "interact(lambda **kwargs: plot_data(df, **kwargs), **dropdowns)\n"
   ]
  },
  {
   "cell_type": "code",
   "execution_count": null,
   "metadata": {},
   "outputs": [],
   "source": [
    "for col in ('centerID', 'leadModel', 'patientID'):\n",
    "    print(f\"Column '{col}' unique values:\")\n",
    "    print(df[col].value_counts())\n",
    "    print('-'*20)"
   ]
  },
  {
   "cell_type": "code",
   "execution_count": 3,
   "metadata": {},
   "outputs": [
    {
     "data": {
      "image/png": "[encoded data removed]",
      "text/plain": [
       "<Figure size 640x480 with 2 Axes>"
      ]
     },
     "metadata": {},
     "output_type": "display_data"
    }
   ],
   "source": [
    "import pandas as pd\n",
    "import numpy as np\n",
    "import matplotlib.pyplot as plt\n",
    "import seaborn as sns\n",
    "\n",
    "df = pd.read_csv('/media/brainstimmaps/DATA/2009_DeepMaps01/04_Source/01_Development/deepmaps/data/processed/stn_space_3sigma/merged/flipped/tables_tweened/250um.csv')\n",
    "\n",
    "# Group by centerID and mapping_score and count the rows\n",
    "df['mapping_score'] = df['mapping_score'].apply(np.floor)\n",
    "\n",
    "grouped = df.groupby(['center', 'mapping']).size().reset_index(name='count')\n",
    "\n",
    "\n",
    "# Pivot the table to get a 2x2 matrix\n",
    "pivot_table = grouped.pivot(index='mapping', columns='center', values='count')\n",
    "\n",
    "# Plot the heatmap\n",
    "sns.heatmap(pivot_table, annot=True, cmap='viridis', cbar=True, square=True, fmt=\"d\")\n",
    "plt.title(\"Floored mapping score heatmap\")\n",
    "plt.show()"
   ]
  },
  {
   "cell_type": "code",
   "execution_count": 9,
   "metadata": {},
   "outputs": [
    {
     "name": "stdout",
     "output_type": "stream",
     "text": [
      "/media/brainstimmaps/DATA/2009_DeepMaps01/04_Source/01_Development/deepmaps/models/predict_loco/ProjNetMerged4/perf/23.09.28.15:54:57.csv\n"
     ]
    },
    {
     "data": {
      "text/html": [
       "<div>\n",
       "<style scoped>\n",
       "    .dataframe tbody tr th:only-of-type {\n",
       "        vertical-align: middle;\n",
       "    }\n",
       "\n",
       "    .dataframe tbody tr th {\n",
       "        vertical-align: top;\n",
       "    }\n",
       "\n",
       "    .dataframe thead th {\n",
       "        text-align: right;\n",
       "    }\n",
       "</style>\n",
       "<table border=\"1\" class=\"dataframe\">\n",
       "  <thead>\n",
       "    <tr style=\"text-align: right;\">\n",
       "      <th></th>\n",
       "      <th>center</th>\n",
       "      <th>cohort</th>\n",
       "      <th>lead_model</th>\n",
       "      <th>patient</th>\n",
       "      <th>lead</th>\n",
       "      <th>hemisphere</th>\n",
       "      <th>contact</th>\n",
       "      <th>vercise</th>\n",
       "      <th>directional</th>\n",
       "      <th>ring</th>\n",
       "      <th>...</th>\n",
       "      <th>split_7</th>\n",
       "      <th>split_8</th>\n",
       "      <th>split_9</th>\n",
       "      <th>split_10</th>\n",
       "      <th>noisy</th>\n",
       "      <th>original_vta</th>\n",
       "      <th>added_voxels</th>\n",
       "      <th>total_voxels</th>\n",
       "      <th>prediction_rounded</th>\n",
       "      <th>prediction</th>\n",
       "    </tr>\n",
       "  </thead>\n",
       "  <tbody>\n",
       "    <tr>\n",
       "      <th>0</th>\n",
       "      <td>Bern</td>\n",
       "      <td>B01</td>\n",
       "      <td>B.S. Vercise</td>\n",
       "      <td>1</td>\n",
       "      <td>1.0</td>\n",
       "      <td>right</td>\n",
       "      <td>0</td>\n",
       "      <td>0</td>\n",
       "      <td>False</td>\n",
       "      <td>R0</td>\n",
       "      <td>...</td>\n",
       "      <td>tuning</td>\n",
       "      <td>tuning</td>\n",
       "      <td>testing</td>\n",
       "      <td>tuning</td>\n",
       "      <td>False</td>\n",
       "      <td>NaN</td>\n",
       "      <td>0.0</td>\n",
       "      <td>3.0</td>\n",
       "      <td>0.0</td>\n",
       "      <td>0.002689</td>\n",
       "    </tr>\n",
       "    <tr>\n",
       "      <th>1</th>\n",
       "      <td>Bern</td>\n",
       "      <td>B01</td>\n",
       "      <td>B.S. Vercise</td>\n",
       "      <td>1</td>\n",
       "      <td>1.0</td>\n",
       "      <td>right</td>\n",
       "      <td>0</td>\n",
       "      <td>0</td>\n",
       "      <td>False</td>\n",
       "      <td>R0</td>\n",
       "      <td>...</td>\n",
       "      <td>tuning</td>\n",
       "      <td>testing</td>\n",
       "      <td>tuning</td>\n",
       "      <td>tuning</td>\n",
       "      <td>False</td>\n",
       "      <td>NaN</td>\n",
       "      <td>0.0</td>\n",
       "      <td>3.0</td>\n",
       "      <td>0.0</td>\n",
       "      <td>0.002839</td>\n",
       "    </tr>\n",
       "    <tr>\n",
       "      <th>2</th>\n",
       "      <td>Bern</td>\n",
       "      <td>B01</td>\n",
       "      <td>B.S. Vercise</td>\n",
       "      <td>1</td>\n",
       "      <td>1.0</td>\n",
       "      <td>right</td>\n",
       "      <td>0</td>\n",
       "      <td>0</td>\n",
       "      <td>False</td>\n",
       "      <td>R0</td>\n",
       "      <td>...</td>\n",
       "      <td>tuning</td>\n",
       "      <td>tuning</td>\n",
       "      <td>testing</td>\n",
       "      <td>tuning</td>\n",
       "      <td>False</td>\n",
       "      <td>NaN</td>\n",
       "      <td>0.0</td>\n",
       "      <td>3.0</td>\n",
       "      <td>0.0</td>\n",
       "      <td>0.003075</td>\n",
       "    </tr>\n",
       "    <tr>\n",
       "      <th>3</th>\n",
       "      <td>Bern</td>\n",
       "      <td>B01</td>\n",
       "      <td>B.S. Vercise</td>\n",
       "      <td>1</td>\n",
       "      <td>1.0</td>\n",
       "      <td>right</td>\n",
       "      <td>0</td>\n",
       "      <td>0</td>\n",
       "      <td>False</td>\n",
       "      <td>R0</td>\n",
       "      <td>...</td>\n",
       "      <td>tuning</td>\n",
       "      <td>tuning</td>\n",
       "      <td>testing</td>\n",
       "      <td>tuning</td>\n",
       "      <td>False</td>\n",
       "      <td>NaN</td>\n",
       "      <td>0.0</td>\n",
       "      <td>12.0</td>\n",
       "      <td>0.0</td>\n",
       "      <td>0.005292</td>\n",
       "    </tr>\n",
       "    <tr>\n",
       "      <th>4</th>\n",
       "      <td>Bern</td>\n",
       "      <td>B01</td>\n",
       "      <td>B.S. Vercise</td>\n",
       "      <td>1</td>\n",
       "      <td>1.0</td>\n",
       "      <td>right</td>\n",
       "      <td>0</td>\n",
       "      <td>0</td>\n",
       "      <td>False</td>\n",
       "      <td>R0</td>\n",
       "      <td>...</td>\n",
       "      <td>tuning</td>\n",
       "      <td>testing</td>\n",
       "      <td>testing</td>\n",
       "      <td>testing</td>\n",
       "      <td>False</td>\n",
       "      <td>NaN</td>\n",
       "      <td>0.0</td>\n",
       "      <td>12.0</td>\n",
       "      <td>0.0</td>\n",
       "      <td>0.005292</td>\n",
       "    </tr>\n",
       "    <tr>\n",
       "      <th>...</th>\n",
       "      <td>...</td>\n",
       "      <td>...</td>\n",
       "      <td>...</td>\n",
       "      <td>...</td>\n",
       "      <td>...</td>\n",
       "      <td>...</td>\n",
       "      <td>...</td>\n",
       "      <td>...</td>\n",
       "      <td>...</td>\n",
       "      <td>...</td>\n",
       "      <td>...</td>\n",
       "      <td>...</td>\n",
       "      <td>...</td>\n",
       "      <td>...</td>\n",
       "      <td>...</td>\n",
       "      <td>...</td>\n",
       "      <td>...</td>\n",
       "      <td>...</td>\n",
       "      <td>...</td>\n",
       "      <td>...</td>\n",
       "      <td>...</td>\n",
       "    </tr>\n",
       "    <tr>\n",
       "      <th>590823</th>\n",
       "      <td>Cologne</td>\n",
       "      <td>C01</td>\n",
       "      <td>M. 3389</td>\n",
       "      <td>220</td>\n",
       "      <td>220.0</td>\n",
       "      <td>right</td>\n",
       "      <td>3</td>\n",
       "      <td>7</td>\n",
       "      <td>False</td>\n",
       "      <td>R3</td>\n",
       "      <td>...</td>\n",
       "      <td>testing</td>\n",
       "      <td>testing</td>\n",
       "      <td>testing</td>\n",
       "      <td>testing</td>\n",
       "      <td>True</td>\n",
       "      <td>22448.0</td>\n",
       "      <td>5.0</td>\n",
       "      <td>101.0</td>\n",
       "      <td>NaN</td>\n",
       "      <td>NaN</td>\n",
       "    </tr>\n",
       "    <tr>\n",
       "      <th>590824</th>\n",
       "      <td>Cologne</td>\n",
       "      <td>C01</td>\n",
       "      <td>M. 3389</td>\n",
       "      <td>217</td>\n",
       "      <td>217.0</td>\n",
       "      <td>right</td>\n",
       "      <td>1</td>\n",
       "      <td>16</td>\n",
       "      <td>False</td>\n",
       "      <td>R1</td>\n",
       "      <td>...</td>\n",
       "      <td>tuning</td>\n",
       "      <td>tuning</td>\n",
       "      <td>testing</td>\n",
       "      <td>tuning</td>\n",
       "      <td>True</td>\n",
       "      <td>22234.0</td>\n",
       "      <td>0.0</td>\n",
       "      <td>11.0</td>\n",
       "      <td>NaN</td>\n",
       "      <td>NaN</td>\n",
       "    </tr>\n",
       "    <tr>\n",
       "      <th>590825</th>\n",
       "      <td>Cologne</td>\n",
       "      <td>C01</td>\n",
       "      <td>M. 3389</td>\n",
       "      <td>205</td>\n",
       "      <td>205.0</td>\n",
       "      <td>right</td>\n",
       "      <td>0</td>\n",
       "      <td>0</td>\n",
       "      <td>False</td>\n",
       "      <td>R0</td>\n",
       "      <td>...</td>\n",
       "      <td>testing</td>\n",
       "      <td>testing</td>\n",
       "      <td>tuning</td>\n",
       "      <td>testing</td>\n",
       "      <td>True</td>\n",
       "      <td>21134.0</td>\n",
       "      <td>2.0</td>\n",
       "      <td>102.0</td>\n",
       "      <td>NaN</td>\n",
       "      <td>NaN</td>\n",
       "    </tr>\n",
       "    <tr>\n",
       "      <th>590826</th>\n",
       "      <td>Cologne</td>\n",
       "      <td>C02</td>\n",
       "      <td>B.S. Vercise</td>\n",
       "      <td>238</td>\n",
       "      <td>238.5</td>\n",
       "      <td>left</td>\n",
       "      <td>10</td>\n",
       "      <td>10</td>\n",
       "      <td>True</td>\n",
       "      <td>NaN</td>\n",
       "      <td>...</td>\n",
       "      <td>testing</td>\n",
       "      <td>testing</td>\n",
       "      <td>testing</td>\n",
       "      <td>testing</td>\n",
       "      <td>True</td>\n",
       "      <td>23905.0</td>\n",
       "      <td>0.0</td>\n",
       "      <td>132.0</td>\n",
       "      <td>NaN</td>\n",
       "      <td>NaN</td>\n",
       "    </tr>\n",
       "    <tr>\n",
       "      <th>590827</th>\n",
       "      <td>Cologne</td>\n",
       "      <td>C01</td>\n",
       "      <td>M. 3389</td>\n",
       "      <td>208</td>\n",
       "      <td>208.0</td>\n",
       "      <td>right</td>\n",
       "      <td>3</td>\n",
       "      <td>7</td>\n",
       "      <td>False</td>\n",
       "      <td>R3</td>\n",
       "      <td>...</td>\n",
       "      <td>testing</td>\n",
       "      <td>testing</td>\n",
       "      <td>tuning</td>\n",
       "      <td>tuning</td>\n",
       "      <td>True</td>\n",
       "      <td>21502.0</td>\n",
       "      <td>1.0</td>\n",
       "      <td>21.0</td>\n",
       "      <td>NaN</td>\n",
       "      <td>NaN</td>\n",
       "    </tr>\n",
       "  </tbody>\n",
       "</table>\n",
       "<p>590828 rows × 35 columns</p>\n",
       "</div>"
      ],
      "text/plain": [
       "         center cohort    lead_model  patient   lead hemisphere  contact  \\\n",
       "0          Bern    B01  B.S. Vercise        1    1.0      right        0   \n",
       "1          Bern    B01  B.S. Vercise        1    1.0      right        0   \n",
       "2          Bern    B01  B.S. Vercise        1    1.0      right        0   \n",
       "3          Bern    B01  B.S. Vercise        1    1.0      right        0   \n",
       "4          Bern    B01  B.S. Vercise        1    1.0      right        0   \n",
       "...         ...    ...           ...      ...    ...        ...      ...   \n",
       "590823  Cologne    C01       M. 3389      220  220.0      right        3   \n",
       "590824  Cologne    C01       M. 3389      217  217.0      right        1   \n",
       "590825  Cologne    C01       M. 3389      205  205.0      right        0   \n",
       "590826  Cologne    C02  B.S. Vercise      238  238.5       left       10   \n",
       "590827  Cologne    C01       M. 3389      208  208.0      right        3   \n",
       "\n",
       "        vercise  directional ring  ...  split_7  split_8  split_9  split_10  \\\n",
       "0             0        False   R0  ...   tuning   tuning  testing    tuning   \n",
       "1             0        False   R0  ...   tuning  testing   tuning    tuning   \n",
       "2             0        False   R0  ...   tuning   tuning  testing    tuning   \n",
       "3             0        False   R0  ...   tuning   tuning  testing    tuning   \n",
       "4             0        False   R0  ...   tuning  testing  testing   testing   \n",
       "...         ...          ...  ...  ...      ...      ...      ...       ...   \n",
       "590823        7        False   R3  ...  testing  testing  testing   testing   \n",
       "590824       16        False   R1  ...   tuning   tuning  testing    tuning   \n",
       "590825        0        False   R0  ...  testing  testing   tuning   testing   \n",
       "590826       10         True  NaN  ...  testing  testing  testing   testing   \n",
       "590827        7        False   R3  ...  testing  testing   tuning    tuning   \n",
       "\n",
       "        noisy  original_vta  added_voxels  total_voxels  prediction_rounded  \\\n",
       "0       False           NaN           0.0           3.0                 0.0   \n",
       "1       False           NaN           0.0           3.0                 0.0   \n",
       "2       False           NaN           0.0           3.0                 0.0   \n",
       "3       False           NaN           0.0          12.0                 0.0   \n",
       "4       False           NaN           0.0          12.0                 0.0   \n",
       "...       ...           ...           ...           ...                 ...   \n",
       "590823   True       22448.0           5.0         101.0                 NaN   \n",
       "590824   True       22234.0           0.0          11.0                 NaN   \n",
       "590825   True       21134.0           2.0         102.0                 NaN   \n",
       "590826   True       23905.0           0.0         132.0                 NaN   \n",
       "590827   True       21502.0           1.0          21.0                 NaN   \n",
       "\n",
       "       prediction  \n",
       "0        0.002689  \n",
       "1        0.002839  \n",
       "2        0.003075  \n",
       "3        0.005292  \n",
       "4        0.005292  \n",
       "...           ...  \n",
       "590823        NaN  \n",
       "590824        NaN  \n",
       "590825        NaN  \n",
       "590826        NaN  \n",
       "590827        NaN  \n",
       "\n",
       "[590828 rows x 35 columns]"
      ]
     },
     "execution_count": 9,
     "metadata": {},
     "output_type": "execute_result"
    }
   ],
   "source": [
    "import glob\n",
    "import pandas as pd\n",
    "\n",
    "CV_TYPE = 'loco'\n",
    "\n",
    "model_name = 'ProjNetMerged4'\n",
    "filepaths = glob.glob('/media/brainstimmaps/DATA/2009_DeepMaps01/04_Source/01_Development/deepmaps/'\n",
    "    f'models/predict_{CV_TYPE}/{model_name}/perf/*')\n",
    "\n",
    "filepaths.sort()\n",
    "filepath = filepaths[-1]\n",
    "print(filepath)\n",
    "\n",
    "df = pd.read_csv(filepath)\n",
    "df"
   ]
  },
  {
   "cell_type": "code",
   "execution_count": 10,
   "metadata": {},
   "outputs": [
    {
     "data": {
      "image/png": "[encoded data removed]",
      "text/plain": [
       "<Figure size 640x480 with 2 Axes>"
      ]
     },
     "metadata": {},
     "output_type": "display_data"
    }
   ],
   "source": [
    "import matplotlib.pyplot as plt\n",
    "import seaborn as sns\n",
    "\n",
    "#df = pd.read_csv('/media/brainstimmaps/DATA/2009_DeepMaps01/04_Source/01_Development/deepmaps/data/processed/stn_space_3sigma/merged/flipped/tables_tweened/250um.csv')\n",
    "thresh = 0.8330957480952411\n",
    "# Group by centerID and mapping_score and count the rows\n",
    "df['step_interp_score'] = df['step_interp_score'].apply(lambda x : np.where(x > thresh, 1, 0))\n",
    "\n",
    "grouped = df.groupby(['center', 'step_interp_score']).size().reset_index(name='count')\n",
    "\n",
    "\n",
    "# Pivot the table to get a 2x2 matrix\n",
    "pivot_table = grouped.pivot(index='step_interp_score', columns='center', values='count')\n",
    "\n",
    "# Plot the heatmap\n",
    "sns.heatmap(pivot_table, annot=True, cmap='viridis', cbar=True, square=True, fmt=\"d\")\n",
    "plt.title(\"Floored mapping score heatmap\")\n",
    "plt.show()"
   ]
  },
  {
   "cell_type": "code",
   "execution_count": null,
   "metadata": {},
   "outputs": [],
   "source": [
    "print(f'If we draw a random negative sample there is a {298/(298.+125.):.2%} chance it comes from Cologne')\n",
    "print(f'If we draw a random positive sample there is a {532/(532.+45.):.2%} chance it comes from Bern')"
   ]
  },
  {
   "cell_type": "code",
   "execution_count": null,
   "metadata": {},
   "outputs": [],
   "source": [
    "# Define a range of thresholds\n",
    "thresholds = np.linspace(0, 1, 100)\n",
    "results = []\n",
    "\n",
    "for threshold in thresholds:\n",
    "    # Threshold the mapping_score\n",
    "    df['thresholded_score'] = (df['lin_interp_score'] >= threshold).astype(int)\n",
    "    \n",
    "    # Compute proportions for each combination\n",
    "    proportions = df.groupby(['centerID', 'thresholded_score']).size() / len(df)\n",
    "    \n",
    "    # Store proportions in results\n",
    "    results.append({\n",
    "        '(Bern, 1)': proportions.get(('Bern', 1), 0),\n",
    "        '(Bern, 0)': proportions.get(('Bern', 0), 0),\n",
    "        '(Cologne, 1)': proportions.get(('Cologne', 1), 0),\n",
    "        '(Cologne, 0)': proportions.get(('Cologne', 0), 0),\n",
    "    })\n",
    "\n",
    "# Convert results to DataFrame\n",
    "results_df = pd.DataFrame(results)\n",
    "\n",
    "# Plot superimposed columns\n",
    "ax = results_df.plot(kind='bar', stacked=True, figsize=(12,6), width=1.0, edgecolor='white')\n",
    "plt.title('Proportions based on mapping_score threshold')\n",
    "plt.xlabel('Threshold')\n",
    "plt.ylabel('Proportion')\n",
    "plt.xticks(ticks=range(0, 100, 10), labels=np.round(thresholds[::10], 2), rotation=45)\n",
    "ax.margins(x=0)  # Remove any margin between bars\n",
    "plt.tight_layout()\n",
    "plt.show()"
   ]
  },
  {
   "cell_type": "code",
   "execution_count": null,
   "metadata": {},
   "outputs": [],
   "source": [
    "score_type = 'lin_interp_score'\n",
    "\n",
    "# Define a range of thresholds\n",
    "thresholds = np.linspace(0, 1, 100)\n",
    "results = []\n",
    "\n",
    "for threshold in thresholds:\n",
    "    # Threshold the mapping_score\n",
    "    df['thresholded_score'] = (df[score_type] < threshold).astype(int)\n",
    "    \n",
    "    # Compute proportions for each combination\n",
    "    proportions = df.groupby(['centerID', 'thresholded_score']).size() / len(df)\n",
    "    \n",
    "    # Store proportions in results\n",
    "    results.append({\n",
    "        '(Bern, 1)': proportions.get(('Bern', 1), 0),\n",
    "        '(Cologne, 1)': proportions.get(('Cologne', 1), 0),\n",
    "        '(Bern, 0)': proportions.get(('Bern', 0), 0),\n",
    "        '(Cologne, 0)': proportions.get(('Cologne', 0), 0),\n",
    "    })\n",
    "\n",
    "color_dict = {'(Bern, 1)': '#3B0D11', # dark brown \n",
    "              '(Cologne, 1)': '#33495C', # dark blue \n",
    "              '(Bern, 0)' : '#B36D6B', # light brown\n",
    "              '(Cologne, 0)' : '#83B5D1'} # light blue\n",
    "\n",
    "# Convert results to DataFrame\n",
    "results_df = pd.DataFrame(results)\n",
    "\n",
    "# Plot superimposed columns\n",
    "ax = results_df.plot(kind='bar', stacked=True, figsize=(12,6), width=1.0, color=color_dict)\n",
    "plt.title(f'{score_type} proportions based on threshold')\n",
    "plt.xlabel('Threshold')\n",
    "plt.ylabel('Proportion')\n",
    "plt.xticks(ticks=range(0, 100, 10), labels=np.round(thresholds[::10], 2), rotation=45)\n",
    "plt.hlines(0.5, -1, 100, colors='red')\n",
    "ax.margins(x=0)  # Remove any margin between bars\n",
    "plt.tight_layout()\n",
    "plt.show()"
   ]
  },
  {
   "cell_type": "code",
   "execution_count": null,
   "metadata": {},
   "outputs": [],
   "source": [
    "import matplotlib.pyplot as plt\n",
    "import numpy as np\n",
    "import seaborn as sns\n",
    "\n",
    "unique_centers = df['centerID'].unique()\n",
    "\n",
    "sns.displot(data=df, x='step_interp_score', hue='centerID')    #df[df['centerID'] == center]['mapping_score'].hist(ax=ax, edgecolor='black')\n",
    "\n",
    "\n",
    "plt.tight_layout()\n",
    "plt.show()"
   ]
  },
  {
   "cell_type": "code",
   "execution_count": null,
   "metadata": {},
   "outputs": [],
   "source": [
    "len(VTAs) == len(df)"
   ]
  },
  {
   "cell_type": "code",
   "execution_count": null,
   "metadata": {},
   "outputs": [],
   "source": [
    "df.head(1)"
   ]
  },
  {
   "cell_type": "markdown",
   "metadata": {},
   "source": [
    "## SPLIT"
   ]
  },
  {
   "cell_type": "code",
   "execution_count": 1,
   "metadata": {},
   "outputs": [],
   "source": [
    "import numpy as np\n",
    "import pandas as pd\n",
    "\n",
    "    \n",
    "# Filter rows where 'mapping' is 0 and then sample 40% for 'tuning'\n",
    "for i in range(1, 4):\n",
    "    for resolution in (250, 500, 1000):\n",
    "        df = pd.read_csv(f'/media/brainstimmaps/DATA/2009_DeepMaps01/04_Source/01_Development/deepmaps/data/processed/stn_space_{i}sigma/merged/flipped/tables_tweened/{resolution}um.csv')\n",
    "        for n in range(1, 11):\n",
    "            tuning_df = df[df['mapping'] == 0].groupby(['center', 'patient','contact'], group_keys=False).apply(lambda x: x.sample(frac=0.4))\n",
    "            tuning_indices = tuning_df.index.tolist()\n",
    "            df[f'split_{n}'] = df.index.to_series().apply(lambda x: 'tuning' if x in tuning_indices else 'testing')\n",
    "\n",
    "        df.to_csv(f'/media/brainstimmaps/DATA/2009_DeepMaps01/04_Source/01_Development/deepmaps/data/processed/stn_space_{i}sigma/merged/flipped/tables_tweened/{resolution}um.csv', index=False)\n",
    "\n",
    "# 3m42s for 10 splits"
   ]
  },
  {
   "cell_type": "code",
   "execution_count": null,
   "metadata": {},
   "outputs": [],
   "source": [
    "print(len(tuning_df), len(testing_df), len(tuning_VTAs), len(testing_VTAs))\n",
    "print(len(tuning_df)+len(testing_df), len(df))\n",
    "print(len(tuning_VTAs)+len(testing_VTAs), len(VTAs))\n",
    "print(len(tuning_df)/len(df))"
   ]
  },
  {
   "cell_type": "code",
   "execution_count": null,
   "metadata": {},
   "outputs": [],
   "source": []
  }
 ],
 "metadata": {
  "kernelspec": {
   "display_name": "deepmaps",
   "language": "python",
   "name": "python3"
  },
  "language_info": {
   "codemirror_mode": {
    "name": "ipython",
    "version": 3
   },
   "file_extension": ".py",
   "mimetype": "text/x-python",
   "name": "python",
   "nbconvert_exporter": "python",
   "pygments_lexer": "ipython3",
   "version": "3.11.4"
  },
  "orig_nbformat": 4
 },
 "nbformat": 4,
 "nbformat_minor": 2
}
