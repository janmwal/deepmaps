{
 "cells": [
  {
   "cell_type": "code",
   "execution_count": 26,
   "metadata": {},
   "outputs": [
    {
     "name": "stdout",
     "output_type": "stream",
     "text": [
      "True\n"
     ]
    }
   ],
   "source": [
    "import numpy as np\n",
    "from scipy.ndimage import distance_transform_edt\n",
    "\n",
    "def add_surface_noise(volume : np.ndarray, amount : float, seed=None):\n",
    "\n",
    "    # Setting the seed if provided\n",
    "    if seed is not None:\n",
    "        np.random.seed(seed)\n",
    "\n",
    "    # Calculate the distance transform of the volume\n",
    "    distance = distance_transform_edt(1 - volume)\n",
    "\n",
    "    # Extracting the surface where the distance to the volume is one voxel away\n",
    "    surface = np.where(distance==1, 1, 0)\n",
    "\n",
    "    # Generate random noise \n",
    "    noise = np.random.rand(*volume.shape)\n",
    "\n",
    "    # Binarizing a given proportion of noisy voxels\n",
    "    noise = np.where(noise >= amount, 0, 1)\n",
    "\n",
    "    # Masking to the surface\n",
    "    noise = noise * surface\n",
    "\n",
    "    # Adding the noise to the original volume\n",
    "    noisy_volume = volume + noise\n",
    "\n",
    "    # Returing the ndarray as 8-bit unsigned integer type\n",
    "    return noisy_volume.astype(np.uint8)\n",
    "\n",
    "# Example usage:\n",
    "if __name__ == \"__main__\":\n",
    "    # Assuming you have your binarized 3D numpy array volume\n",
    "    seed = 42\n",
    "    volume = np.zeros((10, 10, 10), dtype=np.uint8)\n",
    "    volume[3:7, 3:7, 3:7] = 1  # Example: Creating a small solid volume in the center\n",
    "    amount = 0.1  # Example: Noise amount (between 0 and 1)\n",
    "\n",
    "    noisy_volume = add_surface_noise(volume, amount, seed)\n",
    "    noisy_volume2 = add_surface_noise(volume, amount, seed)\n",
    "    print(np.any(noisy_volume2-noisy_volume))\n",
    "\n"
   ]
  },
  {
   "cell_type": "code",
   "execution_count": 49,
   "metadata": {},
   "outputs": [
    {
     "name": "stderr",
     "output_type": "stream",
     "text": [
      "100%|██████████| 10314/10314 [01:59<00:00, 86.01it/s]\n"
     ]
    }
   ],
   "source": [
    "from tqdm import tqdm\n",
    "import pandas as pd\n",
    "from datetime import datetime\n",
    "from pathlib import Path\n",
    "\n",
    "with np.load('/media/brainstimmaps/DATA/2009_DeepMaps01/04_Source/01_Development/deepmaps/data/processed/stn_space_3sigma/merged/flipped/VTAs/250um.npz') as f:\n",
    "    X = f['arr_0']\n",
    "\n",
    "noisy_volumefactor = 1.2\n",
    "n_noisy = int(np.floor(len(X)*noisy_volumefactor))\n",
    "\n",
    "random_indices = np.random.randint(0, len(X), size=n_noisy)\n",
    "\n",
    "noisy_volumes = []\n",
    "\n",
    "random_selections = [X[i] for i in random_indices]\n",
    "\n",
    "df_dict = {\n",
    "    'idx' : list(),\n",
    "    'original_VTA_voxels' : list(),\n",
    "    'total_voxels' : list(),\n",
    "    'added_voxels' : list(),\n",
    "    'source_nifti' : list()\n",
    "\n",
    "}\n",
    "\n",
    "table = '/home/brainstimmaps/RESEARCH/20xx_Projects/2009_DeepMaps01/deepmaps/data/raw/tables/stn_space/merged/flipped/table_zeroed.csv'\n",
    "\n",
    "try:\n",
    "    df = pd.read_csv(table)\n",
    "except:\n",
    "    df = None\n",
    "    print(f'Cannot read table : {table}')\n",
    "\n",
    "for i,VTA in enumerate(tqdm(random_selections)):\n",
    "    amount = np.random.uniform(0.1, 0.5)\n",
    "    noisy_volume = add_surface_noise(VTA, amount, seed)\n",
    "    noisy_volumes.append(noisy_volume)\n",
    "\n",
    "    vta_idx = random_indices[i]\n",
    "    try:\n",
    "        source_nifti = df.at[vta_idx, 'massive_filename']\n",
    "    except:\n",
    "        print(f'Could not retreive VTA {i} massive filename in table : {table}')\n",
    "        source_nifti = ''\n",
    "\n",
    "    df_dict['idx'].append(vta_idx)\n",
    "    df_dict['original_VTA_voxels'].append(np.sum(VTA))\n",
    "    df_dict['added_voxels'].append(np.sum(noisy_volume-VTA))\n",
    "    df_dict['total_voxels'].append(np.sum(noisy_volume))\n",
    "    df_dict['source_nifti'].append(source_nifti)\n",
    "\n",
    "noisy_volumes = np.array(noisy_volumes)\n",
    "\n",
    "added_noises = noisy_volumes - random_selections\n",
    "\n",
    "output_path = f'{noisy_volumefactor}factor_stn_space_3sigma_merged_flipped_250um/noisy_volumes.npz'\n",
    "Path(output_path).parents[0].mkdir(parents=True, exist_ok=True)\n",
    "np.savez_compressed(f'{noisy_volumefactor}factor_stn_space_3sigma_merged_flipped_250um/noisy_volumes.npz', noisy_volumes)\n",
    "np.savez_compressed(f'{noisy_volumefactor}factor_stn_space_3sigma_merged_flipped_250um/added_noises.npz', added_noises)\n",
    "\n",
    "now = datetime.now()\n",
    "    \n",
    "dt_string = now.strftime(\"%Y_%m_%d_%H_%M_%S\")\n",
    "\n",
    "csv_file = f'{noisy_volumefactor}factor_stn_space_3sigma_merged_flipped_250um/log_{dt_string}.csv'\n",
    "\n",
    "df_log = pd.DataFrame(df_dict)\n",
    "df_log.to_csv(csv_file, index=False)\n",
    "\n",
    "# approx 2minutes for 8395 VTAs and 1.2 noisy factor (10k volumes)"
   ]
  },
  {
   "cell_type": "code",
   "execution_count": 46,
   "metadata": {},
   "outputs": [
    {
     "data": {
      "text/plain": [
       "False"
      ]
     },
     "execution_count": 46,
     "metadata": {},
     "output_type": "execute_result"
    }
   ],
   "source": [
    "# No noisy volume is smaller than 0\n",
    "np.array([np.sum(noisy_volume) < 0 for noisy_volume in noisy_volumes]).any()"
   ]
  },
  {
   "cell_type": "code",
   "execution_count": 47,
   "metadata": {},
   "outputs": [
    {
     "data": {
      "text/plain": [
       "False"
      ]
     },
     "execution_count": 47,
     "metadata": {},
     "output_type": "execute_result"
    }
   ],
   "source": [
    "# No added noise volume is smaller than zero\n",
    "np.array([np.sum(noise) < 0 for noise in added_noises]).any()"
   ]
  },
  {
   "cell_type": "code",
   "execution_count": null,
   "metadata": {},
   "outputs": [],
   "source": []
  }
 ],
 "metadata": {
  "kernelspec": {
   "display_name": "env",
   "language": "python",
   "name": "python3"
  },
  "language_info": {
   "codemirror_mode": {
    "name": "ipython",
    "version": 3
   },
   "file_extension": ".py",
   "mimetype": "text/x-python",
   "name": "python",
   "nbconvert_exporter": "python",
   "pygments_lexer": "ipython3",
   "version": "3.9.2"
  },
  "orig_nbformat": 4
 },
 "nbformat": 4,
 "nbformat_minor": 2
}
