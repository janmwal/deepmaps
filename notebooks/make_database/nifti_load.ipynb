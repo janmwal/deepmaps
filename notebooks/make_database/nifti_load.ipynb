{
 "cells": [
  {
   "cell_type": "markdown",
   "metadata": {},
   "source": [
    "## Load data"
   ]
  },
  {
   "cell_type": "code",
   "execution_count": 1,
   "metadata": {},
   "outputs": [],
   "source": [
    "import nibabel as nib\n",
    "import numpy as np\n",
    "import pandas as pd\n",
    "from pathlib import Path\n",
    "import os"
   ]
  },
  {
   "cell_type": "code",
   "execution_count": 2,
   "metadata": {},
   "outputs": [],
   "source": [
    "# table = pd.read_csv('/media/brainstimmaps/DATA/2009_DeepMaps01/04_Source/01_Development/deepmaps/data/raw/psm_tables/bern+cologne/mapping/multicentricTableAllImprovedOnlyRev04B.csv')\n",
    "table = pd.read_csv('/Users/jan/Downloads/deepmaps/data/raw/psm_tables/bern+cologne/mapping/multicentricTableAllImprovedOnlyRev04B.csv')\n",
    "\n",
    "table = table[table['centerID'] == 1]\n",
    "filenames = table['filename'].to_list()\n",
    "\n",
    "# table contains relative paths in 'filename' columns, making it absolute\n",
    "def filename_process(filename):\n",
    "    path = '/Users/jan/Downloads/deepmaps/data/raw/original_vtas/VTAsForMulticentricPSMRev04B/' + '/'.join(filename.split('/')[-2:])\n",
    "    return os.path.abspath(path)\n",
    "    \n",
    "filenames = list(map(filename_process, filenames))"
   ]
  },
  {
   "cell_type": "code",
   "execution_count": 3,
   "metadata": {},
   "outputs": [
    {
     "name": "stdout",
     "output_type": "stream",
     "text": [
      "/Users/jan/Downloads/deepmaps/data/raw/original_vtas/VTAsForMulticentricPSMRev04B/BernVTAsResliced/0001_8_2.5.nii\n",
      "<class 'nibabel.nifti1.Nifti1Header'> object, endian='<'\n",
      "sizeof_hdr      : 348\n",
      "data_type       : b''\n",
      "db_name         : b''\n",
      "extents         : 0\n",
      "session_error   : 0\n",
      "regular         : b'r'\n",
      "dim_info        : 0\n",
      "dim             : [ 3 53 53 53  1  1  1  1]\n",
      "intent_p1       : 0.0\n",
      "intent_p2       : 0.0\n",
      "intent_p3       : 0.0\n",
      "intent_code     : none\n",
      "datatype        : float32\n",
      "bitpix          : 32\n",
      "slice_start     : 0\n",
      "pixdim          : [-1.    0.25  0.25  0.25  0.    0.    0.    0.  ]\n",
      "vox_offset      : 0.0\n",
      "scl_slope       : nan\n",
      "scl_inter       : nan\n",
      "slice_end       : 0\n",
      "slice_code      : unknown\n",
      "xyzt_units      : 2\n",
      "cal_max         : 0.0\n",
      "cal_min         : 0.0\n",
      "slice_duration  : 0.0\n",
      "toffset         : 0.0\n",
      "glmax           : 0\n",
      "glmin           : 0\n",
      "descrip         : b''\n",
      "aux_file        : b''\n",
      "qform_code      : scanner\n",
      "sform_code      : scanner\n",
      "quatern_b       : -0.0\n",
      "quatern_c       : 1.0\n",
      "quatern_d       : 0.0\n",
      "qoffset_x       : 19.0\n",
      "qoffset_y       : -21.0\n",
      "qoffset_z       : -16.0\n",
      "srow_x          : [-0.25 -0.    0.   19.  ]\n",
      "srow_y          : [ -0.     0.25  -0.   -21.  ]\n",
      "srow_z          : [  0.     0.     0.25 -16.  ]\n",
      "intent_name     : b''\n",
      "magic           : b'n+1'\n",
      "float32\n",
      "(53, 53, 53)\n",
      "595860\n",
      "<class 'nibabel.nifti1.Nifti1Image'>\n"
     ]
    }
   ],
   "source": [
    "print(filenames[0])\n",
    "img = nib.load(filenames[0])\n",
    "hdr = img.header\n",
    "print(hdr)\n",
    "print(img.get_data_dtype())\n",
    "print(img.shape)\n",
    "print(os.path.getsize(filenames[0]))\n",
    "print(type(img))"
   ]
  },
  {
   "cell_type": "markdown",
   "metadata": {},
   "source": [
    "## Plot VTA"
   ]
  },
  {
   "cell_type": "code",
   "execution_count": 4,
   "metadata": {},
   "outputs": [
    {
     "data": {
      "image/png": "[encoded data removed]",
      "text/plain": [
       "<Figure size 640x480 with 3 Axes>"
      ]
     },
     "metadata": {},
     "output_type": "display_data"
    }
   ],
   "source": [
    "import matplotlib.pyplot as plt\n",
    "\n",
    "def show_slices(slices):\n",
    "    \"\"\" Function to display row of image slices \"\"\"\n",
    "    fig, axes = plt.subplots(1, len(slices))\n",
    "    for i, slice in enumerate(slices):\n",
    "        axes[i].imshow(slice.T, cmap=\"gray\", origin=\"lower\")\n",
    "       \n",
    "data = img.get_fdata()\n",
    "slice_0 = data[14, :, :]\n",
    "slice_1 = data[:, 30, :]\n",
    "slice_2 = data[:, :, 16]\n",
    "\n",
    "show_slices([slice_0, slice_1, slice_2])\n",
    "\n",
    "plt.show()"
   ]
  },
  {
   "cell_type": "markdown",
   "metadata": {},
   "source": [
    "## Affines"
   ]
  },
  {
   "cell_type": "code",
   "execution_count": 5,
   "metadata": {},
   "outputs": [
    {
     "data": {
      "text/plain": [
       "array([[ -0.25,  -0.  ,   0.  ,  19.  ],\n",
       "       [ -0.  ,   0.25,  -0.  , -21.  ],\n",
       "       [  0.  ,   0.  ,   0.25, -16.  ],\n",
       "       [  0.  ,   0.  ,   0.  ,   1.  ]])"
      ]
     },
     "execution_count": 5,
     "metadata": {},
     "output_type": "execute_result"
    }
   ],
   "source": [
    "img.affine"
   ]
  },
  {
   "cell_type": "code",
   "execution_count": 6,
   "metadata": {},
   "outputs": [],
   "source": [
    "import nibabel.processing\n",
    "res = 0.25\n",
    "resampled_img = nibabel.processing.resample_to_output(img, voxel_sizes=(res, res, res))"
   ]
  },
  {
   "cell_type": "code",
   "execution_count": 7,
   "metadata": {},
   "outputs": [
    {
     "data": {
      "text/plain": [
       "array([[  0.25,   0.  ,   0.  ,   6.  ],\n",
       "       [  0.  ,   0.25,   0.  , -21.  ],\n",
       "       [  0.  ,   0.  ,   0.25, -16.  ],\n",
       "       [  0.  ,   0.  ,   0.  ,   1.  ]])"
      ]
     },
     "execution_count": 7,
     "metadata": {},
     "output_type": "execute_result"
    }
   ],
   "source": [
    "resampled_img.affine"
   ]
  },
  {
   "cell_type": "markdown",
   "metadata": {},
   "source": [
    "## Concatenate all the imgs"
   ]
  },
  {
   "cell_type": "code",
   "execution_count": 117,
   "metadata": {},
   "outputs": [
    {
     "name": "stderr",
     "output_type": "stream",
     "text": [
      "100%|██████████| 660/660 [00:00<00:00, 812.59it/s]\n"
     ]
    }
   ],
   "source": [
    "from tqdm import tqdm\n",
    "\n",
    "img = nib.load(filenames[0])\n",
    "comspa_img, imgs = [], []\n",
    "for filename in tqdm(filenames):\n",
    "    curr_img = nib.load(filename)\n",
    "    imgs.append(curr_img)\n",
    "    #comspa_img.append(nibabel.processing.resample_from_to(curr_img, img)) \n"
   ]
  },
  {
   "cell_type": "code",
   "execution_count": 118,
   "metadata": {},
   "outputs": [
    {
     "name": "stdout",
     "output_type": "stream",
     "text": [
      "660\n"
     ]
    }
   ],
   "source": [
    "print(len(imgs))"
   ]
  },
  {
   "cell_type": "code",
   "execution_count": 119,
   "metadata": {},
   "outputs": [
    {
     "name": "stderr",
     "output_type": "stream",
     "text": [
      "100%|██████████| 660/660 [00:00<00:00, 509335.90it/s]"
     ]
    },
    {
     "name": "stdout",
     "output_type": "stream",
     "text": [
      "(660, 4, 4)\n"
     ]
    },
    {
     "name": "stderr",
     "output_type": "stream",
     "text": [
      "\n"
     ]
    }
   ],
   "source": [
    "def get_affines(imgs):\n",
    "    affines = []\n",
    "    for img in tqdm(imgs):\n",
    "        affines.append(img.affine)\n",
    "    return np.array(affines)\n",
    "affines = get_affines(imgs)\n",
    "print(affines.shape)    "
   ]
  },
  {
   "cell_type": "markdown",
   "metadata": {},
   "source": [
    "## Histplot affines"
   ]
  },
  {
   "cell_type": "code",
   "execution_count": 12,
   "metadata": {},
   "outputs": [
    {
     "data": {
      "image/png": "[encoded data removed]",
      "text/plain": [
       "<Figure size 1000x1000 with 16 Axes>"
      ]
     },
     "metadata": {},
     "output_type": "display_data"
    }
   ],
   "source": [
    "import matplotlib.pyplot as plt\n",
    "\n",
    "def plot_affines(affines):\n",
    "    fig, axs = plt.subplots(ncols=4,nrows=4, figsize=(10,10))\n",
    "    for i in range(4):\n",
    "        for j in range(4):\n",
    "            axs[i,j].hist(affines[:,i,j])\n",
    "\n",
    "plot_affines(affines)"
   ]
  },
  {
   "cell_type": "markdown",
   "metadata": {},
   "source": [
    "We are in MNI space : origin (0,0,0) at the anterior comissure of the brain.\n",
    "Affine transform matrix histograms indicates :\n",
    "- 0.25 mm resolution for all 3 dimensions\n",
    "- x-plane is switched (left, right) sometimes. hypothesis : this depends strictly on VTA hemisphere.\n",
    "- x-offset might be positive and negative depending on the side\n",
    "- y-offset strictly negative (-25, -15)\n",
    "- z-offset strictly negative (-20, -5)"
   ]
  },
  {
   "cell_type": "markdown",
   "metadata": {},
   "source": [
    "## Switch affines side Left to Right"
   ]
  },
  {
   "cell_type": "code",
   "execution_count": 13,
   "metadata": {},
   "outputs": [
    {
     "name": "stderr",
     "output_type": "stream",
     "text": [
      "100%|██████████| 660/660 [00:00<00:00, 998643.81it/s]\n"
     ]
    },
    {
     "data": {
      "image/png": "[encoded data removed]",
      "text/plain": [
       "<Figure size 1000x1000 with 16 Axes>"
      ]
     },
     "metadata": {},
     "output_type": "display_data"
    }
   ],
   "source": [
    "def switch_side(img):\n",
    "    res = 0.25\n",
    "    return nibabel.processing.resample_to_output(img, voxel_sizes=(res, res, res))\n",
    "\n",
    "imgs = list(map(switch_side, imgs))\n",
    "affines = get_affines(imgs)\n",
    "plot_affines(affines)"
   ]
  },
  {
   "cell_type": "markdown",
   "metadata": {},
   "source": [
    "## Min offset"
   ]
  },
  {
   "cell_type": "code",
   "execution_count": 121,
   "metadata": {},
   "outputs": [],
   "source": [
    "res = 0.25\n",
    "\n",
    "class BBox :\n",
    "    def __init__(self, datas):\n",
    "        self.minx, self.maxx, self.miny, self.maxy, self.minz, self.maxz = [], [], [], [], [], []\n",
    "        for data in datas:\n",
    "            bbox = self.compute_bbox(data)\n",
    "            self.minx.append(bbox[0])\n",
    "            self.maxx.append(bbox[1])\n",
    "            self.miny.append(bbox[2])\n",
    "            self.maxy.append(bbox[3])\n",
    "            self.minz.append(bbox[4])\n",
    "            self.maxz.append(bbox[5])\n",
    "\n",
    "    def compute_bbox(self, data):\n",
    "        shape = data.shape\n",
    "\n",
    "        # x-axis\n",
    "        voxel_sum_x = [np.sum(data[i,:,:]) for i in range(shape[0])]\n",
    "        bbox_min_x = next((index for index, item in enumerate(voxel_sum_x) if item != 0), None)\n",
    "        bbox_max_x = [i for i, slice in enumerate(voxel_sum_x) if slice > 0.0][-1]\n",
    "\n",
    "        # y-axis\n",
    "        voxel_sum_y = [np.sum(data[:,i,:]) for i in range(shape[1])]\n",
    "        bbox_min_y = next((index for index, item in enumerate(voxel_sum_y) if item != 0), None)\n",
    "        bbox_max_y = [i for i, slice in enumerate(voxel_sum_y) if slice > 0.0][-1]\n",
    "\n",
    "        # z-axis\n",
    "        voxel_sum_z = [np.sum(data[:,:,i]) for i in range(shape[2])]\n",
    "        bbox_min_z = next((index for index, item in enumerate(voxel_sum_z) if item != 0), None)\n",
    "        bbox_max_z = [i for i, slice in enumerate(voxel_sum_z) if slice > 0.0][-1]\n",
    "\n",
    "        return (bbox_min_x, bbox_max_x, bbox_min_y, bbox_max_y, bbox_min_z, bbox_max_z)      \n",
    "\n",
    "    def get_max(self, index):\n",
    "        return (self.maxx[index], self.maxy[index], self.maxz[index])\n",
    "\n",
    "    def get_maxs(self):\n",
    "        maxs = np.swapaxes(np.array((self.maxx, self.maxy, self.maxz)), 0, 1)\n",
    "        return maxs\n",
    "    \n",
    "    def get_min(self, index):\n",
    "        return (self.minx[index], self.miny[index], self.minz[index])\n",
    "\n",
    "    def get_mins(self):\n",
    "        mins = np.swapaxes(np.array((self.minx, self.miny, self.minz)), 0, 1)\n",
    "        return mins\n",
    "\n",
    "# binarizing and vectorizing numpy arrays of VTAs\n",
    "datas = []\n",
    "for img in imgs:\n",
    "    # get numpy array of VTA\n",
    "    data = img.get_fdata()\n",
    "\n",
    "    # binarize voxels\n",
    "    data = np.round(data)\n",
    "\n",
    "    datas.append(data)\n"
   ]
  },
  {
   "cell_type": "code",
   "execution_count": null,
   "metadata": {},
   "outputs": [],
   "source": [
    "\n",
    "# computing bounding boxes for each binarized VTA\n",
    "bbox = BBox(datas)\n",
    "\n",
    "# computing furthest point in each axis for each VTA\n",
    "bbox_maxs = bbox.get_maxs()\n",
    "bbox_mins = bbox.get_mins()\n",
    "furthest_points, shortest_points = [], []\n",
    "for affine, bbox_max, bbox_min in zip(affines, bbox_maxs, bbox_mins):\n",
    "    #affine = affine - res\n",
    "    offsets = np.multiply([affine[i,3] for i in range(3)], 1/res)\n",
    "    shortest_points.append(offsets + bbox_min)\n",
    "    \n",
    "min_range_mm = np.min(shortest_points, axis=0)*res\n",
    "new_shape_vox = np.max(bbox_maxs, axis=0)\n"
   ]
  },
  {
   "cell_type": "code",
   "execution_count": 86,
   "metadata": {},
   "outputs": [
    {
     "name": "stdout",
     "output_type": "stream",
     "text": [
      "[  6.25 -18.25 -14.  ] [52 57 68]\n"
     ]
    }
   ],
   "source": [
    "print(min_range_mm, new_shape_vox)"
   ]
  },
  {
   "cell_type": "code",
   "execution_count": 87,
   "metadata": {},
   "outputs": [],
   "source": [
    "res = 0.25\n",
    "new_affine = np.array(\n",
    "    [[res, 0, 0, min_range_mm[0]],\n",
    "     [0, res, 0, min_range_mm[1]],\n",
    "     [0, 0, res, min_range_mm[2]],\n",
    "     [0, 0, 0, 1]]\n",
    ")"
   ]
  },
  {
   "cell_type": "code",
   "execution_count": 88,
   "metadata": {},
   "outputs": [
    {
     "name": "stderr",
     "output_type": "stream",
     "text": [
      "100%|██████████| 660/660 [01:17<00:00,  8.50it/s]\n"
     ]
    }
   ],
   "source": [
    "container_space_vtas = []\n",
    "\n",
    "for img in tqdm(imgs):\n",
    "    container_space_vtas.append(nibabel.processing.resample_from_to(from_img=img, to_vox_map=(new_shape_vox, new_affine)))"
   ]
  },
  {
   "cell_type": "code",
   "execution_count": 89,
   "metadata": {},
   "outputs": [],
   "source": [
    "# binarizing and vectorizing numpy arrays of VTAs\n",
    "cs_datas = []\n",
    "for vta in container_space_vtas:\n",
    "    # get numpy array of VTA\n",
    "    data = vta.get_fdata()\n",
    "\n",
    "    # binarize voxels\n",
    "    data = np.round(data)\n",
    "\n",
    "    cs_datas.append(data)\n",
    "\n",
    "cs_datas = np.array(cs_datas)"
   ]
  },
  {
   "cell_type": "code",
   "execution_count": 60,
   "metadata": {},
   "outputs": [],
   "source": [
    "import scipy\n",
    "import mat73\n",
    "\n",
    "dataset_name = '/Users/jan/Downloads/deepmaps/data/raw/datasets/bern/mapping/flipped/250um.mat'\n",
    "\n",
    "try:\n",
    "    dataset = scipy.io.loadmat(dataset_name)\n",
    "except:\n",
    "    try:\n",
    "        dataset = mat73.loadmat(dataset_name)\n",
    "    except OSError:\n",
    "        print('Could not load mat file with scipy nor mat73 libraries')\n",
    "\n",
    "container_shape = np.array([int(x) for x in np.squeeze(np.array(dataset['container_shape']))])\n",
    "container_affine = np.squeeze(np.array(dataset['container_affine']))\n",
    "VTAs = np.array([np.reshape(i, container_shape, order = 'F') for i in dataset['X']], dtype = np.int8)\n"
   ]
  },
  {
   "cell_type": "code",
   "execution_count": 61,
   "metadata": {},
   "outputs": [
    {
     "data": {
      "text/plain": [
       "array([[  0.25,   0.  ,   0.  ,   6.  ],\n",
       "       [  0.  ,   0.25,   0.  , -18.5 ],\n",
       "       [  0.  ,   0.  ,   0.25, -14.25],\n",
       "       [  0.  ,   0.  ,   0.  ,   1.  ]])"
      ]
     },
     "execution_count": 61,
     "metadata": {},
     "output_type": "execute_result"
    }
   ],
   "source": [
    "container_affine"
   ]
  },
  {
   "cell_type": "code",
   "execution_count": 62,
   "metadata": {},
   "outputs": [
    {
     "data": {
      "text/plain": [
       "(660, 52, 57, 68)"
      ]
     },
     "execution_count": 62,
     "metadata": {},
     "output_type": "execute_result"
    }
   ],
   "source": [
    "VTAs.shape"
   ]
  },
  {
   "cell_type": "code",
   "execution_count": 115,
   "metadata": {},
   "outputs": [
    {
     "data": {
      "text/plain": [
       "(660, 52, 57, 68)"
      ]
     },
     "execution_count": 115,
     "metadata": {},
     "output_type": "execute_result"
    }
   ],
   "source": [
    "cs_datas.shape"
   ]
  },
  {
   "cell_type": "code",
   "execution_count": 96,
   "metadata": {},
   "outputs": [
    {
     "name": "stdout",
     "output_type": "stream",
     "text": [
      "139\n",
      "567\n"
     ]
    }
   ],
   "source": [
    "for n, (dt, vta) in enumerate(zip(cs_datas, VTAs)):\n",
    "    if not(np.array_equal(dt, vta)):\n",
    "        print(n)"
   ]
  },
  {
   "cell_type": "code",
   "execution_count": 68,
   "metadata": {},
   "outputs": [
    {
     "data": {
      "application/vnd.jupyter.widget-view+json": {
       "model_id": "8f4468056856472b80511f6504f881ec",
       "version_major": 2,
       "version_minor": 0
      },
      "text/plain": [
       "interactive(children=(IntSlider(value=0, description='depth', max=67), Output()), _dom_classes=('widget-intera…"
      ]
     },
     "execution_count": 68,
     "metadata": {},
     "output_type": "execute_result"
    }
   ],
   "source": [
    "from ipywidgets import interactive\n",
    "import seaborn as sb\n",
    "\n",
    "image = cs_datas[1] - VTAs[1]\n",
    "\n",
    "def plotting_n_image(depth=0):\n",
    "    data = image[:,:,depth]\n",
    "    ax = sb.heatmap(data, vmax=np.max(image), vmin=np.min(image))\n",
    "    ax.set(title='delta img')\n",
    "    ax.set(xticklabels=[])\n",
    "    ax.set(xlabel=None)\n",
    "    ax.set(yticklabels=[])\n",
    "    ax.set(ylabel=None)\n",
    "\n",
    "interactive_plot = interactive(plotting_n_image, depth = (0,image.shape[2]-1,1))\n",
    "interactive_plot"
   ]
  },
  {
   "cell_type": "code",
   "execution_count": 110,
   "metadata": {},
   "outputs": [
    {
     "data": {
      "text/plain": [
       "array([[27, 26, 39]])"
      ]
     },
     "execution_count": 110,
     "metadata": {},
     "output_type": "execute_result"
    }
   ],
   "source": [
    "diff = cs_datas[567] - VTAs[567]\n",
    "np.argwhere(diff != 0)"
   ]
  },
  {
   "cell_type": "code",
   "execution_count": 116,
   "metadata": {},
   "outputs": [
    {
     "data": {
      "image/png": "[encoded data removed]",
      "text/plain": [
       "<Figure size 640x480 with 2 Axes>"
      ]
     },
     "metadata": {},
     "output_type": "display_data"
    }
   ],
   "source": [
    "image = cs_datas[567] - VTAs[567]\n",
    "depth = 38\n",
    "data = image[:,:,depth]\n",
    "ax = sb.heatmap(data, vmax=np.max(image), vmin=np.min(image))\n",
    "ax.set(xticklabels=[])\n",
    "ax.set(xlabel=None)\n",
    "ax.set(yticklabels=[])\n",
    "ax.set(ylabel=None)\n",
    "plt.show()"
   ]
  },
  {
   "cell_type": "code",
   "execution_count": null,
   "metadata": {},
   "outputs": [],
   "source": []
  }
 ],
 "metadata": {
  "kernelspec": {
   "display_name": "deepmaps",
   "language": "python",
   "name": "python3"
  },
  "language_info": {
   "codemirror_mode": {
    "name": "ipython",
    "version": 3
   },
   "file_extension": ".py",
   "mimetype": "text/x-python",
   "name": "python",
   "nbconvert_exporter": "python",
   "pygments_lexer": "ipython3",
   "version": "3.9.2"
  },
  "orig_nbformat": 4,
  "vscode": {
   "interpreter": {
    "hash": "be2085f3d52d1689282b895b0f6c311a6f61d17fcd8c7a385e78b07c0699eb4e"
   }
  }
 },
 "nbformat": 4,
 "nbformat_minor": 2
}
