{
 "cells": [
  {
   "cell_type": "markdown",
   "metadata": {},
   "source": [
    "# Data Exploration"
   ]
  },
  {
   "cell_type": "markdown",
   "metadata": {},
   "source": [
    "## Import"
   ]
  },
  {
   "cell_type": "code",
   "execution_count": 1,
   "metadata": {},
   "outputs": [],
   "source": [
    "import numpy as np\n",
    "import matplotlib.pyplot as plt\n",
    "import seaborn as sb"
   ]
  },
  {
   "cell_type": "code",
   "execution_count": 9,
   "metadata": {},
   "outputs": [
    {
     "name": "stdout",
     "output_type": "stream",
     "text": [
      "mapping, 250\n",
      "VTAs shape : (660, 52, 57, 68)\n",
      "Voxel number in a VTA: 201,552\n",
      "Total number of voxels: 133,024,320\n",
      "augmented_part, 250\n",
      "VTAs shape : (3570, 52, 57, 68)\n",
      "Voxel number in a VTA: 201,552\n",
      "Total number of voxels: 719,540,640\n",
      "augmented_full, 250\n",
      "VTAs shape : (7425, 58, 66, 83)\n",
      "Voxel number in a VTA: 317,724\n",
      "Total number of voxels: 2,359,100,700\n",
      "mapping, 500\n",
      "VTAs shape : (660, 26, 28, 34)\n",
      "Voxel number in a VTA: 24,752\n",
      "Total number of voxels: 16,336,320\n",
      "augmented_part, 500\n",
      "VTAs shape : (3570, 26, 28, 34)\n",
      "Voxel number in a VTA: 24,752\n",
      "Total number of voxels: 88,364,640\n",
      "augmented_full, 500\n",
      "VTAs shape : (7425, 29, 33, 41)\n",
      "Voxel number in a VTA: 39,237\n",
      "Total number of voxels: 291,334,725\n",
      "mapping, 1000\n",
      "VTAs shape : (660, 13, 14, 16)\n",
      "Voxel number in a VTA: 2,912\n",
      "Total number of voxels: 1,921,920\n",
      "augmented_part, 1000\n",
      "VTAs shape : (3570, 13, 14, 16)\n",
      "Voxel number in a VTA: 2,912\n",
      "Total number of voxels: 10,395,840\n",
      "augmented_full, 1000\n",
      "VTAs shape : (7425, 14, 17, 21)\n",
      "Voxel number in a VTA: 4,998\n",
      "Total number of voxels: 37,110,150\n"
     ]
    }
   ],
   "source": [
    "\n",
    "modes = (\"mapping\", \"augmented_part\", \"augmented_full\")\n",
    "resolutions = (250, 500, 1000)\n",
    "for resolution in resolutions:\n",
    "    for mode in modes:\n",
    "        with np.load(f'/media/brainstimmaps/DATA/2009_DeepMaps01/04_Source/01_Development/deepmaps/data/processed/bern/{mode}/flipped/VTAs/{resolution}um.npz') as f:\n",
    "            X = f['arr_0']\n",
    "        print(f'{mode}, {resolution}')\n",
    "        print(f'VTAs shape : {X.shape}')\n",
    "        print(f'Voxel number in a VTA: {np.prod(X.shape[1:]):,}')\n",
    "        print(f'Total number of voxels: {np.prod(X.shape):,}')\n"
   ]
  },
  {
   "cell_type": "code",
   "execution_count": 8,
   "metadata": {},
   "outputs": [],
   "source": [
    "with np.load('/media/brainstimmaps/DATA/2009_DeepMaps01/04_Source/01_Development/deepmaps/data/processed/augmented_interp_full/bern/flipped/VTAs/250um.npz') as f:\n",
    "    X = f['arr_0']"
   ]
  },
  {
   "cell_type": "code",
   "execution_count": 9,
   "metadata": {},
   "outputs": [
    {
     "name": "stdout",
     "output_type": "stream",
     "text": [
      "X shape : (7425, 58, 66, 83)\n",
      "Voxel number in a VTA: 317,724\n",
      "Total number of voxels: 2,359,100,700\n"
     ]
    }
   ],
   "source": [
    "print(f'X shape : {X.shape}')\n",
    "print(f'Voxel number in a VTA: {np.prod(X.shape[1:]):,}')\n",
    "print(f'Total number of voxels: {np.prod(X.shape):,}')"
   ]
  },
  {
   "cell_type": "code",
   "execution_count": 11,
   "metadata": {},
   "outputs": [
    {
     "name": "stdout",
     "output_type": "stream",
     "text": [
      "[547, 2076, 3029]\n",
      "[547, 3269, 1222, 1223, 3037, 3088, 3027, 252, 3028, 3029, 2076, 253]\n",
      "[2309, 2310, 3088, 660, 661, 2073, 2074, 2075, 1818, 285, 284, 283, 1817, 2076, 547, 1208, 3267, 3268, 3269, 1222, 1223, 2894, 3025, 3026, 3027, 3028, 1493, 1494, 3029, 3284, 3035, 3036, 3037, 3053, 3054, 250, 251, 252, 253]\n"
     ]
    }
   ],
   "source": [
    "resolutions = ('250', '500', '1000')\n",
    "bbox_idx = {}\n",
    "for resolution in resolutions:\n",
    "    with np.load(f'/media/brainstimmaps/DATA/2009_DeepMaps01/04_Source/01_Development/deepmaps/data/processed/augmented_interp_part/bern/flipped/VTAs/{resolution}um.npz') as f:\n",
    "        X = f['arr_0']\n",
    "        \n",
    "    # minX, minY, minZ, maxX, maxY, maxZ\n",
    "    bbox0, bbox1, bbox2, bbox3, bbox4, bbox5 = [], [], [], [], [], []\n",
    "    for i, vta in enumerate(X):\n",
    "        # X [x, y, z]\n",
    "        if vta[0][:][:].flatten().sum():\n",
    "            bbox0.append(i)\n",
    "        if vta[-1][:][:].flatten().sum():\n",
    "            bbox3.append(i)\n",
    "        if vta[:][0].flatten().sum():\n",
    "            bbox1.append(i)\n",
    "        if vta[:][-1].flatten().sum():\n",
    "            bbox4.append(i)\n",
    "        if vta[:][:][0].flatten().sum():\n",
    "            bbox2.append(i)\n",
    "        if vta[:][:][-1].flatten().sum():\n",
    "            bbox5.append(i)\n",
    "    #print(bbox0, bbox1, bbox2, bbox3, bbox4, bbox5)\n",
    "    bbox_buff = list(set(bbox0 + bbox1 + bbox2 + bbox3 + bbox4 + bbox5))\n",
    "    print(bbox_buff)\n",
    "    bbox_idx[resolution] = bbox_buff"
   ]
  },
  {
   "cell_type": "code",
   "execution_count": 20,
   "metadata": {},
   "outputs": [
    {
     "data": {
      "text/plain": [
       "[547, 2076, 3029]"
      ]
     },
     "execution_count": 20,
     "metadata": {},
     "output_type": "execute_result"
    }
   ],
   "source": [
    "\n",
    "table_psm_path = f'/media/brainstimmaps/DATA/2009_DeepMaps01/04_Source/01_Development/deepmaps/data/raw/psm_tables/{dataset_type}/table_psm.csv'"
   ]
  },
  {
   "cell_type": "markdown",
   "metadata": {},
   "source": [
    "## N-image"
   ]
  },
  {
   "cell_type": "code",
   "execution_count": 4,
   "metadata": {},
   "outputs": [
    {
     "ename": "FileNotFoundError",
     "evalue": "[Errno 2] No such file or directory: '../data/processed/augmented/bern/VTAs/250um_n-image.npz'",
     "output_type": "error",
     "traceback": [
      "\u001b[0;31m---------------------------------------------------------------------------\u001b[0m",
      "\u001b[0;31mFileNotFoundError\u001b[0m                         Traceback (most recent call last)",
      "Cell \u001b[0;32mIn [4], line 1\u001b[0m\n\u001b[0;32m----> 1\u001b[0m \u001b[38;5;28;01mwith\u001b[39;00m np\u001b[38;5;241m.\u001b[39mload(\u001b[38;5;124m'\u001b[39m\u001b[38;5;124m../data/processed/augmented/bern/VTAs/250um_n-image.npz\u001b[39m\u001b[38;5;124m'\u001b[39m) \u001b[38;5;28;01mas\u001b[39;00m f:\n\u001b[1;32m      2\u001b[0m     n_image \u001b[38;5;241m=\u001b[39m f[\u001b[38;5;124m'\u001b[39m\u001b[38;5;124marr_0\u001b[39m\u001b[38;5;124m'\u001b[39m]\n\u001b[1;32m      4\u001b[0m n_image\u001b[38;5;241m.\u001b[39mshape\n",
      "File \u001b[0;32m~/RESEARCH/20xx_Projects/2009_DeepMaps01/deepmaps/env/lib/python3.9/site-packages/numpy/lib/npyio.py:390\u001b[0m, in \u001b[0;36mload\u001b[0;34m(file, mmap_mode, allow_pickle, fix_imports, encoding)\u001b[0m\n\u001b[1;32m    388\u001b[0m     own_fid \u001b[39m=\u001b[39m \u001b[39mFalse\u001b[39;00m\n\u001b[1;32m    389\u001b[0m \u001b[39melse\u001b[39;00m:\n\u001b[0;32m--> 390\u001b[0m     fid \u001b[39m=\u001b[39m stack\u001b[39m.\u001b[39menter_context(\u001b[39mopen\u001b[39;49m(os_fspath(file), \u001b[39m\"\u001b[39;49m\u001b[39mrb\u001b[39;49m\u001b[39m\"\u001b[39;49m))\n\u001b[1;32m    391\u001b[0m     own_fid \u001b[39m=\u001b[39m \u001b[39mTrue\u001b[39;00m\n\u001b[1;32m    393\u001b[0m \u001b[39m# Code to distinguish from NumPy binary files and pickles.\u001b[39;00m\n",
      "\u001b[0;31mFileNotFoundError\u001b[0m: [Errno 2] No such file or directory: '../data/processed/augmented/bern/VTAs/250um_n-image.npz'"
     ]
    }
   ],
   "source": [
    "with np.load('../data/processed/augmented/bern/VTAs/250um_n-image.npz') as f:\n",
    "    n_image = f['arr_0']\n",
    "\n",
    "n_image.shape"
   ]
  },
  {
   "cell_type": "code",
   "execution_count": null,
   "metadata": {},
   "outputs": [
    {
     "data": {
      "application/vnd.jupyter.widget-view+json": {
       "model_id": "e911e22c8bb74ce6b25e5d307de33d5d",
       "version_major": 2,
       "version_minor": 0
      },
      "text/plain": [
       "interactive(children=(IntSlider(value=0, description='depth', max=67), Output()), _dom_classes=('widget-intera…"
      ]
     },
     "metadata": {},
     "output_type": "display_data"
    }
   ],
   "source": [
    "from ipywidgets import interactive\n",
    "\n",
    "def plotting_n_image(depth=0):\n",
    "    data = n_image[:,:,depth]\n",
    "    ax = sb.heatmap(data, vmax=np.max(n_image), vmin=np.min(n_image))\n",
    "    ax.set(title='N image')\n",
    "    ax.set(xticklabels=[])\n",
    "    ax.set(xlabel=None)\n",
    "    ax.set(yticklabels=[])\n",
    "    ax.set(ylabel=None)\n",
    "\n",
    "interactive_plot = interactive(plotting_n_image, depth = (0,n_image.shape[2]-1,1))\n",
    "interactive_plot"
   ]
  },
  {
   "cell_type": "markdown",
   "metadata": {},
   "source": [
    "## Chunkified N-image"
   ]
  },
  {
   "cell_type": "code",
   "execution_count": null,
   "metadata": {},
   "outputs": [],
   "source": [
    "def chunkify(n_image, N=4):\n",
    "    x, y, z = n_image.shape\n",
    "    # int division\n",
    "    assert x >= N and y >= N and z >= N, 'Chunks size larger than one of the data dimensions'\n",
    "    x_bins = np.array_split(range(x), N)\n",
    "    y_bins = np.array_split(range(y), N)\n",
    "    z_bins = np.array_split(range(z), N)\n",
    "    \n",
    "    chunks = np.array([np.sum(n_image[x[0]:x[-1], y[0]:y[-1], z[0]:z[-1]]) for x in x_bins\n",
    "    for y in y_bins for z in z_bins])\n",
    "    print(chunks.shape)\n",
    "    chunks = np.reshape(chunks,(N,N,N))\n",
    "    print(chunks.shape, np.prod(chunks.shape))\n",
    "    return chunks\n"
   ]
  },
  {
   "cell_type": "code",
   "execution_count": null,
   "metadata": {},
   "outputs": [
    {
     "name": "stdout",
     "output_type": "stream",
     "text": [
      "(8000,)\n",
      "(20, 20, 20) 8000\n"
     ]
    }
   ],
   "source": [
    "chunks = chunkify(n_image, 20)\n",
    "#print(chunks)"
   ]
  },
  {
   "cell_type": "code",
   "execution_count": null,
   "metadata": {},
   "outputs": [
    {
     "data": {
      "application/vnd.jupyter.widget-view+json": {
       "model_id": "c5b51a498fd7469a9cbc682e6f1c6d99",
       "version_major": 2,
       "version_minor": 0
      },
      "text/plain": [
       "interactive(children=(IntSlider(value=0, description='depth', max=19), Output()), _dom_classes=('widget-intera…"
      ]
     },
     "metadata": {},
     "output_type": "display_data"
    }
   ],
   "source": [
    "def plotting_chunks(depth=0):\n",
    "    data = chunks[:,:,depth]\n",
    "    ax = sb.heatmap(data, vmin=np.min(chunks), vmax=np.max(chunks))\n",
    "    ax.set(title='N image')\n",
    "    ax.set(xticklabels=[])\n",
    "    ax.set(xlabel=None)\n",
    "    ax.set(yticklabels=[])\n",
    "    ax.set(ylabel=None)\n",
    "\n",
    "interactive_plot = interactive(plotting_chunks, depth = (0,chunks.shape[2]-1,1))\n",
    "interactive_plot"
   ]
  },
  {
   "cell_type": "markdown",
   "metadata": {},
   "source": [
    "## Mean-image"
   ]
  },
  {
   "cell_type": "code",
   "execution_count": null,
   "metadata": {},
   "outputs": [
    {
     "data": {
      "text/plain": [
       "(152, 58, 68)"
      ]
     },
     "execution_count": 9,
     "metadata": {},
     "output_type": "execute_result"
    }
   ],
   "source": [
    "with np.load('../data/processed/augmented/bern/VTAs/250um_mean-image.npz') as f:\n",
    "    mean_image = f['arr_0']\n",
    "mean_image.shape"
   ]
  },
  {
   "cell_type": "code",
   "execution_count": 7,
   "metadata": {},
   "outputs": [
    {
     "ename": "NameError",
     "evalue": "name 'mean_image' is not defined",
     "output_type": "error",
     "traceback": [
      "\u001b[0;31m---------------------------------------------------------------------------\u001b[0m",
      "\u001b[0;31mNameError\u001b[0m                                 Traceback (most recent call last)",
      "Cell \u001b[0;32mIn [7], line 2\u001b[0m\n\u001b[1;32m      1\u001b[0m \u001b[38;5;66;03m# measures of dispersion\u001b[39;00m\n\u001b[0;32m----> 2\u001b[0m \u001b[38;5;28mmin\u001b[39m \u001b[38;5;241m=\u001b[39m np\u001b[38;5;241m.\u001b[39mamin(mean_image)\n\u001b[1;32m      3\u001b[0m \u001b[38;5;28mmax\u001b[39m \u001b[38;5;241m=\u001b[39m np\u001b[38;5;241m.\u001b[39mamax(mean_image)\n\u001b[1;32m      4\u001b[0m range_ \u001b[38;5;241m=\u001b[39m np\u001b[38;5;241m.\u001b[39mptp(mean_image)\n",
      "\u001b[0;31mNameError\u001b[0m: name 'mean_image' is not defined"
     ]
    }
   ],
   "source": [
    "# measures of dispersion\n",
    "min = np.amin(mean_image)\n",
    "max = np.amax(mean_image)\n",
    "range_ = np.ptp(mean_image)\n",
    "variance = np.var(mean_image)\n",
    "sd = np.std(mean_image)\n",
    "\n",
    "print(\"Measures of Dispersion\")\n",
    "print(\"Minimum =\", min)\n",
    "print(\"Maximum =\", max)\n",
    "print(\"Range =\", range_)\n",
    "print(\"Variance =\", variance)\n",
    "print(\"Standard Deviation =\", sd)\n",
    "\n",
    "#stats.describe(mean_image)\n"
   ]
  },
  {
   "cell_type": "code",
   "execution_count": 6,
   "metadata": {},
   "outputs": [
    {
     "ename": "NameError",
     "evalue": "name 'interactive' is not defined",
     "output_type": "error",
     "traceback": [
      "\u001b[0;31m---------------------------------------------------------------------------\u001b[0m",
      "\u001b[0;31mNameError\u001b[0m                                 Traceback (most recent call last)",
      "Cell \u001b[0;32mIn [6], line 10\u001b[0m\n\u001b[1;32m      7\u001b[0m     ax\u001b[38;5;241m.\u001b[39mset(yticklabels\u001b[38;5;241m=\u001b[39m[])\n\u001b[1;32m      8\u001b[0m     ax\u001b[38;5;241m.\u001b[39mset(ylabel\u001b[38;5;241m=\u001b[39m\u001b[38;5;28;01mNone\u001b[39;00m)\n\u001b[0;32m---> 10\u001b[0m interactive_plot \u001b[38;5;241m=\u001b[39m interactive(plotting_mean_image, depth \u001b[38;5;241m=\u001b[39m (\u001b[38;5;241m0\u001b[39m,mean_image\u001b[38;5;241m.\u001b[39mshape[\u001b[38;5;241m2\u001b[39m]\u001b[38;5;241m-\u001b[39m\u001b[38;5;241m1\u001b[39m,\u001b[38;5;241m1\u001b[39m))\n\u001b[1;32m     11\u001b[0m interactive_plot\n",
      "\u001b[0;31mNameError\u001b[0m: name 'interactive' is not defined"
     ]
    }
   ],
   "source": [
    "def plotting_mean_image(depth=0):\n",
    "    data = mean_image[:,:,depth]\n",
    "    ax = sb.heatmap(data, vmax=np.max(mean_image), vmin=np.min(mean_image))\n",
    "    ax.set(title='Mean image')\n",
    "    ax.set(xticklabels=[])\n",
    "    ax.set(xlabel=None)\n",
    "    ax.set(yticklabels=[])\n",
    "    ax.set(ylabel=None)\n",
    "\n",
    "interactive_plot = interactive(plotting_mean_image, depth = (0,mean_image.shape[2]-1,1))\n",
    "interactive_plot"
   ]
  },
  {
   "cell_type": "markdown",
   "metadata": {},
   "source": [
    "Mean-image computation is outlier-sensitive."
   ]
  },
  {
   "cell_type": "markdown",
   "metadata": {},
   "source": []
  },
  {
   "cell_type": "code",
   "execution_count": null,
   "metadata": {},
   "outputs": [],
   "source": [
    "\n",
    "modes = (\"mapping\", \"augmented_part\", \"augmented_full\")\n",
    "resolutions = (250, 500, 1000)\n",
    "for resolution in resolutions:\n",
    "    for mode in modes:\n",
    "        with np.load(f'/media/brainstimmaps/DATA/2009_DeepMaps01/04_Source/01_Development/deepmaps/data/processed/bern/{mode}/flipped/VTAs/{resolution}um.npz') as f:\n",
    "            X = f['arr_0']\n",
    "        print(f'{mode}, {resolution}')\n",
    "        \n"
   ]
  }
 ],
 "metadata": {
  "interpreter": {
   "hash": "0af5aadab7963c49b31c0a0c4f1cababea56777d7e2e5ef435c84d1848218a68"
  },
  "kernelspec": {
   "display_name": "Python 3.9.2 ('env': venv)",
   "language": "python",
   "name": "python3"
  },
  "language_info": {
   "codemirror_mode": {
    "name": "ipython",
    "version": 3
   },
   "file_extension": ".py",
   "mimetype": "text/x-python",
   "name": "python",
   "nbconvert_exporter": "python",
   "pygments_lexer": "ipython3",
   "version": "3.9.2"
  },
  "orig_nbformat": 4
 },
 "nbformat": 4,
 "nbformat_minor": 2
}
